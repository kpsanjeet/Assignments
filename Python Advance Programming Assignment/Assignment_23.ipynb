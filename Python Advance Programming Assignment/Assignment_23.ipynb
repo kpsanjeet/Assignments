{
 "cells": [
  {
   "cell_type": "markdown",
   "metadata": {},
   "source": [
    "Question 1:"
   ]
  },
  {
   "cell_type": "raw",
   "metadata": {},
   "source": [
    "Create a class Sudoku that takes a string as an argument. The string will contain the numbers\n",
    "of a regular 9x9 sudoku board left to right and top to\n",
    "bottom, with zeros filling up the empty cells.\n",
    "Attributes\n",
    "An instance of the class Sudoku will have one attribute:\n",
    " - board: a list representing the board, with sublits for each row, with the\n",
    "numbers as integers. Empty cell represented with 0.\n",
    "Methods\n",
    "An instance of the class Sudoku wil have three methods:\n",
    " - get_row(n): will return the row in position n.\n",
    " - get_col(n): will return the column in position n.\n",
    " - get_sqr([n, m]): will return the square in position n if only one argument is given, \n",
    "and the square to which the cell in position (n, m) belongs to if two\n",
    "arguments are given.\n",
    "\n",
    "Example\n",
    "\n",
    "game =\n",
    "Sudoku(\"417950030000000700060007000050009106800600000000003400900005000000430000200701580\")\n",
    "game.board [\n",
    " [4, 1, 7, 9, 5, 0, 0, 3, 0],\n",
    " [0, 0, 0, 0, 0, 0, 7, 0, 0],\n",
    " [0, 6, 0, 0, 0, 7, 0, 0, 0],\n",
    " [0, 5, 0, 0, 0, 9, 1, 0, 6],\n",
    " [8, 0, 0, 6, 0, 0, 0, 0, 0],\n",
    " [0, 0, 0, 0, 0, 3, 4, 0, 0],\n",
    " [9, 0, 0, 0, 0, 5, 0, 0, 0],\n",
    " [0, 0, 0, 4, 3, 0, 0, 0, 0],\n",
    " [2, 0, 0, 7, 0, 1, 5, 8, 0]\n",
    "]\n",
    "game.get_row(0) [4, 1, 7, 9, 5, 0, 0, 3, 0]\n",
    "game.get_col(8) [0, 0, 0, 6, 0, 0, 0, 0, 0]\n",
    "game.get_sqr(1) [9, 5, 0, 0, 0, 0, 0, 0, 7]\n",
    "game.get_sqr(1, 8) [0, 3, 0, 7, 0, 0, 0, 0, 0]\n",
    "game.get_sqr(8, 3) [0, 0, 5, 4, 3, 0, 7, 0, 1]"
   ]
  },
  {
   "cell_type": "markdown",
   "metadata": {},
   "source": [
    "Answer :"
   ]
  },
  {
   "cell_type": "code",
   "execution_count": 93,
   "metadata": {},
   "outputs": [],
   "source": [
    "class Sudoku:\n",
    "    \n",
    "    def __init__(self,board):\n",
    "        if type(board) == str:\n",
    "            self.board = [[int(i) for i in board[j:j+9]] for j in range(0,81,9)]\n",
    "        elif type(board) == list:\n",
    "            self.board = board\n",
    "        \n",
    "    def get_row(self,nrow):\n",
    "        return self.board[nrow]\n",
    "    \n",
    "    def get_col(self,ncol):\n",
    "        tboard = list(map(list,zip(*self.board)))\n",
    "        return tboard[ncol]\n",
    "    \n",
    "    def get_sqr(self,nrow,ncol=None):\n",
    "        \n",
    "        self.dic = {0:((0,3),(0,3)),1:((0,3),(3,6)),2:((0,3),(6,9)),\n",
    "               3:((3,6),(0,3)),4:((3,6),(3,6)),5:((3,6),(6,9)),\n",
    "               6:((6,9),(0,3)),7:((6,9),(3,6)),8:((6,9),(6,9))}\n",
    "        \n",
    "        if ncol == None:\n",
    "            return self._sqr(nrow)\n",
    "        for i in range(9):\n",
    "            row,col = self.dic[i]\n",
    "            if (row[0]<=nrow and nrow<row[1]) and (col[0]<=ncol and ncol<col[1]):\n",
    "                return self._sqr(i)\n",
    "        \n",
    "    def _sqr(self,nrow):\n",
    "        row,col = self.dic[nrow]\n",
    "        sq = []\n",
    "        for i in range(*row):\n",
    "            for j in range(*col):\n",
    "                sq.append(self.board[i][j])\n",
    "        return sq"
   ]
  },
  {
   "cell_type": "code",
   "execution_count": 94,
   "metadata": {},
   "outputs": [
    {
     "data": {
      "text/plain": [
       "[[4, 1, 7, 9, 5, 0, 0, 3, 0],\n",
       " [0, 0, 0, 0, 0, 0, 7, 0, 0],\n",
       " [0, 6, 0, 0, 0, 7, 0, 0, 0],\n",
       " [0, 5, 0, 0, 0, 9, 1, 0, 6],\n",
       " [8, 0, 0, 6, 0, 0, 0, 0, 0],\n",
       " [0, 0, 0, 0, 0, 3, 4, 0, 0],\n",
       " [9, 0, 0, 0, 0, 5, 0, 0, 0],\n",
       " [0, 0, 0, 4, 3, 0, 0, 0, 0],\n",
       " [2, 0, 0, 7, 0, 1, 5, 8, 0]]"
      ]
     },
     "execution_count": 94,
     "metadata": {},
     "output_type": "execute_result"
    }
   ],
   "source": [
    "game = Sudoku(\"417950030000000700060007000050009106800600000000003400900005000000430000200701580\")\n",
    "game.board"
   ]
  },
  {
   "cell_type": "code",
   "execution_count": 97,
   "metadata": {},
   "outputs": [
    {
     "name": "stdout",
     "output_type": "stream",
     "text": [
      "[4, 1, 7, 9, 5, 0, 0, 3, 0]\n",
      "[0, 0, 0, 6, 0, 0, 0, 0, 0]\n",
      "[9, 5, 0, 0, 0, 0, 0, 0, 7]\n",
      "[0, 3, 0, 7, 0, 0, 0, 0, 0]\n",
      "[0, 0, 5, 4, 3, 0, 7, 0, 1]\n"
     ]
    }
   ],
   "source": [
    "print(game.get_row(0))\n",
    "print(game.get_col(8))\n",
    "print(game.get_sqr(1))\n",
    "print(game.get_sqr(1, 8))\n",
    "print(game.get_sqr(8, 3))"
   ]
  },
  {
   "cell_type": "markdown",
   "metadata": {},
   "source": [
    "Question 2:"
   ]
  },
  {
   "cell_type": "raw",
   "metadata": {},
   "source": [
    "The function input is two non-empty linked lists representing two nonnegative integers. \n",
    "The digits are stored in reverse order, and each of their\n",
    "nodes contains a single digit. Add the two numbers and return the sum as a linked list,\n",
    "in which the digits are also stored in reversed order. The class\n",
    "ListNode, building block of the linked list, is defined in the Tests tab.\n",
    "\n",
    "Class definition\n",
    "class ListNode:\n",
    " def __init__(self, val=0, next=None):\n",
    " self.val = val\n",
    " self.next = next\n",
    "Examples\n",
    "lt1 = ListNode(2)\n",
    "lt1.add_data([4, 3])\n",
    "lt2 = ListNode(5)\n",
    "lt2.add_data([6, 4])\n",
    "# print(lt1.get_data()) # [2, 4, 3]\n",
    "# print(lt2.get_data()) # [5, 6, 4]\n",
    "# print(342 + 465) # 807\n",
    "add_two_numbers(lt1, lt2).get_data() [7, 0, 8]\n",
    "lt1 = ListNode(0)\n",
    "lt2 = ListNode(0)\n",
    "# print(lt1.get_data()) # [0]\n",
    "# print(lt2.get_data()) # [0]\n",
    "# print(0 + 0) # 0\n",
    "add_two_numbers(lt1, lt2).get_data() [0]\n",
    "lt1 = ListNode(9)\n",
    "lt1.add_data([9,9,9,9,9,9])\n",
    "lt2 = ListNode(9)\n",
    "lt2.add_data([9,9,9])\n",
    "# print(lt1.get_data()) # [9, 9, 9, 9, 9, 9, 9]\n",
    "# print(lt2.get_data()) # [9, 9, 9, 9]\n",
    "# print(9999999 + 9999) # 10009998\n",
    "add_two_numbers(lt1, lt2).get_data() [8, 9, 9, 9, 0, 0, 0, 1]"
   ]
  },
  {
   "cell_type": "markdown",
   "metadata": {},
   "source": [
    "Answer :"
   ]
  },
  {
   "cell_type": "code",
   "execution_count": 143,
   "metadata": {},
   "outputs": [],
   "source": [
    "class ListNode:\n",
    "    def __init__(self,val=0,next=None):\n",
    "        self.val = val\n",
    "        self.next = None\n",
    "    \n",
    "    def add_data(self,l1):\n",
    "        self.l1 = l1\n",
    "        \n",
    "class add_two_numbers:\n",
    "    def __init__(self, obj1, obj2):\n",
    "        self.obj1 = obj1\n",
    "        self.obj2 = obj2\n",
    "        \n",
    "    def get_data(self):\n",
    "        \n",
    "        if self.obj1.val==0 or self.obj2.val == 0:\n",
    "            return [0]\n",
    "        self.obj1.l1.insert(0,self.obj1.val)\n",
    "        self.obj2.l1.insert(0,self.obj2.val)\n",
    "        n1 = int(\"\".join([str(i) for i in self.obj1.l1[::-1]]))\n",
    "        n2 = int(\"\".join([str(i) for i in self.obj2.l1[::-1]]))\n",
    "        return [int(i) for i in str(n1+n2)[::-1]]"
   ]
  },
  {
   "cell_type": "code",
   "execution_count": 144,
   "metadata": {},
   "outputs": [
    {
     "data": {
      "text/plain": [
       "[7, 0, 8]"
      ]
     },
     "execution_count": 144,
     "metadata": {},
     "output_type": "execute_result"
    }
   ],
   "source": [
    "lt1 = ListNode(2)\n",
    "lt1.add_data([4, 3])\n",
    "lt2 = ListNode(5)\n",
    "lt2.add_data([6, 4])\n",
    "add_two_numbers(lt1, lt2).get_data()"
   ]
  },
  {
   "cell_type": "code",
   "execution_count": 145,
   "metadata": {},
   "outputs": [
    {
     "data": {
      "text/plain": [
       "[8, 9, 9, 9, 0, 0, 0, 1]"
      ]
     },
     "execution_count": 145,
     "metadata": {},
     "output_type": "execute_result"
    }
   ],
   "source": [
    "lt1 = ListNode(9)\n",
    "lt1.add_data([9,9,9,9,9,9])\n",
    "lt2 = ListNode(9)\n",
    "lt2.add_data([9,9,9])\n",
    "# print(lt1.get_data()) # [9, 9, 9, 9, 9, 9, 9]\n",
    "# print(lt2.get_data()) # [9, 9, 9, 9]\n",
    "# print(9999999 + 9999) # 10009998\n",
    "add_two_numbers(lt1, lt2).get_data()"
   ]
  },
  {
   "cell_type": "code",
   "execution_count": 147,
   "metadata": {},
   "outputs": [
    {
     "data": {
      "text/plain": [
       "0"
      ]
     },
     "execution_count": 147,
     "metadata": {},
     "output_type": "execute_result"
    }
   ],
   "source": [
    "lt1 = ListNode(0)\n",
    "lt2 = ListNode(0)\n",
    "# print(lt1.get_data()) # [0]\n",
    "# print(lt2.get_data()) # [0]\n",
    "# print(0 + 0) # 0\n",
    "add_two_numbers(lt1, lt2).get_data() [0]"
   ]
  },
  {
   "cell_type": "markdown",
   "metadata": {},
   "source": [
    "Question 3:"
   ]
  },
  {
   "cell_type": "raw",
   "metadata": {},
   "source": [
    " Write a class called CoffeeShop, which has three instance variables:\n",
    " 1. name : a string (basically, of the shop)\n",
    " 2. menu : a list of items (of dict type), with each item containing the item\n",
    "    (name of the item), type (whether a food or a drink) and price.\n",
    " 3. orders : an empty list\n",
    "    \n",
    "and seven methods:\n",
    " 1. add_order: adds the name of the item to the end of the orders list if it\n",
    "     exists on the menu, otherwise, return \"This item is currently unavailable!\" 2. fulfill_order: if the orders list is not empty, return \"The {item} is ready!\". If the orders list is empty, return \"All orders have been fulfilled!\"\n",
    " 3. list_orders: returns the item names of the orders taken, otherwise, an\n",
    "    empty list.\n",
    " 4. due_amount: returns the total amount due for the orders taken.\n",
    " 5. cheapest_item: returns the name of the cheapest item on the menu.\n",
    " 6. drinks_only: returns only the item names of type drink from the menu.\n",
    " 7. food_only: returns only the item names of type food from the menu.\n",
    "    \n",
    "IMPORTANT: Orders are fulfilled in a FIFO (first-in, first-out) order. Examples\n",
    "tcs.add_order(\"hot cocoa\") \"This item is currently unavailable!\"\n",
    "# Tesha's coffee shop does not sell hot cocoa\n",
    "tcs.add_order(\"iced tea\") \"This item is currently unavailable!\"\n",
    "# specifying the variant of \"iced tea\" will help the process\n",
    "tcs.add_order(\"cinnamon roll\") \"Order added!\"\n",
    "tcs.add_order(\"iced coffee\") \"Order added!\"\n",
    "tcs.list_orders [\"cinnamon roll\", \"iced coffee\"]\n",
    "# all items of the current order\n",
    "tcs.due_amount() 2.17\n",
    "tcs.fulfill_order() \"The cinnamon roll is ready!\"\n",
    "tcs.fulfill_order() \"The iced coffee is ready!\"\n",
    "tcs.fulfill_order() \"All orders have been fulfilled!\"\n",
    "# all orders have been presumably served\n",
    "tcs.list_orders() []\n",
    "# an empty list is returned if all orders have been exhausted\n",
    "tcs.due_amount() 0.0\n",
    "# no new orders taken, expect a zero payable\n",
    "tcs.cheapest_item() \"lemonade\"\n",
    "tcs.drinks_only() [\"orange juice\", \"lemonade\", \"cranberry juice\", \"pineapple juice\", \"lemon iced tea\", \"vanilla chai latte\", \"hot chocolate\", \"iced coffee\"]\n",
    "tcs.food_only() [\"tuna sandwich\", \"ham and cheese sandwich\", \"bacon and egg\", \"steak\", \"hamburger\", \"cinnamon roll\"]"
   ]
  },
  {
   "cell_type": "markdown",
   "metadata": {},
   "source": [
    "Answer :"
   ]
  },
  {
   "cell_type": "code",
   "execution_count": 268,
   "metadata": {},
   "outputs": [],
   "source": [
    "menu = {\"drinks_only\":{  \"orange juice\":\"price 1\", \n",
    "                         \"lemonade\":\"price 2\", \n",
    "                         \"cranberry juice\":\"price 3\", \n",
    "                         \"pineapple juice\":\"price 4\",\n",
    "                         \"lemon iced tea\":\"price 3\", \n",
    "                         \"vanilla chai latte\":\"price 4\", \n",
    "                         \"hot chocolate\":\"price 2\", \n",
    "                         \"iced coffee\":\"price 3\"},\n",
    "        \n",
    "        \"food_only\":{    \"tuna sandwich\":\"price 2\", \n",
    "                         \"ham and cheese sandwich\":\"price 4\",\n",
    "                         \"bacon and egg\":\"price 3\", \n",
    "                         \"steak\":\"price 2\", \n",
    "                         \"hamburger\":\"price `3\",\n",
    "                         \"cinnamon roll\":\"price 2\"}}"
   ]
  },
  {
   "cell_type": "code",
   "execution_count": 283,
   "metadata": {},
   "outputs": [],
   "source": [
    "import re\n",
    "import copy\n",
    "\n",
    "class CoffeeShop:\n",
    "    def __init__(self, name, menu={}, orders=[]):\n",
    "        self.name = name\n",
    "        self.menu = menu\n",
    "        self.orders = orders\n",
    "        self.iter = iter(orders)\n",
    "        \n",
    "    def add_order(self,item):\n",
    "        \n",
    "        menu = {**self.menu[\"drinks_only\"],**self.menu[\"food_only\"]}\n",
    "        if item in menu.keys():\n",
    "            self.orders.append(item)\n",
    "            return \"Order added!\"\n",
    "        else:\n",
    "            return \"This item is currently unavailable!\"\n",
    "    \n",
    "    def fulfill_order(self):\n",
    "        \n",
    "        item = next(copy.copy(self.iter), 'end')\n",
    "        if item == 'end':\n",
    "            return \"All orders have been fulfilled!\"\n",
    "        else:\n",
    "            self.orders.remove(item)\n",
    "            return f\"The {item} is ready!\"\n",
    "        \n",
    "    def list_orders(self):\n",
    "        return self.orders\n",
    "    \n",
    "    def due_amount(self):\n",
    "        tot_price = 0\n",
    "        menu = {**self.menu[\"drinks_only\"],**self.menu[\"food_only\"]}\n",
    "        for item in self.orders:\n",
    "            tot_price += int(re.findall(\"\\d+\", menu[item])[0])\n",
    "        return tot_price\n",
    "            \n",
    "        pass\n",
    "    \n",
    "    def cheapest_item(self):\n",
    "        menu = {**self.menu[\"drinks_only\"],**self.menu[\"food_only\"]}\n",
    "        prices = sorted(menu.items(),key=lambda x:x[1])\n",
    "        return prices[0][0]\n",
    "    \n",
    "    def drinks_only(self):\n",
    "        return list(self.menu[\"drinks_only\"].keys())\n",
    "    \n",
    "    def food_only(self):\n",
    "        return list(self.menu[\"food_only\"].keys())"
   ]
  },
  {
   "cell_type": "code",
   "execution_count": 284,
   "metadata": {},
   "outputs": [
    {
     "name": "stdout",
     "output_type": "stream",
     "text": [
      "This item is currently unavailable!\n",
      "Order added!\n",
      "Order added!\n",
      "['cinnamon roll', 'iced coffee']\n",
      "5\n",
      "The cinnamon roll is ready!\n",
      "The iced coffee is ready!\n",
      "All orders have been fulfilled!\n",
      "[]\n",
      "0\n",
      "orange juice\n",
      "['orange juice', 'lemonade', 'cranberry juice', 'pineapple juice', 'lemon iced tea', 'vanilla chai latte', 'hot chocolate', 'iced coffee']\n",
      "['tuna sandwich', 'ham and cheese sandwich', 'bacon and egg', 'steak', 'hamburger', 'cinnamon roll']\n"
     ]
    }
   ],
   "source": [
    "tcs = CoffeeShop(name= \"abcd\",menu=menu)\n",
    "print(tcs.add_order(\"hot cocoa\"))\n",
    "print(tcs.add_order(\"cinnamon roll\"))\n",
    "print(tcs.add_order(\"iced coffee\"))\n",
    "print(tcs.list_orders())\n",
    "print(tcs.due_amount())\n",
    "print(tcs.fulfill_order())\n",
    "print(tcs.fulfill_order())\n",
    "print(tcs.fulfill_order())\n",
    "print(tcs.list_orders())\n",
    "print(tcs.due_amount())\n",
    "print(tcs.cheapest_item())\n",
    "print(tcs.drinks_only())\n",
    "print(tcs.food_only())"
   ]
  },
  {
   "cell_type": "markdown",
   "metadata": {},
   "source": [
    "Question 4:"
   ]
  },
  {
   "cell_type": "raw",
   "metadata": {},
   "source": [
    "In this challenge, write a funcion loneliest_number to find the last Lonely number inside a sequence. A number is Lonely if the distance from its closest Prime sets a new record of the sequence.\n",
    "Sequence = from 0 to 3\n",
    "# Any number lower than 3 doesn't have a Prime preceeding it...\n",
    "# ...so that you'll consider only its next closest Prime.\n",
    "0 has distance 2 from its closest Prime (2)\n",
    "# It's a new record! 0 It's the first lonely number of the sequence1 has distance 1 from its closest Prime (2)\n",
    "2 has distance 1 from 3\n",
    "3 has distance 1 from 2\n",
    "# The sequence 0 to 3 has only one Lonely number: 0\n",
    "Sequence = Numbers from 5 to 10\n",
    "5 has distance 2 from its closest Prime (3 or 7)\n",
    "# It's a new record! 5 It's the first lonely number of the sequence6 has distance 1 from 5 or 7\n",
    "7 has distance 2 from 5\n",
    "8 has distance 1 from 7\n",
    "9 has distance 2 from 7 or 11\n",
    "10 has distance 1 from 11\n",
    "# The sequence 5 to 10 has only one Lonely number: 5\n",
    "Sequence = Numbers from 19 to 24\n",
    "19 has distance 2 from its closest Prime (17)\n",
    "# It's a new record! 19 It's the first lonely number of the sequence20 has distance 1 from 19\n",
    "21 has distance 2 from 5\n",
    "22 has distance 1 from 23\n",
    "23 has distance 4 from 17 or 29\n",
    "# It's a new record! 23 is the second lonely number of the sequence24 has distance 1 from 23\n",
    "# The sequence 19 to 24 has two Lonely numbers: 19 and 23\n",
    "The function loneliest_number must accept two integers lo and hi being the inclusive bounds of the sequence to analyze, and returns a dictionay (dict)\n",
    "object with the following keys and values:\n",
    " - number: is the last Lonely number found in the given sequence;\n",
    " - distance: is the distance of the number from its closest Prime;\n",
    " - closest: is the Prime closest to number (if two Primes are equally distant from number, return the higher Prime).\n",
    "Examples\n",
    "loneliest_number(0, 22) {\n",
    " number: 0, distance: 2, closest: 2\n",
    "}\n",
    "loneliest_number(8, 123) {\n",
    " number: 53, distance: 6, closest: 59\n",
    "}\n",
    "loneliest_number(938, 1190) {\n",
    " number: 1140, distance: 11, closest: 1151\n",
    "}\n",
    "loneliest_number(120, 1190) {\n",
    " number: 211, distance: 12, closest: 223\n",
    "}"
   ]
  },
  {
   "cell_type": "markdown",
   "metadata": {},
   "source": [
    "Answer :"
   ]
  },
  {
   "cell_type": "code",
   "execution_count": 38,
   "metadata": {},
   "outputs": [],
   "source": [
    "def isPrime(n):\n",
    "    if n <= 1:\n",
    "        return False\n",
    " \n",
    "    for i in range(2, int(n**(1/2))+1):\n",
    "        if n % i == 0:\n",
    "            return False\n",
    "    return True\n",
    "\n",
    "def closestPrime(n):\n",
    "    cn1 = n-1\n",
    "    cn2 = n+1\n",
    "    while True:\n",
    "        if isPrime(cn2):\n",
    "            return cn2\n",
    "        if isPrime(cn1):\n",
    "            return cn1\n",
    "        cn1 -= 1\n",
    "        cn2 += 1\n",
    "        \n",
    "def loneliest_number(n1,n2):\n",
    "    dict_ = {\"number\": 0, \"distance\": 0, \"closest\": 0}\n",
    "    for i in range(n1,n2+1):\n",
    "        closest = closestPrime(i)\n",
    "        if abs(i-closest)>dict_[\"distance\"]:\n",
    "            dict_[\"number\"] = i\n",
    "            dict_[\"distance\"] = abs(i-closest)\n",
    "            dict_[\"closest\"] = closest\n",
    "    return dict_"
   ]
  },
  {
   "cell_type": "code",
   "execution_count": 43,
   "metadata": {},
   "outputs": [
    {
     "name": "stdout",
     "output_type": "stream",
     "text": [
      "{'number': 0, 'distance': 2, 'closest': 2}\n",
      "{'number': 0, 'distance': 2, 'closest': 2}\n",
      "{'number': 23, 'distance': 4, 'closest': 19}\n",
      "{'number': 120, 'distance': 7, 'closest': 127}\n",
      "{'number': 1140, 'distance': 11, 'closest': 1151}\n",
      "{'number': 211, 'distance': 12, 'closest': 223}\n"
     ]
    }
   ],
   "source": [
    "print(loneliest_number(0, 3))\n",
    "print(loneliest_number(0, 22))\n",
    "print(loneliest_number(19, 24))\n",
    "print(loneliest_number(8, 123))\n",
    "print(loneliest_number(938, 1190))\n",
    "print(loneliest_number(120, 1190))"
   ]
  },
  {
   "cell_type": "markdown",
   "metadata": {},
   "source": [
    "Question 5:"
   ]
  },
  {
   "cell_type": "code",
   "execution_count": null,
   "metadata": {},
   "outputs": [],
   "source": [
    "Implement a class Selfie that can store the current state of the object in the\n",
    "form of binary string. It can take multiple pictures and then recover to a state\n",
    "it was before. During testing an object will be provided with new attributes and\n",
    "their values. It will store its state. Then the values will be changed. Then it will\n",
    "be given new attributes. It will store its state again. It will be repeated few\n",
    "times.\n",
    "Later the states of the object will be recovered given an index. The return\n",
    "value should be a new Selfie with the requested historic state and the state\n",
    "history of the new object should be updated with a copy of current object's\n",
    "state history.\n",
    "The object also knows how many states it has stored. If the index is not within\n",
    "the range of stored states, the object stays as is. If the argument is invalid, n\n",
    "< 0 or n >= self.n_states(), the current object (or a copy thereof) should be\n",
    "returned.\n",
    "Examples\n",
    "p = Selfie()\n",
    "p.x = 2\n",
    "p.save_state()\n",
    "p.x = 5\n",
    "p = p.recover_state(0)\n",
    "p.x 2"
   ]
  },
  {
   "cell_type": "code",
   "execution_count": null,
   "metadata": {},
   "outputs": [],
   "source": []
  },
  {
   "cell_type": "code",
   "execution_count": null,
   "metadata": {},
   "outputs": [],
   "source": []
  }
 ],
 "metadata": {
  "kernelspec": {
   "display_name": "Python 3",
   "language": "python",
   "name": "python3"
  },
  "language_info": {
   "codemirror_mode": {
    "name": "ipython",
    "version": 3
   },
   "file_extension": ".py",
   "mimetype": "text/x-python",
   "name": "python",
   "nbconvert_exporter": "python",
   "pygments_lexer": "ipython3",
   "version": "3.8.0"
  },
  "varInspector": {
   "cols": {
    "lenName": 16,
    "lenType": 16,
    "lenVar": 40
   },
   "kernels_config": {
    "python": {
     "delete_cmd_postfix": "",
     "delete_cmd_prefix": "del ",
     "library": "var_list.py",
     "varRefreshCmd": "print(var_dic_list())"
    },
    "r": {
     "delete_cmd_postfix": ") ",
     "delete_cmd_prefix": "rm(",
     "library": "var_list.r",
     "varRefreshCmd": "cat(var_dic_list()) "
    }
   },
   "types_to_exclude": [
    "module",
    "function",
    "builtin_function_or_method",
    "instance",
    "_Feature"
   ],
   "window_display": false
  }
 },
 "nbformat": 4,
 "nbformat_minor": 4
}
