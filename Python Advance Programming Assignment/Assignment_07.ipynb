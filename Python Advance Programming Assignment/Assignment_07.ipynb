{
 "cells": [
  {
   "cell_type": "markdown",
   "metadata": {},
   "source": [
    "Question 1:"
   ]
  },
  {
   "cell_type": "raw",
   "metadata": {},
   "source": [
    "Write a function that counts how many concentric layers a rug.\n",
    "\n",
    "Examples\n",
    "\n",
    "count_layers([\n",
    " \"AAAA\",\n",
    " \"ABBA\",\n",
    " \"AAAA\"\n",
    "]) 2\n",
    "\n",
    "count_layers([\n",
    " \"AAAAAAAAA\",\n",
    " \"ABBBBBBBA\",\n",
    " \"ABBAAABBA\",\n",
    " \"ABBBBBBBA\",\n",
    " \"AAAAAAAAA\"\n",
    "]) 3\n",
    "\n",
    "count_layers([\n",
    " \"AAAAAAAAAAA\",\n",
    " \"AABBBBBBBAA\",\n",
    " \"AABCCCCCBAA\",\n",
    " \"AABCAAACBAA\",\n",
    " \"AABCADACBAA\",\n",
    " \"AABCAAACBAA\",\n",
    " \"AABCCCCCBAA\",\n",
    " \"AABBBBBBBAA\",\n",
    " \"AAAAAAAAAAA\"\n",
    "]) 5"
   ]
  },
  {
   "cell_type": "markdown",
   "metadata": {},
   "source": [
    "Answer :"
   ]
  },
  {
   "cell_type": "code",
   "execution_count": 1,
   "metadata": {},
   "outputs": [
    {
     "name": "stdout",
     "output_type": "stream",
     "text": [
      "2\n",
      "3\n",
      "5\n"
     ]
    }
   ],
   "source": [
    "def count_layers(lst):\n",
    "    return len(lst)//2 + 1\n",
    "\n",
    "\n",
    "print(count_layers([\n",
    " \"AAAA\",\n",
    " \"ABBA\",\n",
    " \"AAAA\"\n",
    "]))\n",
    "print(count_layers([\n",
    " \"AAAAAAAAA\",\n",
    " \"ABBBBBBBA\",\n",
    " \"ABBAAABBA\",\n",
    " \"ABBBBBBBA\",\n",
    " \"AAAAAAAAA\"\n",
    "]))\n",
    "print(count_layers([\n",
    " \"AAAAAAAAAAA\",\n",
    " \"AABBBBBBBAA\",\n",
    " \"AABCCCCCBAA\",\n",
    " \"AABCAAACBAA\",\n",
    " \"AABCADACBAA\",\n",
    " \"AABCAAACBAA\",\n",
    " \"AABCCCCCBAA\",\n",
    " \"AABBBBBBBAA\",\n",
    " \"AAAAAAAAAAA\"\n",
    "]))"
   ]
  },
  {
   "cell_type": "markdown",
   "metadata": {},
   "source": [
    "Question 2:"
   ]
  },
  {
   "cell_type": "raw",
   "metadata": {},
   "source": [
    "There are many different styles of music and many albums exhibit multiple styles.\n",
    "Create a function that takes a list of musical styles from albums and returns how many styles are unique.\n",
    "\n",
    "Examples\n",
    "\n",
    "unique_styles([\n",
    " \"Dub,Dancehall\",\n",
    " \"Industrial,Heavy Metal\",\n",
    " \"Techno,Dubstep\",\n",
    " \"Synth-pop,Euro-Disco\",\n",
    " \"Industrial,Techno,Minimal\"\n",
    "]) 9\n",
    "\n",
    "unique_styles([\n",
    " \"Soul\",\n",
    " \"House,Folk\",\n",
    " \"Trance,Downtempo,Big Beat,House\",\n",
    " \"Deep House\",\n",
    " \"Soul\"\n",
    "]) 7"
   ]
  },
  {
   "cell_type": "markdown",
   "metadata": {},
   "source": [
    "Answer :"
   ]
  },
  {
   "cell_type": "code",
   "execution_count": 23,
   "metadata": {},
   "outputs": [
    {
     "name": "stdout",
     "output_type": "stream",
     "text": [
      "9\n",
      "7\n"
     ]
    }
   ],
   "source": [
    "def unique_styles(lst):\n",
    "    str_ = \",\".join(lst)\n",
    "    return len(set(str_.split(\",\")))\n",
    "\n",
    "print(unique_styles([\n",
    " \"Dub,Dancehall\",\n",
    " \"Industrial,Heavy Metal\",\n",
    " \"Techno,Dubstep\",\n",
    " \"Synth-pop,Euro-Disco\",\n",
    " \"Industrial,Techno,Minimal\"\n",
    "]))\n",
    "\n",
    "print(unique_styles([\n",
    " \"Soul\",\n",
    " \"House,Folk\",\n",
    " \"Trance,Downtempo,Big Beat,House\",\n",
    " \"Deep House\",\n",
    " \"Soul\"\n",
    "]))\n"
   ]
  },
  {
   "cell_type": "markdown",
   "metadata": {},
   "source": [
    "Question 3:"
   ]
  },
  {
   "cell_type": "raw",
   "metadata": {},
   "source": [
    "Create a function that finds a target number in a list of prime numbers.\n",
    "Implement a binary search algorithm in your function. The target number will be from 2 through 97.\n",
    "If the target is prime then return \"yes\" else return \"no\".\n",
    "\n",
    "Examples\n",
    "\n",
    "primes = [2, 3, 5, 7, 11, 13, 17, 19, 23, 29, 31, 37, 41, 43, 47, 53, 59, 61, 67, 71, 73, 79, 83, 89, 97]\n",
    "is_prime(primes, 3) \"yes\"\n",
    "is_prime(primes, 4) \"no\"\n",
    "is_prime(primes, 67) \"yes\"\n",
    "is_prime(primes, 36) \"no\""
   ]
  },
  {
   "cell_type": "markdown",
   "metadata": {},
   "source": [
    "Answer :"
   ]
  },
  {
   "cell_type": "code",
   "execution_count": 25,
   "metadata": {},
   "outputs": [
    {
     "name": "stdout",
     "output_type": "stream",
     "text": [
      "yes\n",
      "no\n",
      "yes\n",
      "no\n"
     ]
    }
   ],
   "source": [
    "def is_prime(list_, x):\n",
    "    low = 0\n",
    "    high = len(list_) - 1\n",
    "    mid = 0\n",
    " \n",
    "    while low <= high:\n",
    "        mid = (high + low) // 2\n",
    "        if list_[mid] < x:\n",
    "            low = mid + 1\n",
    " \n",
    "        elif list_[mid] > x:\n",
    "            high = mid - 1\n",
    "        else:\n",
    "            return \"yes\"\n",
    "    return \"no\"\n",
    "\n",
    "primes = [2, 3, 5, 7, 11, 13, 17, 19, 23, 29, 31, 37, 41, 43, 47, 53, 59, 61, 67, 71, 73, 79, 83, 89, 97]\n",
    "\n",
    "print(is_prime(primes,3))\n",
    "print(is_prime(primes,4))\n",
    "print(is_prime(primes,67))\n",
    "print(is_prime(primes,36))"
   ]
  },
  {
   "cell_type": "markdown",
   "metadata": {},
   "source": [
    "Question :4"
   ]
  },
  {
   "cell_type": "raw",
   "metadata": {},
   "source": [
    "Create a function that takes in n, a, b and returns the number of positive values \n",
    "raised to the nth power that lie in the range [a, b], inclusive.\n",
    "\n",
    "Examples\n",
    "\n",
    "power_ranger(2, 49, 65) 2\n",
    "# 2 squares (n^2) lie between 49 and 65, 49 (7^2) and 64 (8^2)\n",
    "power_ranger(3, 1, 27) 3\n",
    "# 3 cubes (n^3) lie between 1 and 27, 1 (1^3), 8 (2^3) and 27 (3^3)\n",
    "power_ranger(10, 1, 5) 1\n",
    "# 1 value raised to the 10th power lies between 1 and 5, 1 (1^10)\n",
    "power_ranger(5, 31, 33) 1\n",
    "power_ranger(4, 250, 1300) 3"
   ]
  },
  {
   "cell_type": "markdown",
   "metadata": {},
   "source": [
    "Answer :"
   ]
  },
  {
   "cell_type": "code",
   "execution_count": 35,
   "metadata": {},
   "outputs": [
    {
     "name": "stdout",
     "output_type": "stream",
     "text": [
      "2\n",
      "3\n",
      "1\n",
      "1\n",
      "3\n"
     ]
    }
   ],
   "source": [
    "from math import sqrt\n",
    "\n",
    "def power_ranger(n,a,b):\n",
    "    count_ = 0\n",
    "    for i in range(a,b+1):\n",
    "        if (i**(1/n)-int(i**(1/n))) == 0:\n",
    "            count_ += 1\n",
    "    return count_\n",
    "\n",
    "print(power_ranger(2, 49, 65))\n",
    "print(power_ranger(3, 1, 27))\n",
    "print(power_ranger(10, 1, 5))\n",
    "print(power_ranger(5, 31, 33))\n",
    "print(power_ranger(4, 250, 1300))"
   ]
  },
  {
   "cell_type": "markdown",
   "metadata": {},
   "source": [
    "Question 5:"
   ]
  },
  {
   "cell_type": "raw",
   "metadata": {},
   "source": [
    "Given a number, return the difference between the maximum and minimum numbers \n",
    "that can be formed when the digits are rearranged.\n",
    "\n",
    "Examples\n",
    "\n",
    "rearranged_difference(972882) 760833\n",
    "# 988722 - 227889 = 760833\n",
    "rearranged_difference(3320707) 7709823\n",
    "# 7733200 - 23377 = 7709823\n",
    "rearranged_difference(90010) 90981\n",
    "# 91000 - 19 = 90981"
   ]
  },
  {
   "cell_type": "markdown",
   "metadata": {},
   "source": [
    "Answer :"
   ]
  },
  {
   "cell_type": "code",
   "execution_count": 61,
   "metadata": {},
   "outputs": [
    {
     "name": "stdout",
     "output_type": "stream",
     "text": [
      "760833\n",
      "7709823\n",
      "90981\n"
     ]
    }
   ],
   "source": [
    "def rearranged_difference(num):\n",
    "    asc = \"\".join(sorted(st := str(num)))\n",
    "    desc = \"\".join(sorted(st,reverse=True))\n",
    "    return int(desc)-int(asc)\n",
    " \n",
    "print(rearranged_difference(972882))\n",
    "print(rearranged_difference(3320707))\n",
    "print(rearranged_difference(90010))"
   ]
  },
  {
   "cell_type": "code",
   "execution_count": null,
   "metadata": {},
   "outputs": [],
   "source": []
  }
 ],
 "metadata": {
  "kernelspec": {
   "display_name": "Python 3",
   "language": "python",
   "name": "python3"
  },
  "language_info": {
   "codemirror_mode": {
    "name": "ipython",
    "version": 3
   },
   "file_extension": ".py",
   "mimetype": "text/x-python",
   "name": "python",
   "nbconvert_exporter": "python",
   "pygments_lexer": "ipython3",
   "version": "3.8.0"
  },
  "varInspector": {
   "cols": {
    "lenName": 16,
    "lenType": 16,
    "lenVar": 40
   },
   "kernels_config": {
    "python": {
     "delete_cmd_postfix": "",
     "delete_cmd_prefix": "del ",
     "library": "var_list.py",
     "varRefreshCmd": "print(var_dic_list())"
    },
    "r": {
     "delete_cmd_postfix": ") ",
     "delete_cmd_prefix": "rm(",
     "library": "var_list.r",
     "varRefreshCmd": "cat(var_dic_list()) "
    }
   },
   "types_to_exclude": [
    "module",
    "function",
    "builtin_function_or_method",
    "instance",
    "_Feature"
   ],
   "window_display": false
  }
 },
 "nbformat": 4,
 "nbformat_minor": 4
}
