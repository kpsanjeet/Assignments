{
 "cells": [
  {
   "cell_type": "markdown",
   "metadata": {},
   "source": [
    "Question 1:"
   ]
  },
  {
   "cell_type": "raw",
   "metadata": {},
   "source": [
    "YouTube offers different playback speed options for users. This allows\n",
    "users to increase or decrease the speed of the video content. Given the\n",
    "actual duration and playback speed of the video, calculate the playback\n",
    "duration of the video.\n",
    "\n",
    "Examples\n",
    "\n",
    "playback_duration(\"00:30:00\", 2) \"00:15:00\"\n",
    "playback_duration(\"01:20:00\", 1.5) \"00:53:20\"\n",
    "playback_duration(\"51:20:09\", 0.5) \"102:40:18\""
   ]
  },
  {
   "cell_type": "markdown",
   "metadata": {},
   "source": [
    "Answer :"
   ]
  },
  {
   "cell_type": "code",
   "execution_count": 160,
   "metadata": {},
   "outputs": [
    {
     "name": "stdout",
     "output_type": "stream",
     "text": [
      "0:15:00\n",
      "0:53:20\n",
      "102:40:18\n"
     ]
    }
   ],
   "source": [
    "import re\n",
    "\n",
    "def playback_duration(duration, speed):\n",
    "    d = re.findall(\"\\d+\",duration)\n",
    "    seconds = (60*60*int(d[0]) + 60*int(d[1]) + int(d[2]))/speed\n",
    "    minutes, seconds = divmod(seconds,60)\n",
    "    hours, minutes = divmod(minutes,60)\n",
    "    return \"%d:%02d:%02d\" % (hours, minutes, seconds)\n",
    "\n",
    "print(playback_duration(\"00:30:00\", 2))\n",
    "print(playback_duration(\"01:20:00\", 1.5))\n",
    "print(playback_duration(\"51:20:09\", 0.5))"
   ]
  },
  {
   "cell_type": "markdown",
   "metadata": {},
   "source": [
    "Question 2:"
   ]
  },
  {
   "cell_type": "raw",
   "metadata": {},
   "source": [
    "We needs your help to construct a building which will be a pile of n cubes. The cube at the bottom will have a volume of n^3, the cube above will have volume of (n-1)^3 and so on until the top which will have a volume of 1^3.\n",
    "Given the total volume m of the building, can you find the number of cubes n required for the building?\n",
    "In other words, you have to return an integer n such that:\n",
    "\n",
    "n^3 + (n-1)^3 + ... + 1^3 == m\n",
    "\n",
    "Return None if there is no such number. Examples\n",
    "\n",
    "pile_of_cubes(1071225) 45\n",
    "pile_of_cubes(4183059834009) 2022\n",
    "pile_of_cubes(16) None"
   ]
  },
  {
   "cell_type": "markdown",
   "metadata": {},
   "source": [
    "Answer :"
   ]
  },
  {
   "cell_type": "code",
   "execution_count": 161,
   "metadata": {},
   "outputs": [
    {
     "name": "stdout",
     "output_type": "stream",
     "text": [
      "45\n",
      "2022\n",
      "None\n"
     ]
    }
   ],
   "source": [
    "def pile_of_cubes(m):\n",
    "    \n",
    "    for i in range(int(m**(1/3))+1,1,-1):\n",
    "        sum_ = i**3\n",
    "        for j in range(i-1,0,-1):\n",
    "            if sum_ > m: \n",
    "                break\n",
    "            sum_ += j**3\n",
    "        if sum_ == m:\n",
    "            return i\n",
    "        \n",
    "    return None\n",
    "\n",
    "print(pile_of_cubes(1071225))\n",
    "print(pile_of_cubes(4183059834009))\n",
    "print(pile_of_cubes(16))"
   ]
  },
  {
   "cell_type": "markdown",
   "metadata": {},
   "source": [
    "Question 3:"
   ]
  },
  {
   "cell_type": "raw",
   "metadata": {},
   "source": [
    "A fulcrum of a list is an integer such that all elements to the left of it and all elements to \n",
    "the right of it sum to the same value. Write a function that finds the fulcrum of a list.\n",
    "\n",
    "To illustrate:\n",
    "    \n",
    "find_fulcrum([3, 1, 5, 2, 4, 6, -1]) 2\n",
    "// Since [3, 1, 5] and [4, 6, -1] both sum to 9\n",
    "\n",
    "Examples\n",
    "\n",
    "find_fulcrum([1, 2, 4, 9, 10, -10, -9, 3]) 4\n",
    "find_fulcrum([9, 1, 9]) 1\n",
    "find_fulcrum([7, -1, 0, -1, 1, 1, 2, 3]) 0\n",
    "find_fulcrum([8, 8, 8, 8]) -1"
   ]
  },
  {
   "cell_type": "markdown",
   "metadata": {},
   "source": [
    "Answer :"
   ]
  },
  {
   "cell_type": "code",
   "execution_count": 162,
   "metadata": {},
   "outputs": [
    {
     "name": "stdout",
     "output_type": "stream",
     "text": [
      "4\n",
      "1\n",
      "0\n",
      "-1\n"
     ]
    }
   ],
   "source": [
    "def find_fulcrum(lst):\n",
    "    for i in range(1,len(lst)-1):\n",
    "        lsum = sum(lst[0:i])\n",
    "        rsum = sum(lst[i+1::])\n",
    "        if lsum == rsum:\n",
    "            return lst[i]\n",
    "    return -1 #-1 means that fulcrum was not found for the given list.\n",
    "\n",
    "print(find_fulcrum([1, 2, 4, 9, 10, -10, -9, 3]))\n",
    "print(find_fulcrum([9, 1, 9]))\n",
    "print(find_fulcrum([7, -1, 0, -1, 1, 1, 2, 3]))\n",
    "print(find_fulcrum([8, 8, 8, 8]))"
   ]
  },
  {
   "cell_type": "markdown",
   "metadata": {},
   "source": [
    "Question 4:"
   ]
  },
  {
   "cell_type": "raw",
   "metadata": {},
   "source": [
    "Given a list of integers representing the color of each sock, determine how many pairs of socks\n",
    "with matching colors there are. For example, there are 7 socks with colors [1, 2, 1, 2, 1, 3, 2].\n",
    "There is one pair of color 1 and one of color 2. There are three odd socks left, one of each color.\n",
    "The number of pairs is 2.\n",
    "Create a function that returns an integer representing the number of matching pairs of socks that are\n",
    "available.\n",
    "\n",
    "Examples\n",
    "\n",
    "sock_merchant([10, 20, 20, 10, 10, 30, 50, 10, 20]) 3\n",
    "sock_merchant([50, 20, 30, 90, 30, 20, 50, 20, 90]) 4\n",
    "sock_merchant([]) 0"
   ]
  },
  {
   "cell_type": "markdown",
   "metadata": {},
   "source": [
    "Answer :"
   ]
  },
  {
   "cell_type": "code",
   "execution_count": 163,
   "metadata": {},
   "outputs": [
    {
     "name": "stdout",
     "output_type": "stream",
     "text": [
      "3\n",
      "4\n",
      "0\n"
     ]
    }
   ],
   "source": [
    "def sock_merchant(lst):\n",
    "    num_pairs = 0\n",
    "    for i in set(lst):\n",
    "        num_pairs += lst.count(i)//2\n",
    "    return num_pairs\n",
    "\n",
    "print(sock_merchant([10, 20, 20, 10, 10, 30, 50, 10, 20]))\n",
    "print(sock_merchant([50, 20, 30, 90, 30, 20, 50, 20, 90]))\n",
    "print(sock_merchant([]))"
   ]
  },
  {
   "cell_type": "markdown",
   "metadata": {},
   "source": [
    "Question 5:"
   ]
  },
  {
   "cell_type": "raw",
   "metadata": {},
   "source": [
    "Create a function that takes a string containing integers as well as other\n",
    "characters and return the sum of the negative integers only.\n",
    "\n",
    "Examples\n",
    "\n",
    "negative_sum(\"-12 13%14&-11\") -23\n",
    "# -12 + -11 = -23\n",
    "negative_sum(\"22 13%14&-11-22 13 12\") -33\n",
    "# -11 + -22 = -33"
   ]
  },
  {
   "cell_type": "markdown",
   "metadata": {},
   "source": [
    "Answer :"
   ]
  },
  {
   "cell_type": "code",
   "execution_count": 164,
   "metadata": {},
   "outputs": [
    {
     "name": "stdout",
     "output_type": "stream",
     "text": [
      "-23\n",
      "-33\n"
     ]
    }
   ],
   "source": [
    "import re \n",
    "\n",
    "def negative_sum(str_):\n",
    "    return sum([int(i) for i in re.findall(\"-\\d+\",str_)])\n",
    "\n",
    "print(negative_sum(\"-12 13%14&-11\"))\n",
    "print(negative_sum(\"22 13%14&-11-22 13 12\"))"
   ]
  },
  {
   "cell_type": "code",
   "execution_count": null,
   "metadata": {},
   "outputs": [],
   "source": []
  }
 ],
 "metadata": {
  "kernelspec": {
   "display_name": "Python 3",
   "language": "python",
   "name": "python3"
  },
  "language_info": {
   "codemirror_mode": {
    "name": "ipython",
    "version": 3
   },
   "file_extension": ".py",
   "mimetype": "text/x-python",
   "name": "python",
   "nbconvert_exporter": "python",
   "pygments_lexer": "ipython3",
   "version": "3.8.0"
  },
  "varInspector": {
   "cols": {
    "lenName": 16,
    "lenType": 16,
    "lenVar": 40
   },
   "kernels_config": {
    "python": {
     "delete_cmd_postfix": "",
     "delete_cmd_prefix": "del ",
     "library": "var_list.py",
     "varRefreshCmd": "print(var_dic_list())"
    },
    "r": {
     "delete_cmd_postfix": ") ",
     "delete_cmd_prefix": "rm(",
     "library": "var_list.r",
     "varRefreshCmd": "cat(var_dic_list()) "
    }
   },
   "types_to_exclude": [
    "module",
    "function",
    "builtin_function_or_method",
    "instance",
    "_Feature"
   ],
   "window_display": false
  }
 },
 "nbformat": 4,
 "nbformat_minor": 4
}
