{
 "cells": [
  {
   "cell_type": "markdown",
   "metadata": {},
   "source": [
    "Question 1:"
   ]
  },
  {
   "cell_type": "raw",
   "metadata": {},
   "source": [
    "Create a class Smoothie and do the following:\n",
    "    \n",
    " - Create an instance attribute called ingredients.\n",
    " - Create a get_cost method which calculates the total cost of the ingredients used to make the smoothie.\n",
    "\n",
    " - Create a get_price method which returns the number from get_cost plus the \n",
    "    number from get_cost multiplied by 1.5. Round to two decimal places.\n",
    " - Create a get_name method which gets the ingredients and puts them in alphabetical \n",
    "        order into a nice descriptive sentence. If there are multiple\n",
    "        ingredients, add the word \"Fusion\" to the end but otherwise,\n",
    "        add \"Smoothie\". Remember to change \"-berries\" to \"-berry\". See the examples below.\n",
    "        \n",
    "Ingredient        Price\n",
    "Strawberries      $1.50\n",
    "Banana            $0.50\n",
    "Mango             $2.50\n",
    "Blueberries       $1.00\n",
    "Raspberries       $1.00\n",
    "Apple             $1.75\n",
    "Pineapple         $3.50\n",
    "\n",
    "Examples\n",
    "\n",
    "s1 = Smoothie([\"Banana\"])\n",
    "\n",
    "s1.ingredients [\"Banana\"]\n",
    "s1.get_cost() \"$0.50\"\n",
    "s1.get_price() \"$1.25\"\n",
    "s1.get_name() \"Banana Smoothie\"\n",
    "\n",
    "s2 = Smoothie([\"Raspberries\", \"Strawberries\", \"Blueberries\"])\n",
    "\n",
    "s2.ingredients [\"Raspberries\", \"Strawberries\", \"Blueberries\"]\n",
    "s2.get_cost() \"$3.50\"\n",
    "s2.get_price() \"$8.75\"\n",
    "s2.get_name() \"Blueberry Raspberry Strawberry Fusion\""
   ]
  },
  {
   "cell_type": "markdown",
   "metadata": {},
   "source": [
    "Answer :"
   ]
  },
  {
   "cell_type": "code",
   "execution_count": 32,
   "metadata": {},
   "outputs": [],
   "source": [
    "class Smoothie:\n",
    "    \n",
    "    def __init__(self,ingredients):\n",
    "        self.ingredients = ingredients\n",
    "        self.price_dic = {  \"Strawberries\":1.50, \n",
    "                            \"Banana\":0.50,\n",
    "                            \"Mango\":2.50,\n",
    "                            \"Blueberries\":1.00,\n",
    "                            \"Raspberries\":1.00,\n",
    "                            \"Apple\":1.75,\n",
    "                            \"Pineapple\":3.50 }\n",
    "        \n",
    "    def get_cost(self):\n",
    "        self.tot_cast = sum([self.price_dic[i] for i in self.ingredients])\n",
    "        return \"$\"+str(round(self.tot_cast,2))\n",
    "    \n",
    "    def get_price(self):\n",
    "        price = round(self.tot_cast + 1.5*self.tot_cast,2)\n",
    "        return \"$\" + str(price)\n",
    "    \n",
    "    def get_name(self):\n",
    "        name = []\n",
    "        for i in self.ingredients:\n",
    "            if \"berries\" in i:\n",
    "                idx = i.index(\"berries\")\n",
    "                name.append(i[0:idx]+\"berry\")\n",
    "            else:\n",
    "                name.append(i)\n",
    "        if len(self.ingredients)==1:\n",
    "            return  name[0] + \" Smoothie\"\n",
    "        else:\n",
    "            return \" \".join(sorted(name)) + \" Fusion\""
   ]
  },
  {
   "cell_type": "code",
   "execution_count": 33,
   "metadata": {},
   "outputs": [
    {
     "name": "stdout",
     "output_type": "stream",
     "text": [
      "['Banana']\n",
      "$0.5\n",
      "$1.25\n",
      "Banana Smoothie\n"
     ]
    }
   ],
   "source": [
    "s1 = Smoothie([\"Banana\"])\n",
    "\n",
    "print(s1.ingredients)\n",
    "print(s1.get_cost()) \n",
    "print(s1.get_price())\n",
    "print(s1.get_name())"
   ]
  },
  {
   "cell_type": "code",
   "execution_count": 34,
   "metadata": {},
   "outputs": [
    {
     "name": "stdout",
     "output_type": "stream",
     "text": [
      "['Raspberries', 'Strawberries', 'Blueberries']\n",
      "$3.5\n",
      "$8.75\n",
      "Blueberry Raspberry Strawberry Fusion\n"
     ]
    }
   ],
   "source": [
    "s2 = Smoothie([\"Raspberries\", \"Strawberries\", \"Blueberries\"])\n",
    "\n",
    "print(s2.ingredients)\n",
    "print(s2.get_cost()) \n",
    "print(s2.get_price())\n",
    "print(s2.get_name())"
   ]
  },
  {
   "cell_type": "markdown",
   "metadata": {},
   "source": [
    "Question 2:"
   ]
  },
  {
   "cell_type": "code",
   "execution_count": null,
   "metadata": {},
   "outputs": [],
   "source": [
    "Your task is to write a program which allows teachers to create a multiple choice test \n",
    "in a class called Testpaper and to be also able to assign a minimum pass mark.\n",
    "The testpaper's subject should also be included. The attributes are in the following order:\n",
    "\n",
    " 1. subject\n",
    " 2. markscheme\n",
    " 3. pass_mark\n",
    "    \n",
    "As well as that, we need to create student objects to take the test itself!\n",
    "Create another class called Student and do the following:\n",
    "    \n",
    " - Create an attribute called tests_taken and set the default as 'No tests taken'.\n",
    "\n",
    " - Make a method called take_test(), which takes in the testpaper object they are completing and \n",
    "    the student's answers. Compare what they wrote to the mark scheme, and append \n",
    "    to the/create a dictionary assigned to tests_taken in the way as shown in the point below.\n",
    "    \n",
    " - Each key in the dictionary should be the testpaper subject and each value should\n",
    "    be a string in the format seen in the examples below (whether or not the student has \n",
    "    failed, and their percentage in brackets).\n",
    "    \n",
    "Examples\n",
    "\n",
    "paper1 = Testpaper(\"Maths\", [\"1A\", \"2C\", \"3D\", \"4A\", \"5A\"], \"60%\")\n",
    "paper2 = Testpaper(\"Chemistry\", [\"1C\", \"2C\", \"3D\", \"4A\"], \"75%\")\n",
    "paper3 = Testpaper(\"Computing\", [\"1D\", \"2C\", \"3C\", \"4B\", \"5D\", \"6C\", \"7A\"], \"75%\")\n",
    "\n",
    "student1 = Student()\n",
    "student2 = Student()\n",
    "\n",
    "student1.tests_taken \"No tests taken\"\n",
    "student1.take_test(paper1, [\"1A\", \"2D\", \"3D\", \"4A\", \"5A\"])\n",
    "student1.tests_taken {\"Maths\" : \"Passed! (80%)\"}\n",
    "student2.take_test(paper2, [\"1C\", \"2D\", \"3A\", \"4C\"])\n",
    "student2.take_test(paper3, [\"1A\", \"2C\", \"3A\", \"4C\", \"5D\", \"6C\", \"7B\"])\n",
    "student2.tests_taken {\"Chemistry\" : \"Failed! (25%)\", \"Computing\" : \"Failed! (43%)\"}"
   ]
  },
  {
   "cell_type": "markdown",
   "metadata": {},
   "source": [
    "Answer :"
   ]
  },
  {
   "cell_type": "code",
   "execution_count": 59,
   "metadata": {},
   "outputs": [],
   "source": [
    "import re \n",
    "\n",
    "class Testpaper:\n",
    "    \n",
    "    def __init__(self, subject, markscheme, pass_mark):\n",
    "        self.subject = subject\n",
    "        self.markscheme = markscheme\n",
    "        self.pass_mark = pass_mark\n",
    "        \n",
    "class Student:\n",
    "    \n",
    "    def __init__(self,tests_taken=\"No tests taken\"):\n",
    "        self.tests_taken = tests_taken\n",
    "        \n",
    "    def take_test(self,obj,ans):\n",
    "        \n",
    "        self.obj = obj\n",
    "        self.ans = ans\n",
    "        \n",
    "        mark = round(100*sum([i == j for i, j in zip(ans,obj.markscheme)])/len(ans))\n",
    "        pass_mark = int(re.findall(\"\\d+\",obj.pass_mark)[0])\n",
    "        \n",
    "        if mark>pass_mark:\n",
    "            result = \"Passed!\"\n",
    "        else:\n",
    "            result = \"Failed!\"\n",
    "            \n",
    "        if type(self.tests_taken) == str:\n",
    "            self.tests_taken = dict()\n",
    "        self.tests_taken[obj.subject] = f\"{result} ({mark}%)\""
   ]
  },
  {
   "cell_type": "code",
   "execution_count": 60,
   "metadata": {},
   "outputs": [],
   "source": [
    "paper1 = Testpaper(\"Maths\", [\"1A\", \"2C\", \"3D\", \"4A\", \"5A\"], \"60%\")\n",
    "paper2 = Testpaper(\"Chemistry\", [\"1C\", \"2C\", \"3D\", \"4A\"], \"75%\")\n",
    "paper3 = Testpaper(\"Computing\", [\"1D\", \"2C\", \"3C\", \"4B\", \"5D\", \"6C\", \"7A\"], \"75%\")\n",
    "\n",
    "student1 = Student()\n",
    "student2 = Student()\n"
   ]
  },
  {
   "cell_type": "code",
   "execution_count": 61,
   "metadata": {},
   "outputs": [
    {
     "data": {
      "text/plain": [
       "'No tests taken'"
      ]
     },
     "execution_count": 61,
     "metadata": {},
     "output_type": "execute_result"
    }
   ],
   "source": [
    "student1.tests_taken"
   ]
  },
  {
   "cell_type": "code",
   "execution_count": 62,
   "metadata": {},
   "outputs": [
    {
     "data": {
      "text/plain": [
       "{'Maths': 'Passed! (80%)'}"
      ]
     },
     "execution_count": 62,
     "metadata": {},
     "output_type": "execute_result"
    }
   ],
   "source": [
    "student1.take_test(paper1, [\"1A\", \"2D\", \"3D\", \"4A\", \"5A\"])\n",
    "student1.tests_taken"
   ]
  },
  {
   "cell_type": "code",
   "execution_count": 63,
   "metadata": {},
   "outputs": [
    {
     "data": {
      "text/plain": [
       "{'Chemistry': 'Failed! (25%)', 'Computing': 'Failed! (43%)'}"
      ]
     },
     "execution_count": 63,
     "metadata": {},
     "output_type": "execute_result"
    }
   ],
   "source": [
    "student2.take_test(paper2, [\"1C\", \"2D\", \"3A\", \"4C\"])\n",
    "student2.take_test(paper3, [\"1A\", \"2C\", \"3A\", \"4C\", \"5D\", \"6C\", \"7B\"])\n",
    "student2.tests_taken"
   ]
  },
  {
   "cell_type": "markdown",
   "metadata": {},
   "source": [
    "Question 3:"
   ]
  },
  {
   "cell_type": "raw",
   "metadata": {},
   "source": [
    "Due to unforseen circumstances in Suburbia, the trains will be delayed by a further 10 minutes.\n",
    "Create a function that will help to plan out and manage these delays! \n",
    "Create a function called manage_delays that does the following:\n",
    "    \n",
    " - Parameters will be the train object, a destination and number of minutes the delay is.\n",
    " - Increment to the train object's expected_time by the delay, if the\n",
    "    destination given is in the train object's destinations.\n",
    "    \n",
    "Examples\n",
    "\n",
    "trains = [\n",
    " Train([\"Townsville\", \"Suburbia\", \"Urbantska\"], \"13:04\"),\n",
    "Train([\"Farmsdale\", \"Suburbia\", \"Lakeside Valley\"], \"13:20\"),\n",
    "Train([\"Suburbia\", \"Townsville\", \"Lakeside Valley\"], \"13:22\")\n",
    "]\n",
    "\n",
    "for t in trains:\n",
    " manage_delays(t, \"Lakeside Valley\", 60)\n",
    "trains[0].expected_time \"13:04\"\n",
    "trains[1].expected_time \"14:20\"\n",
    "trains[2].expected_time \"14:22\""
   ]
  },
  {
   "cell_type": "markdown",
   "metadata": {},
   "source": [
    "Answer :"
   ]
  },
  {
   "cell_type": "code",
   "execution_count": 84,
   "metadata": {},
   "outputs": [],
   "source": [
    "import re\n",
    "\n",
    "from datetime import timedelta\n",
    "class Train:\n",
    "    \n",
    "    def __init__(self,destinations,expected_time):\n",
    "        self.destinations = destinations\n",
    "        self.expected_time = expected_time\n",
    "\n",
    "def manage_delays(obj, destination,delay):\n",
    "    if destination in obj.destinations:\n",
    "        exp_hour, exp_minutes = [int(i) for i in re.findall(\"\\d+\",obj.expected_time)]\n",
    "        del_hour, del_minutes = divmod(delay,60)\n",
    "        t1 = timedelta(days=0, hours=exp_hour, minutes=exp_minutes)\n",
    "        t2 = timedelta(days=0, hours=del_hour, minutes=del_minutes)\n",
    "        obj.expected_time = str(t1+t2)[0:~2]"
   ]
  },
  {
   "cell_type": "code",
   "execution_count": 85,
   "metadata": {},
   "outputs": [],
   "source": [
    "trains = [\n",
    " Train([\"Townsville\", \"Suburbia\", \"Urbantska\"], \"13:04\"),\n",
    "Train([\"Farmsdale\", \"Suburbia\", \"Lakeside Valley\"], \"13:20\"),\n",
    "Train([\"Suburbia\", \"Townsville\", \"Lakeside Valley\"], \"13:22\")\n",
    "]\n",
    "\n",
    "for t in trains:\n",
    "    manage_delays(t, \"Lakeside Valley\", 60)"
   ]
  },
  {
   "cell_type": "code",
   "execution_count": 86,
   "metadata": {},
   "outputs": [
    {
     "data": {
      "text/plain": [
       "'13:04'"
      ]
     },
     "execution_count": 86,
     "metadata": {},
     "output_type": "execute_result"
    }
   ],
   "source": [
    "trains[0].expected_time"
   ]
  },
  {
   "cell_type": "code",
   "execution_count": 88,
   "metadata": {},
   "outputs": [
    {
     "data": {
      "text/plain": [
       "'14:20'"
      ]
     },
     "execution_count": 88,
     "metadata": {},
     "output_type": "execute_result"
    }
   ],
   "source": [
    "trains[1].expected_time"
   ]
  },
  {
   "cell_type": "code",
   "execution_count": 90,
   "metadata": {},
   "outputs": [
    {
     "data": {
      "text/plain": [
       "'14:22'"
      ]
     },
     "execution_count": 90,
     "metadata": {},
     "output_type": "execute_result"
    }
   ],
   "source": [
    "trains[2].expected_time"
   ]
  },
  {
   "cell_type": "markdown",
   "metadata": {},
   "source": [
    "Question 4"
   ]
  },
  {
   "cell_type": "raw",
   "metadata": {},
   "source": [
    "Ted works as a computer programmer at Minecraft Inc. His boss has just given him\n",
    "an important assignment to update the code for the minecart tracks by the end of April.\n",
    "However, he has recently had to self-isolate due to\n",
    "Corvid-19 and has left the code for the tracks BACK AT WORK!! \n",
    "He has the shorthand for the tracks he's supposed to look at, and where the carts are\n",
    "suppost to end up, but not the actual code.\n",
    "\n",
    "He knows that:\n",
    "    \n",
    " 1. \"-->\" = \"Speed-Up Track\" — If a minecart interacts with this track, it's\n",
    "velocity increases by 2.67 BPS unless it's at its maximum speed of 8 BPS.\n",
    "\n",
    " 2. \"<-->\" = \"Powered Track\" — If a minecart interacts with this track, it's\n",
    "velocity remains the same.\n",
    "\n",
    " 3. \"<--\" = \"Slow-Down Track\" — If a minecart interacts with this track, \n",
    "    it's velocity decreases by 2.67 BPS unless it's velocity equals 0, at which point it stops.\n",
    "    \n",
    " 4. \"---\" = \"Unpowered Track\" — If a minecart interacts with this track, \n",
    "    it's velocity decreases by 1 BPS unless it's velocity equals 0, at which point it stops.\n",
    "    \n",
    "Help Ted by writing a class for the tracks that interact with the provided\n",
    "Minecart class as shown above. And then write a function that will take a list of the shorthand tracks and:\n",
    "    \n",
    " - If the Minecart reaches the last peice of Track, return True.\n",
    " - Else return the index of the Track where the Minecart stops.\n",
    "\n",
    "Examples\n",
    "\n",
    "mine_run([\"-->\", \"-->\", \"-->\", \"<--\", \"<--\", \"<--\"]) True\n",
    "mine_run([\"-->\", \"<--\", \"-->\", \"-->\", \"<-->\", \"---\"]) 1"
   ]
  },
  {
   "cell_type": "markdown",
   "metadata": {},
   "source": [
    "Answer :"
   ]
  },
  {
   "cell_type": "code",
   "execution_count": 98,
   "metadata": {},
   "outputs": [],
   "source": [
    "class Track:\n",
    "    def __init__(self,tracks ={}):\n",
    "        self.tracks = {\"-->\":2.67,\"<-->\":0,\"<--\":-2.67,\"---\":-1}\n",
    "        \n",
    "track = Track()\n",
    "\n",
    "def mine_run(M_tracks):\n",
    "    BPS = 0\n",
    "    for i,j in enumerate(M_tracks):\n",
    "        BPS += track.tracks[j]\n",
    "        if BPS<=0 and i<len(M_tracks)-1:\n",
    "            return i\n",
    "    return True"
   ]
  },
  {
   "cell_type": "code",
   "execution_count": 99,
   "metadata": {},
   "outputs": [
    {
     "name": "stdout",
     "output_type": "stream",
     "text": [
      "True\n",
      "1\n"
     ]
    }
   ],
   "source": [
    "print(mine_run([\"-->\", \"-->\", \"-->\", \"<--\", \"<--\", \"<--\"]))\n",
    "print(mine_run([\"-->\", \"<--\", \"-->\", \"-->\", \"<-->\", \"---\"]))"
   ]
  },
  {
   "cell_type": "markdown",
   "metadata": {},
   "source": [
    "Question 5:"
   ]
  },
  {
   "cell_type": "raw",
   "metadata": {},
   "source": [
    "Make a Rectangle class with four parameters, an x, a y (representing the top-left corner\n",
    "of the rectangle), a width and a height exclusively in that order.\n",
    "Lastly, make a function intersecting that takes two Rectangle objects and\n",
    "returns True if those objects are intersecting (colliding), else return False.\n",
    "\n",
    "Examples\n",
    "\n",
    "\n",
    "a = Rectangle(10, 20, 100, 20)\n",
    "b = Rectangle(10, 40, 15, 20)\n",
    "c = Rectangle(50, 50, 20, 30)\n",
    "intersecting(a, b) True\n",
    "intersecting(a, c) False\n",
    "intersecting(b, c) True"
   ]
  },
  {
   "cell_type": "markdown",
   "metadata": {},
   "source": [
    "Answer :"
   ]
  },
  {
   "cell_type": "code",
   "execution_count": 151,
   "metadata": {},
   "outputs": [],
   "source": [
    "class Rectangle:\n",
    "    \n",
    "    def __init__(self, x, y, w, h):\n",
    "        self.x = x\n",
    "        self.y = y\n",
    "        self.w = w\n",
    "        self.h = h\n",
    "        \n",
    "def intersecting(obj1,obj2):\n",
    "    # object 1\n",
    "    #  bottom-left, top-right\n",
    "    ob1_x1, ob1_x2 = obj1.x, obj1.x + obj1.w # x\n",
    "    ob1_y1, ob1_y2 = obj1.y - obj1.h, obj1.y # y\n",
    "    #print(ob1_x1, ob1_x2 )\n",
    "    #print(ob1_y1, ob1_y2)\n",
    "    \n",
    "    # object 2\n",
    "    ob2_x = obj2.x, obj2.x, obj2.x + obj2.w, obj2.x + obj2.w # x\n",
    "    ob2_y = obj2.y, obj2.y - obj2.h,obj2.y - obj2.h,  obj2.y # y\n",
    "    #print(ob2_x)\n",
    "    #print(ob2_y)\n",
    "    bool_ = []\n",
    "    for x,y in zip(ob2_x, ob2_y):\n",
    "        if (x > ob1_x1 and x < ob1_x2 and\n",
    "            y > ob1_y1 and y < ob1_y2) :\n",
    "            bool_.append(True)\n",
    "        else :\n",
    "            bool_.append(False)\n",
    "    #print(bool_)\n",
    "            \n",
    "    return any(bool_)"
   ]
  },
  {
   "cell_type": "code",
   "execution_count": 152,
   "metadata": {},
   "outputs": [],
   "source": [
    "a = Rectangle(10, 20, 100, 20)\n",
    "b = Rectangle(10, 40, 15, 20)\n",
    "c = Rectangle(50, 50, 20, 30)"
   ]
  },
  {
   "cell_type": "code",
   "execution_count": 153,
   "metadata": {},
   "outputs": [
    {
     "data": {
      "text/plain": [
       "False"
      ]
     },
     "execution_count": 153,
     "metadata": {},
     "output_type": "execute_result"
    }
   ],
   "source": [
    "intersecting(a, b)"
   ]
  },
  {
   "cell_type": "code",
   "execution_count": 154,
   "metadata": {},
   "outputs": [
    {
     "data": {
      "text/plain": [
       "False"
      ]
     },
     "execution_count": 154,
     "metadata": {},
     "output_type": "execute_result"
    }
   ],
   "source": [
    "intersecting(a, c)"
   ]
  },
  {
   "cell_type": "code",
   "execution_count": 155,
   "metadata": {},
   "outputs": [
    {
     "data": {
      "text/plain": [
       "False"
      ]
     },
     "execution_count": 155,
     "metadata": {},
     "output_type": "execute_result"
    }
   ],
   "source": [
    "intersecting(b, c)"
   ]
  }
 ],
 "metadata": {
  "kernelspec": {
   "display_name": "Python 3",
   "language": "python",
   "name": "python3"
  },
  "language_info": {
   "codemirror_mode": {
    "name": "ipython",
    "version": 3
   },
   "file_extension": ".py",
   "mimetype": "text/x-python",
   "name": "python",
   "nbconvert_exporter": "python",
   "pygments_lexer": "ipython3",
   "version": "3.8.0"
  },
  "varInspector": {
   "cols": {
    "lenName": 16,
    "lenType": 16,
    "lenVar": 40
   },
   "kernels_config": {
    "python": {
     "delete_cmd_postfix": "",
     "delete_cmd_prefix": "del ",
     "library": "var_list.py",
     "varRefreshCmd": "print(var_dic_list())"
    },
    "r": {
     "delete_cmd_postfix": ") ",
     "delete_cmd_prefix": "rm(",
     "library": "var_list.r",
     "varRefreshCmd": "cat(var_dic_list()) "
    }
   },
   "types_to_exclude": [
    "module",
    "function",
    "builtin_function_or_method",
    "instance",
    "_Feature"
   ],
   "window_display": false
  }
 },
 "nbformat": 4,
 "nbformat_minor": 4
}
