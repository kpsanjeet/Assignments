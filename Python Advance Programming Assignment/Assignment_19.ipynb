{
 "cells": [
  {
   "cell_type": "markdown",
   "metadata": {},
   "source": [
    "Question 1:"
   ]
  },
  {
   "cell_type": "raw",
   "metadata": {},
   "source": [
    "Create a checker board generator, which takes as inputs n and 2 elements to generate\n",
    "an n x n checkerboard with those two elements as alternating squares.\n",
    "\n",
    "Examples\n",
    "\n",
    "checker_board(2, 7, 6) [\n",
    " [7, 6],\n",
    " [6, 7]\n",
    "]\n",
    "\n",
    "checker_board(3, \"A\", \"B\") [\n",
    " [\"A\", \"B\", \"A\"],\n",
    " [\"B\", \"A\", \"B\"],\n",
    " [\"A\", \"B\", \"A\"]\n",
    "]\n",
    "\n",
    "checker_board(4, \"c\", \"d\") [\n",
    " [\"c\", \"d\", \"c\", \"d\"],\n",
    " [\"d\", \"c\", \"d\", \"c\"],\n",
    " [\"c\", \"d\", \"c\", \"d\"],\n",
    " [\"d\", \"c\", \"d\", \"c\"]\n",
    "]\n",
    "\n",
    "checker_board(4, \"c\", \"c\") \"invalid\""
   ]
  },
  {
   "cell_type": "markdown",
   "metadata": {},
   "source": [
    "Answer :"
   ]
  },
  {
   "cell_type": "code",
   "execution_count": 33,
   "metadata": {},
   "outputs": [
    {
     "name": "stdout",
     "output_type": "stream",
     "text": [
      "[7, 6]\n",
      "[6, 7]\n",
      "\n",
      "['A', 'B', 'A']\n",
      "['B', 'A', 'B']\n",
      "['A', 'B', 'A']\n",
      "\n",
      "['c', 'd', 'c', 'd']\n",
      "['d', 'c', 'd', 'c']\n",
      "['c', 'd', 'c', 'd']\n",
      "['d', 'c', 'd', 'c']\n",
      "\n"
     ]
    },
    {
     "data": {
      "text/plain": [
       "'invalid'"
      ]
     },
     "execution_count": 33,
     "metadata": {},
     "output_type": "execute_result"
    }
   ],
   "source": [
    "def checker_board(n,a,b):\n",
    "    \n",
    "    if a == b:\n",
    "        return \"invalid\"\n",
    "    \n",
    "    board = []\n",
    "    for i in range(n):\n",
    "        temp = []\n",
    "        for j in range(n):\n",
    "            temp.append(a)\n",
    "            a, b = b, a\n",
    "        b, a = temp[0:2]\n",
    "        board.append(temp)  \n",
    "        \n",
    "    return board\n",
    "    \n",
    "    \n",
    "for i in checker_board(2, 7, 6):print(i)\n",
    "print()\n",
    "\n",
    "for i in checker_board(3, \"A\", \"B\"):print(i)\n",
    "print()\n",
    "\n",
    "for i in checker_board(4, \"c\", \"d\"):print(i)\n",
    "print()\n",
    "\n",
    "checker_board(4, \"c\", \"c\")"
   ]
  },
  {
   "cell_type": "markdown",
   "metadata": {},
   "source": [
    "Question 2:"
   ]
  },
  {
   "cell_type": "raw",
   "metadata": {},
   "source": [
    "A string is an almost-palindrome if, by changing only one character, you\n",
    "can make it a palindrome. Create a function that returns True if a string is an \n",
    "almost-palindrome and False otherwise.\n",
    "\n",
    "Examples\n",
    "\n",
    "almost_palindrome(\"abcdcbg\") True\n",
    "# Transformed to \"abcdcba\" by changing \"g\" to \"a\".\n",
    "\n",
    "almost_palindrome(\"abccia\") True\n",
    "# Transformed to \"abccba\" by changing \"i\" to \"b\".\n",
    "\n",
    "almost_palindrome(\"abcdaaa\") False\n",
    "# Can't be transformed to a palindrome in exactly 1 turn.\n",
    "\n",
    "almost_palindrome(\"1234312\") False"
   ]
  },
  {
   "cell_type": "markdown",
   "metadata": {},
   "source": [
    "Answer :"
   ]
  },
  {
   "cell_type": "code",
   "execution_count": 12,
   "metadata": {},
   "outputs": [
    {
     "name": "stdout",
     "output_type": "stream",
     "text": [
      "True\n",
      "True\n",
      "False\n",
      "False\n"
     ]
    }
   ],
   "source": [
    "import string\n",
    "\n",
    "def isPalindrome(str_):\n",
    "    return str_ == str_[::-1]\n",
    "\n",
    "def almost_palindrome(str_):\n",
    "    \n",
    "    check = string.ascii_lowercase + \"0123456789\"\n",
    "    \n",
    "    for i in str_:\n",
    "        for j in check:\n",
    "            temp = str_.replace(i, j, 1)\n",
    "            if isPalindrome(temp):\n",
    "                return True\n",
    "            \n",
    "    return False\n",
    "\n",
    "\n",
    "print(almost_palindrome(\"abcdcbg\"))\n",
    "print(almost_palindrome(\"abccia\"))\n",
    "print(almost_palindrome(\"abcdaaa\"))\n",
    "print(almost_palindrome(\"1234312\"))"
   ]
  },
  {
   "cell_type": "markdown",
   "metadata": {},
   "source": [
    "Question 3:"
   ]
  },
  {
   "cell_type": "raw",
   "metadata": {},
   "source": [
    "Create a function that finds how many prime numbers there are, up to the given integer.\n",
    "\n",
    "Examples\n",
    "\n",
    "prime_numbers(10) 4\n",
    "# 2, 3, 5 and 7\n",
    "prime_numbers(20) 8\n",
    "# 2, 3, 5, 7, 11, 13, 17 and 19\n",
    "prime_numbers(30) 10\n",
    "# 2, 3, 5, 7, 11, 13, 17, 19, 23 and 29"
   ]
  },
  {
   "cell_type": "markdown",
   "metadata": {},
   "source": [
    "Answer :"
   ]
  },
  {
   "cell_type": "code",
   "execution_count": 18,
   "metadata": {},
   "outputs": [
    {
     "name": "stdout",
     "output_type": "stream",
     "text": [
      "4\n",
      "8\n",
      "10\n"
     ]
    }
   ],
   "source": [
    "def isPrime(n):\n",
    "    if n <= 1:\n",
    "        return False\n",
    " \n",
    "    for i in range(2, int(n**(1/2))+1):\n",
    "        if n % i == 0:\n",
    "            return False\n",
    "    return True\n",
    "\n",
    "\n",
    "def prime_numbers(n):\n",
    "    if n<2:\n",
    "        return 0\n",
    "    return sum([isPrime(i) for i in range(2,n+1)])\n",
    "\n",
    "\n",
    "print(prime_numbers(10))\n",
    "print(prime_numbers(20))\n",
    "print(prime_numbers(30))"
   ]
  },
  {
   "cell_type": "markdown",
   "metadata": {},
   "source": [
    "Question 4:"
   ]
  },
  {
   "cell_type": "raw",
   "metadata": {},
   "source": [
    " If today was Monday, in two days, it would be Wednesday. Create a function that takes in a list of days\n",
    "as input and the number of days to increment by. \n",
    "Return a list of days after n number of days has passed.\n",
    "\n",
    "Examples\n",
    "\n",
    "after_n_days([\"Thursday\", \"Monday\"], 4) [\"Monday\", \"Friday\"]\n",
    "after_n_days([\"Sunday\", \"Sunday\", \"Sunday\"], 1) [\"Monday\", \"Monday\", \"Monday\"]\n",
    "after_n_days([\"Monday\", \"Tuesday\", \"Friday\"], 1) [\"Tuesday\", \"Wednesday\", \"Saturday\"]"
   ]
  },
  {
   "cell_type": "markdown",
   "metadata": {},
   "source": [
    "Answer :"
   ]
  },
  {
   "cell_type": "code",
   "execution_count": 41,
   "metadata": {},
   "outputs": [
    {
     "name": "stdout",
     "output_type": "stream",
     "text": [
      "['Monday', 'Friday']\n",
      "['Monday', 'Monday', 'Monday']\n",
      "['Tuesday', 'Wednesday', 'Saturday']\n"
     ]
    }
   ],
   "source": [
    "def after_n_days(lst,n):\n",
    "    \n",
    "    new_lst = []\n",
    "    \n",
    "    if n>=7:\n",
    "        _, n = divmod(n,7)\n",
    "        \n",
    "    for i in lst:\n",
    "        days = [\"Sunday\", \"Monday\", \"Tuesday\", \"Wednesday\", \"Thursday\", \"Friday\", \"Saturday\"]\n",
    "        idx = days.index(i)\n",
    "        days = [days[idx]]+days[idx+1::]+days[0:idx]\n",
    "        new_lst.append(days[n])\n",
    "        \n",
    "    return new_lst\n",
    "\n",
    "\n",
    "print(after_n_days([\"Thursday\", \"Monday\"], 4))\n",
    "print(after_n_days([\"Sunday\", \"Sunday\", \"Sunday\"], 1))\n",
    "print(after_n_days([\"Monday\", \"Tuesday\", \"Friday\"], 1))"
   ]
  },
  {
   "cell_type": "markdown",
   "metadata": {},
   "source": [
    "Question 5:"
   ]
  },
  {
   "cell_type": "raw",
   "metadata": {},
   "source": [
    "You are in the process of creating a chat application and want to add an\n",
    "anonymous name feature. This anonymous name feature will create an alias that \n",
    "consists of two capitalized words beginning with the same letter as the users first name.\n",
    "Create a function that determines if the list of users is mapped to a list of\n",
    "anonymous names correctly.\n",
    "\n",
    "Examples\n",
    "\n",
    "is_correct_aliases([\"Adrian M.\", \"Harriet S.\", \"Mandy T.\"],\n",
    "                   [\"Amazing Artichoke\", \"Hopeful Hedgehog\", \"Marvelous Mouse\"]) True\n",
    "\n",
    "is_correct_aliases([\"Rachel F.\", \"Pam G.\", \"Fred Z.\", \"Nancy K.\"],\n",
    "                   [\"Reassuring Rat\", \"Peaceful Panda\", \"Fantastic Frog\", \"Notable Nickel\"]) True\n",
    "\n",
    "is_correct_aliases([\"Beth T.\"], [\"Brandishing Mimosa\"]) False\n",
    "\n",
    "# Both words in \"Brandishing Mimosa\" should begin with a \"B\" - \"Brandishing Beaver\" would do the trick."
   ]
  },
  {
   "cell_type": "markdown",
   "metadata": {},
   "source": [
    "Answer :"
   ]
  },
  {
   "cell_type": "code",
   "execution_count": 42,
   "metadata": {},
   "outputs": [
    {
     "name": "stdout",
     "output_type": "stream",
     "text": [
      "True\n",
      "True\n",
      "False\n"
     ]
    }
   ],
   "source": [
    "def is_correct_aliases(lst1,lst2):\n",
    "    \n",
    "    bool_ = []\n",
    "    for i, j in zip(lst1,lst2):\n",
    "        temp = j.split()\n",
    "        bool_.append(i[0] == temp[0][0] and i[0] == temp[1][0])\n",
    "    return all(bool_)\n",
    "\n",
    "print(is_correct_aliases([\"Adrian M.\", \"Harriet S.\", \"Mandy T.\"],\n",
    "                   [\"Amazing Artichoke\", \"Hopeful Hedgehog\", \"Marvelous Mouse\"]))\n",
    "print(is_correct_aliases([\"Rachel F.\", \"Pam G.\", \"Fred Z.\", \"Nancy K.\"],\n",
    "                   [\"Reassuring Rat\", \"Peaceful Panda\", \"Fantastic Frog\", \"Notable Nickel\"]))\n",
    "print(is_correct_aliases([\"Beth T.\"], [\"Brandishing Mimosa\"]))"
   ]
  },
  {
   "cell_type": "code",
   "execution_count": null,
   "metadata": {},
   "outputs": [],
   "source": []
  }
 ],
 "metadata": {
  "kernelspec": {
   "display_name": "Python 3",
   "language": "python",
   "name": "python3"
  },
  "language_info": {
   "codemirror_mode": {
    "name": "ipython",
    "version": 3
   },
   "file_extension": ".py",
   "mimetype": "text/x-python",
   "name": "python",
   "nbconvert_exporter": "python",
   "pygments_lexer": "ipython3",
   "version": "3.8.0"
  },
  "varInspector": {
   "cols": {
    "lenName": 16,
    "lenType": 16,
    "lenVar": 40
   },
   "kernels_config": {
    "python": {
     "delete_cmd_postfix": "",
     "delete_cmd_prefix": "del ",
     "library": "var_list.py",
     "varRefreshCmd": "print(var_dic_list())"
    },
    "r": {
     "delete_cmd_postfix": ") ",
     "delete_cmd_prefix": "rm(",
     "library": "var_list.r",
     "varRefreshCmd": "cat(var_dic_list()) "
    }
   },
   "types_to_exclude": [
    "module",
    "function",
    "builtin_function_or_method",
    "instance",
    "_Feature"
   ],
   "window_display": false
  }
 },
 "nbformat": 4,
 "nbformat_minor": 4
}
