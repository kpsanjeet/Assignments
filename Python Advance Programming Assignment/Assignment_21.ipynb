{
 "cells": [
  {
   "cell_type": "markdown",
   "metadata": {},
   "source": [
    "Question 1:"
   ]
  },
  {
   "cell_type": "raw",
   "metadata": {},
   "source": [
    "Given a sentence, return the number of words which have the same first and last letter.\n",
    "\n",
    "Examples\n",
    "\n",
    "count_same_ends(\"Pop! goes the balloon\") 1\n",
    "count_same_ends(\"And the crowd goes wild!\") 0\n",
    "count_same_ends(\"No I am not in a gang.\") 1"
   ]
  },
  {
   "cell_type": "markdown",
   "metadata": {},
   "source": [
    "Answer :"
   ]
  },
  {
   "cell_type": "code",
   "execution_count": 2,
   "metadata": {},
   "outputs": [
    {
     "name": "stdout",
     "output_type": "stream",
     "text": [
      "1\n",
      "0\n",
      "1\n"
     ]
    }
   ],
   "source": [
    "import re\n",
    "\n",
    "def count_same_ends(str_):\n",
    "    split_list = re.findall(\"\\w+\",str_.lower())\n",
    "    return sum([1 for i in split_list if i[0]==i[~0] and len(i)>1])\n",
    "\n",
    "print(count_same_ends(\"Pop! goes the balloon\"))\n",
    "print(count_same_ends(\"And the crowd goes wild!\"))\n",
    "print(count_same_ends(\"No I am not in a gang.\"))"
   ]
  },
  {
   "cell_type": "markdown",
   "metadata": {},
   "source": [
    "Question 2:"
   ]
  },
  {
   "cell_type": "raw",
   "metadata": {},
   "source": [
    "The Atbash cipher is an encryption method in which each letter of a word is replaced with \n",
    "its \"mirror\" letter in the alphabet: A <=> Z; B <=> Y; C <=> X; etc.\n",
    "    \n",
    "Create a function that takes a string and applies the Atbash cipher to it.\n",
    "\n",
    "Examples\n",
    "\n",
    "atbash(\"apple\") \"zkkov\"\n",
    "atbash(\"Hello world!\") \"Svool dliow!\"\n",
    "atbash(\"Christmas is the 25th of December\") \"Xsirhgnzh rh gsv 25gs lu Wvxvnyvi\""
   ]
  },
  {
   "cell_type": "markdown",
   "metadata": {},
   "source": [
    "Answer :"
   ]
  },
  {
   "cell_type": "code",
   "execution_count": 7,
   "metadata": {},
   "outputs": [
    {
     "name": "stdout",
     "output_type": "stream",
     "text": [
      "zkkov\n",
      "Svool dliow!\n",
      "Xsirhgnzh rh gsv 25gs lu Wvxvnyvi\n"
     ]
    }
   ],
   "source": [
    "import string\n",
    "\n",
    "def atbash(str_):\n",
    "    lalpha = string.ascii_lowercase\n",
    "    ualpha = string.ascii_uppercase\n",
    "    atbash_ = \"\"\n",
    "    for i in str_:\n",
    "        if i.isalpha():\n",
    "            if i.islower():\n",
    "                idx = lalpha.index(i)\n",
    "                atbash_ += lalpha[~idx]\n",
    "            else:\n",
    "                idx = ualpha.index(i)\n",
    "                atbash_ += ualpha[~idx]\n",
    "        else:\n",
    "            atbash_ += i\n",
    "            \n",
    "    return atbash_\n",
    "\n",
    "\n",
    "print(atbash(\"apple\"))\n",
    "print(atbash(\"Hello world!\"))\n",
    "print(atbash(\"Christmas is the 25th of December\"))"
   ]
  },
  {
   "cell_type": "markdown",
   "metadata": {},
   "source": [
    "Question 3:"
   ]
  },
  {
   "cell_type": "raw",
   "metadata": {},
   "source": [
    "Create a class Employee that will take a full name as argument, as well as a set of none, one or\n",
    "more keywords. Each instance should have a name and a lastname attributes plus one more attribute\n",
    "for each of the keywords, if any.\n",
    "\n",
    "Examples\n",
    "\n",
    "john = Employee(\"John Doe\")\n",
    "mary = Employee(\"Mary Major\", salary=120000)\n",
    "richard = Employee(\"Richard Roe\", salary=110000, height=178)\n",
    "giancarlo = Employee(\"Giancarlo Rossi\", salary=115000, height=182, nationality=\"Italian\")\n",
    "\n",
    "john.name \"John\"\n",
    "mary.lastname \"Major\"\n",
    "richard.height 178\n",
    "giancarlo.nationality \"Italian\""
   ]
  },
  {
   "cell_type": "markdown",
   "metadata": {},
   "source": [
    "Answer :"
   ]
  },
  {
   "cell_type": "code",
   "execution_count": 47,
   "metadata": {},
   "outputs": [],
   "source": [
    "class Employee:\n",
    "    \n",
    "    def __init__(self,fullname,**kwargs):\n",
    "        self.fullname = fullname\n",
    "        fn = self.fullname.split()\n",
    "        self.name = fn[0]\n",
    "        self.lastname = fn[~0]\n",
    "        for k,v in kwargs.items():\n",
    "            setattr(self, k, v)\n",
    "            \n",
    "        "
   ]
  },
  {
   "cell_type": "code",
   "execution_count": 48,
   "metadata": {},
   "outputs": [],
   "source": [
    "john = Employee(\"John Doe\")\n",
    "mary = Employee(\"Mary Major\", salary=120000)\n",
    "richard = Employee(\"Richard Roe\", salary=110000, height=178)\n",
    "giancarlo = Employee(\"Giancarlo Rossi\", salary=115000, height=182, nationality=\"Italian\")"
   ]
  },
  {
   "cell_type": "code",
   "execution_count": 49,
   "metadata": {},
   "outputs": [
    {
     "name": "stdout",
     "output_type": "stream",
     "text": [
      "John\n",
      "Major\n",
      "178\n",
      "Italian\n"
     ]
    }
   ],
   "source": [
    "print(john.name)\n",
    "print(mary.lastname)\n",
    "print(richard.height)\n",
    "print(giancarlo.nationality)"
   ]
  },
  {
   "cell_type": "markdown",
   "metadata": {},
   "source": [
    "Question 4:"
   ]
  },
  {
   "cell_type": "raw",
   "metadata": {},
   "source": [
    "Create a function that determines whether each seat can \"see\" the frontstage. \n",
    "A number can \"see\" the front-stage if it is strictly greater than the\n",
    "number before it.\n",
    "\n",
    "Everyone can see the front-stage in the example below:\n",
    "# FRONT STAGE\n",
    "[[1, 2, 3, 2, 1, 1],\n",
    "[2, 4, 4, 3, 2, 2],\n",
    "[5, 5, 5, 5, 4, 4],\n",
    "[6, 6, 7, 6, 5, 5]]\n",
    "# Starting from the left, the 6 > 5 > 2 > 1, so all numbers can see.\n",
    "# 6 > 5 > 4 > 2 - so all numbers can see, etc.\n",
    "Not everyone can see the front-stage in the example below:\n",
    "# FRONT STAGE\n",
    "[[1, 2, 3, 2, 1, 1],\n",
    "[2, 4, 4, 3, 2, 2],\n",
    "[5, 5, 5, 10, 4, 4],\n",
    "[6, 6, 7, 6, 5, 5]]\n",
    "# The 10 is directly in front of the 6 and blocking its view. \n",
    "The function should return True if every number can see the front-stage,\n",
    "and False if even a single number cannot.\n",
    "\n",
    "Examples\n",
    "\n",
    "can_see_stage([\n",
    " [1, 2, 3],\n",
    " [4, 5, 6],\n",
    " [7, 8, 9]\n",
    "]) True\n",
    "can_see_stage([\n",
    " [0, 0, 0],\n",
    " [1, 1, 1],\n",
    " [2, 2, 2]\n",
    "]) True\n",
    "can_see_stage([\n",
    " [2, 0, 0],\n",
    " [1, 1, 1], \n",
    " [2, 2, 2]\n",
    "]) False\n",
    "can_see_stage([\n",
    " [1, 0, 0],\n",
    " [1, 1, 1],\n",
    " [2, 2, 2]\n",
    "]) False\n",
    "# Number must be strictly smaller than\n",
    "# the number directly behind it."
   ]
  },
  {
   "cell_type": "markdown",
   "metadata": {},
   "source": [
    "Answer :"
   ]
  },
  {
   "cell_type": "code",
   "execution_count": 75,
   "metadata": {},
   "outputs": [
    {
     "name": "stdout",
     "output_type": "stream",
     "text": [
      "True\n",
      "True\n",
      "False\n",
      "False\n",
      "True\n",
      "False\n"
     ]
    }
   ],
   "source": [
    "def can_see_stage(mat):\n",
    "    tmat = list(map(list, zip(*mat))) #transpose of \"mat\"\n",
    "    checking = [i == sorted(j) and len(set(j))==len(j) for i,j in zip(tmat,tmat)]\n",
    "    return all(checking)\n",
    "\n",
    "\n",
    "print(can_see_stage([\n",
    " [1, 2, 3],\n",
    " [4, 5, 6],\n",
    " [7, 8, 9]\n",
    "]))\n",
    "print(can_see_stage([\n",
    " [0, 0, 0],\n",
    " [1, 1, 1],\n",
    " [2, 2, 2]\n",
    "]))\n",
    "print(can_see_stage([\n",
    " [2, 0, 0],\n",
    " [1, 1, 1], \n",
    " [2, 2, 2]\n",
    "]))\n",
    "print(can_see_stage([\n",
    " [1, 0, 0],\n",
    " [1, 1, 1],\n",
    " [2, 2, 2]\n",
    "]))\n",
    "print(can_see_stage([[1, 2, 3, 2, 1, 1],\n",
    "[2, 4, 4, 3, 2, 2],\n",
    "[5, 5, 5, 5, 4, 4],\n",
    "[6, 6, 7, 6, 5, 5]]))\n",
    "print(can_see_stage([[1, 2, 3, 2, 1, 1],\n",
    "[2, 4, 4, 3, 2, 2],\n",
    "[5, 5, 5, 10, 4, 4],\n",
    "[6, 6, 7, 6, 5, 5]]))"
   ]
  },
  {
   "cell_type": "markdown",
   "metadata": {},
   "source": [
    "Question 5:"
   ]
  },
  {
   "cell_type": "raw",
   "metadata": {},
   "source": [
    "Create a Pizza class with the attributes order_number and ingredients\n",
    "(which is given as a list). Only the ingredients will be given as input.\n",
    "\n",
    "You should also make it so that its possible to choose a ready made pizza\n",
    "flavour rather than typing out the ingredients manually! As well as creating\n",
    "this Pizza class, hard-code the following pizza flavours.\n",
    "\n",
    "Name               Ingredients\n",
    "hawaiian           ham,pineapple\n",
    "meat_festival      beef, meatball, bacon\n",
    "garden_feast       spinach, olives, mushroom\n",
    "\n",
    "Examples\n",
    "\n",
    "p1 = Pizza([\"bacon\", \"parmesan\", \"ham\"]) # order 1\n",
    "p2 = Pizza.garden_feast() # order 2\n",
    "\n",
    "p1.ingredients [\"bacon\", \"parmesan\", \"ham\"]\n",
    "p2.ingredients [\"spinach\", \"olives\", \"mushroom\"]\n",
    "\n",
    "p1.order_number 1\n",
    "p2.order_number 2"
   ]
  },
  {
   "cell_type": "markdown",
   "metadata": {},
   "source": [
    "Answer :"
   ]
  },
  {
   "cell_type": "code",
   "execution_count": 88,
   "metadata": {},
   "outputs": [],
   "source": [
    "class Pizza:\n",
    "    \n",
    "    def __init__(self,ingredients):\n",
    "        self.ingredients = ingredients\n",
    "        self.order_number = 1\n",
    "      \n",
    "    class garden_feast:\n",
    "        \n",
    "        def __init__(self):\n",
    "            self.ingredients = [\"spinach\", \"olives\", \"mushroom\"]\n",
    "            self.order_number = 2\n",
    "        \n",
    "    class meat_festival:\n",
    "        def __init__(self):\n",
    "                self.ingredients = [\"beef\", \"meatball\", \"bacon\"]\n",
    "                self.order_number = 3\n",
    "\n",
    "    class hawaiian:\n",
    "        def __init__(self):\n",
    "            self.ingredients = [\"ham\", \"pineapple\"]\n",
    "            self.order_number = 4"
   ]
  },
  {
   "cell_type": "code",
   "execution_count": 89,
   "metadata": {},
   "outputs": [],
   "source": [
    "p1 = Pizza([\"bacon\", \"parmesan\", \"ham\"]) # order 1\n",
    "p2 = Pizza.garden_feast() # order 2"
   ]
  },
  {
   "cell_type": "code",
   "execution_count": 90,
   "metadata": {},
   "outputs": [
    {
     "data": {
      "text/plain": [
       "['bacon', 'parmesan', 'ham']"
      ]
     },
     "execution_count": 90,
     "metadata": {},
     "output_type": "execute_result"
    }
   ],
   "source": [
    "p1.ingredients"
   ]
  },
  {
   "cell_type": "code",
   "execution_count": 91,
   "metadata": {},
   "outputs": [
    {
     "data": {
      "text/plain": [
       "['spinach', 'olives', 'mushroom']"
      ]
     },
     "execution_count": 91,
     "metadata": {},
     "output_type": "execute_result"
    }
   ],
   "source": [
    "p2.ingredients"
   ]
  },
  {
   "cell_type": "code",
   "execution_count": 92,
   "metadata": {
    "scrolled": true
   },
   "outputs": [
    {
     "data": {
      "text/plain": [
       "1"
      ]
     },
     "execution_count": 92,
     "metadata": {},
     "output_type": "execute_result"
    }
   ],
   "source": [
    "p1.order_number"
   ]
  },
  {
   "cell_type": "code",
   "execution_count": 93,
   "metadata": {},
   "outputs": [
    {
     "data": {
      "text/plain": [
       "2"
      ]
     },
     "execution_count": 93,
     "metadata": {},
     "output_type": "execute_result"
    }
   ],
   "source": [
    "p2.order_number"
   ]
  },
  {
   "cell_type": "code",
   "execution_count": null,
   "metadata": {},
   "outputs": [],
   "source": []
  }
 ],
 "metadata": {
  "kernelspec": {
   "display_name": "Python 3",
   "language": "python",
   "name": "python3"
  },
  "language_info": {
   "codemirror_mode": {
    "name": "ipython",
    "version": 3
   },
   "file_extension": ".py",
   "mimetype": "text/x-python",
   "name": "python",
   "nbconvert_exporter": "python",
   "pygments_lexer": "ipython3",
   "version": "3.8.0"
  },
  "varInspector": {
   "cols": {
    "lenName": 16,
    "lenType": 16,
    "lenVar": 40
   },
   "kernels_config": {
    "python": {
     "delete_cmd_postfix": "",
     "delete_cmd_prefix": "del ",
     "library": "var_list.py",
     "varRefreshCmd": "print(var_dic_list())"
    },
    "r": {
     "delete_cmd_postfix": ") ",
     "delete_cmd_prefix": "rm(",
     "library": "var_list.r",
     "varRefreshCmd": "cat(var_dic_list()) "
    }
   },
   "types_to_exclude": [
    "module",
    "function",
    "builtin_function_or_method",
    "instance",
    "_Feature"
   ],
   "window_display": false
  }
 },
 "nbformat": 4,
 "nbformat_minor": 4
}
