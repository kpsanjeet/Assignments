{
 "cells": [
  {
   "cell_type": "markdown",
   "metadata": {},
   "source": [
    "Question 1:"
   ]
  },
  {
   "cell_type": "raw",
   "metadata": {},
   "source": [
    "Write a function that returns True if a given name can generate an array of words.\n",
    "\n",
    "Examples\n",
    "\n",
    "anagram(\"Justin Bieber\", [\"injures\", \"ebb\", \"it\"]) True\n",
    "anagram(\"Natalie Portman\", [\"ornamental\", \"pita\"]) True\n",
    "anagram(\"Chris Pratt\", [\"chirps\", \"rat\"]) False\n",
    "# Not all letters are used\n",
    "anagram(\"Jeff Goldblum\", [\"jog\", \"meld\", \"bluffs\"]) False\n",
    "# \"s\" does not exist in the original name"
   ]
  },
  {
   "cell_type": "markdown",
   "metadata": {},
   "source": [
    "Answer :"
   ]
  },
  {
   "cell_type": "code",
   "execution_count": 19,
   "metadata": {},
   "outputs": [
    {
     "name": "stdout",
     "output_type": "stream",
     "text": [
      "True\n",
      "True\n",
      "False\n",
      "False\n"
     ]
    }
   ],
   "source": [
    "import re\n",
    "\n",
    "def anagram(str_,lst):\n",
    "    \n",
    "    str1 = \"\".join(sorted(re.findall(\"\\w\",str_.lower())))\n",
    "    str2 = \"\".join(sorted(\"\".join(lst).lower()))\n",
    "    \n",
    "    return str1 == str2\n",
    "\n",
    "print(anagram(\"Justin Bieber\", [\"injures\", \"ebb\", \"it\"]))\n",
    "print(anagram(\"Natalie Portman\", [\"ornamental\", \"pita\"]))\n",
    "print(anagram(\"Chris Pratt\", [\"chirps\", \"rat\"]))\n",
    "print(anagram(\"Jeff Goldblum\", [\"jog\", \"meld\", \"bluffs\"]))"
   ]
  },
  {
   "cell_type": "markdown",
   "metadata": {},
   "source": [
    "Question 2:"
   ]
  },
  {
   "cell_type": "raw",
   "metadata": {},
   "source": [
    "Given an array of users, each defined by an object with the following\n",
    "properties: name, score, reputation create a function that sorts the array\n",
    "to form the correct leaderboard.\n",
    "The leaderboard takes into consideration the score of each user of course,\n",
    "but an emphasis is put on their reputation in the community, so to get the\n",
    "trueScore, you should add the reputation multiplied by 2 to the score.\n",
    "Once you know the trueScore of each user, sort the array according to \n",
    "it in descending order.\n",
    "\n",
    "Examples\n",
    "\n",
    "leaderboards([\n",
    " { \"name\": \"a\", \"score\": 100, \"reputation\": 20 },\n",
    " { \"name\": \"b\", \"score\": 90, \"reputation\": 40 },\n",
    " { \"name\": \"c\", \"score\": 115, \"reputation\": 30 },\n",
    "]) [\n",
    " { \"name\": \"c\", \"score\": 115, \"reputation\": 30 }, # trueScore = 175 \n",
    "    { \"name\": \"b\", \"score\": 90, \"reputation\": 40 }, # trueScore = 170 \n",
    "    { \"name\": \"a\", \"score\": 100, \"reputation\": 20 } # trueScore = 140]"
   ]
  },
  {
   "cell_type": "markdown",
   "metadata": {},
   "source": [
    "Answer :"
   ]
  },
  {
   "cell_type": "code",
   "execution_count": 8,
   "metadata": {},
   "outputs": [
    {
     "name": "stdout",
     "output_type": "stream",
     "text": [
      "{'name': 'c', 'score': 115, 'reputation': 30}\n",
      "{'name': 'b', 'score': 90, 'reputation': 40}\n",
      "{'name': 'a', 'score': 100, 'reputation': 20}\n",
      "\n",
      "{'name': 'c', 'score': 115, 'reputation': 30}\n",
      "{'name': 'b', 'score': 90, 'reputation': 40}\n",
      "{'name': 'a', 'score': 100, 'reputation': 20}\n",
      "{'name': 'd', 'score': 95, 'reputation': 20}\n"
     ]
    }
   ],
   "source": [
    "def leaderboards(dic):\n",
    "    \n",
    "    lead_bord = []\n",
    "    trueScore = [i[\"score\"]+2*i[\"reputation\"] for i in dic]\n",
    "    sort_trueScore = sorted(trueScore,reverse=True)\n",
    "    for i in sort_trueScore:\n",
    "        idx = trueScore.index(i)\n",
    "        lead_bord.append(dic[idx])\n",
    "        \n",
    "    return lead_bord\n",
    "\n",
    "dic1 = [\n",
    " { \"name\": \"a\", \"score\": 100, \"reputation\": 20 },\n",
    " { \"name\": \"b\", \"score\": 90, \"reputation\": 40 },\n",
    " { \"name\": \"c\", \"score\": 115, \"reputation\": 30 },\n",
    "]\n",
    "for i in leaderboards(dic1):print(i)\n",
    "    \n",
    "print()\n",
    "dic2 = [\n",
    " { \"name\": \"a\", \"score\": 100, \"reputation\": 20 },\n",
    " { \"name\": \"b\", \"score\": 90, \"reputation\": 40 },\n",
    " { \"name\": \"c\", \"score\": 115, \"reputation\": 30 },\n",
    " { \"name\": \"d\", \"score\": 95, \"reputation\": 20 },\n",
    "]\n",
    "\n",
    "for i in leaderboards(dic2):print(i)"
   ]
  },
  {
   "cell_type": "markdown",
   "metadata": {},
   "source": [
    "Question 3:"
   ]
  },
  {
   "cell_type": "raw",
   "metadata": {},
   "source": [
    "Create a function that, given a phrase and a number of letters guessed,\n",
    "returns a string with hyphens - for every letter of the phrase not guessed, \n",
    "and each letter guessed in place.\n",
    "\n",
    "Examples\n",
    "\n",
    "hangman(\"helicopter\", [\"o\", \"e\", \"s\"]) \"-e---o--e-\"\n",
    "hangman(\"tree\", [\"r\", \"t\", \"e\"]) \"tree\"\n",
    "hangman(\"Python rules\", [\"a\", \"n\", \"p\", \"r\", \"z\"]) \"P----n r----\"\n",
    "hangman(\"He's a very naughty boy!\", [\"e\", \"a\", \"y\"]) \"-e\"- a -e-y -a----y --y!\""
   ]
  },
  {
   "cell_type": "markdown",
   "metadata": {},
   "source": [
    "Answer :"
   ]
  },
  {
   "cell_type": "code",
   "execution_count": 19,
   "metadata": {},
   "outputs": [
    {
     "name": "stdout",
     "output_type": "stream",
     "text": [
      "-e---o--e-\n",
      "tree\n",
      "-----n r----\n",
      "-e'- a -e-y -a----y --y!\n"
     ]
    }
   ],
   "source": [
    "def hangman(str_,lst):\n",
    "    hangman_ = \"\"\n",
    "    for i in str_:\n",
    "        if i in lst:\n",
    "            hangman_ += i\n",
    "        elif i.isalpha() and i not in lst:\n",
    "            hangman_ += \"-\"\n",
    "        else:\n",
    "            hangman_ += i\n",
    "    return hangman_\n",
    "\n",
    "print(hangman(\"helicopter\", [\"o\", \"e\", \"s\"]))\n",
    "print(hangman(\"tree\", [\"r\", \"t\", \"e\"]))\n",
    "print(hangman(\"Python rules\", [\"a\", \"n\", \"p\", \"r\", \"z\"]))\n",
    "print(hangman(\"He's a very naughty boy!\", [\"e\", \"a\", \"y\"]))"
   ]
  },
  {
   "cell_type": "markdown",
   "metadata": {},
   "source": [
    "Question 4:"
   ]
  },
  {
   "cell_type": "raw",
   "metadata": {},
   "source": [
    "The Collatz sequence is as follows:\n",
    " - Start with some given integer n.\n",
    " - If it is even, the next number will be n divided by 2.\n",
    " - If it is odd, multiply it by 3 and add 1 to make the next number.\n",
    " - The sequence stops when it reaches 1.\n",
    "According to the Collatz conjecture, it will always reach 1. \n",
    "If that's true, you can construct a finite sequence following the aforementioned method for any given integer.\n",
    "Write a function that takes in an integer n and returns the highest integer in the corresponding Collatz\n",
    "sequence.\n",
    "\n",
    "Examples\n",
    "max_collatz(10) 16\n",
    "# Collatz sequence: 10, 5, 16, 8, 4, 2, 1\n",
    "max_collatz(32) 32\n",
    "# Collatz sequence: 32, 16, 8, 4, 2, 1\n",
    "max_collatz(85) 256\n",
    "# Collatz sequence: 85, 256, 128, 64, 32, 16, 8, 4, 2, 1"
   ]
  },
  {
   "cell_type": "markdown",
   "metadata": {},
   "source": [
    "Answer :"
   ]
  },
  {
   "cell_type": "code",
   "execution_count": 56,
   "metadata": {},
   "outputs": [
    {
     "name": "stdout",
     "output_type": "stream",
     "text": [
      "16\n",
      "32\n",
      "256\n"
     ]
    }
   ],
   "source": [
    "def max_collatz(n):\n",
    "    collatz = [n]\n",
    "    while True:\n",
    "        if n == 1:\n",
    "            return max(collatz)\n",
    "        if n%2 == 0:\n",
    "            n = n//2\n",
    "            collatz.append(n)\n",
    "        else:\n",
    "            n = 3*n + 1\n",
    "            collatz.append(n)\n",
    "            \n",
    "            \n",
    "print(max_collatz(10))\n",
    "print(max_collatz(32))\n",
    "print(max_collatz(85))"
   ]
  },
  {
   "cell_type": "markdown",
   "metadata": {},
   "source": [
    "Question 5:"
   ]
  },
  {
   "cell_type": "raw",
   "metadata": {},
   "source": [
    "Write a function that sorts a list of integers by their digit length in\n",
    "descending order, then settles ties by sorting numbers with the same digit\n",
    "length in ascending order.\n",
    "\n",
    "Examples\n",
    "\n",
    "digit_sort([77, 23, 5, 7, 101])\n",
    " [101, 23, 77, 5, 7]\n",
    "digit_sort([1, 5, 9, 2, 789, 563, 444])\n",
    " [444, 563, 789, 1, 2, 5, 9]\n",
    "digit_sort([53219, 3772, 564, 32, 1])\n",
    " [53219, 3772, 564, 32, 1]"
   ]
  },
  {
   "cell_type": "markdown",
   "metadata": {},
   "source": [
    "Answer :"
   ]
  },
  {
   "cell_type": "code",
   "execution_count": 67,
   "metadata": {},
   "outputs": [
    {
     "name": "stdout",
     "output_type": "stream",
     "text": [
      "[101, 23, 77, 5, 7]\n",
      "[444, 563, 789, 1, 2, 5, 9]\n",
      "[53219, 3772, 564, 32, 1]\n"
     ]
    }
   ],
   "source": [
    "def digit_sort(lst):\n",
    "    len1 = len(str(min(lst)))\n",
    "    len2 = len(str(max(lst)))\n",
    "    sort_list = []\n",
    "    for i in range(len2,len1-1,-1):\n",
    "        temp = []\n",
    "        for j in lst:\n",
    "            if i == len(str(j)):\n",
    "                temp.append(j)\n",
    "        sort_list += sorted(temp)\n",
    "        \n",
    "    return sort_list\n",
    "\n",
    "print(digit_sort([77, 23, 5, 7, 101]))\n",
    "print(digit_sort([1, 5, 9, 2, 789, 563, 444]))\n",
    "print(digit_sort([53219, 3772, 564, 32, 1]))"
   ]
  },
  {
   "cell_type": "code",
   "execution_count": null,
   "metadata": {},
   "outputs": [],
   "source": []
  }
 ],
 "metadata": {
  "kernelspec": {
   "display_name": "Python 3",
   "language": "python",
   "name": "python3"
  },
  "language_info": {
   "codemirror_mode": {
    "name": "ipython",
    "version": 3
   },
   "file_extension": ".py",
   "mimetype": "text/x-python",
   "name": "python",
   "nbconvert_exporter": "python",
   "pygments_lexer": "ipython3",
   "version": "3.8.0"
  },
  "varInspector": {
   "cols": {
    "lenName": 16,
    "lenType": 16,
    "lenVar": 40
   },
   "kernels_config": {
    "python": {
     "delete_cmd_postfix": "",
     "delete_cmd_prefix": "del ",
     "library": "var_list.py",
     "varRefreshCmd": "print(var_dic_list())"
    },
    "r": {
     "delete_cmd_postfix": ") ",
     "delete_cmd_prefix": "rm(",
     "library": "var_list.r",
     "varRefreshCmd": "cat(var_dic_list()) "
    }
   },
   "types_to_exclude": [
    "module",
    "function",
    "builtin_function_or_method",
    "instance",
    "_Feature"
   ],
   "window_display": false
  }
 },
 "nbformat": 4,
 "nbformat_minor": 4
}
