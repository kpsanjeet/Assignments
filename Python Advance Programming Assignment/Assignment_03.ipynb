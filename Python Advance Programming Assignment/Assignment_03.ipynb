{
 "cells": [
  {
   "cell_type": "markdown",
   "metadata": {},
   "source": [
    "Question 1:"
   ]
  },
  {
   "cell_type": "raw",
   "metadata": {},
   "source": [
    "Create a function to perform basic arithmetic operations that includes\n",
    "addition, subtraction, multiplication and division on a string number \n",
    "(e.g. \"12 + 24\" or \"23 - 21\" or \"12 // 12\" or \"12 * 21\").\n",
    "Here, we have 1 followed by a space, operator followed by \n",
    "another space\n",
    "and 2. For the challenge, we are going to have only two numbers between 1 valid operator.\n",
    "The return value should be a number. eval() is not allowed. \n",
    "In case of division, whenever the second number equals \"0\" return -1.\n",
    "\n",
    "For example:\n",
    "    \n",
    "\"15 // 0\" -1\n",
    "\n",
    "Examples\n",
    "\n",
    "arithmetic_operation(\"12 + 12\") 24 // 12 + 12 = 24\n",
    "arithmetic_operation(\"12 - 12\") 24 // 12 - 12 = 0\n",
    "arithmetic_operation(\"12 * 12\") 144 // 12 * 12 = 144\n",
    "arithmetic_operation(\"12 // 0\") -1 // 12 / 0 = -1."
   ]
  },
  {
   "cell_type": "markdown",
   "metadata": {},
   "source": [
    "Answer :"
   ]
  },
  {
   "cell_type": "code",
   "execution_count": 8,
   "metadata": {},
   "outputs": [
    {
     "name": "stdout",
     "output_type": "stream",
     "text": [
      "24\n",
      "0\n",
      "144\n",
      "-1\n"
     ]
    }
   ],
   "source": [
    "def arithmetic_operation(expr):\n",
    "    lst = expr.split(\" \")\n",
    "    if lst[1]==\"+\":\n",
    "        return int(lst[0])+int(lst[2])\n",
    "    elif lst[1]==\"-\":\n",
    "        return int(lst[0])-int(lst[2])\n",
    "    elif lst[1]==\"*\":\n",
    "        return int(lst[0])*int(lst[2])\n",
    "    else:\n",
    "        if int(lst[2]) == 0:\n",
    "            return -1\n",
    "        else:\n",
    "            return int(lst[0]//lst[2])\n",
    "        \n",
    "print(arithmetic_operation(\"12 + 12\"))\n",
    "print(arithmetic_operation(\"12 - 12\"))\n",
    "print(arithmetic_operation(\"12 * 12\"))\n",
    "print(arithmetic_operation(\"12 // 0\"))"
   ]
  },
  {
   "cell_type": "markdown",
   "metadata": {},
   "source": [
    "Question 2:"
   ]
  },
  {
   "cell_type": "raw",
   "metadata": {},
   "source": [
    "Write a function that takes the coordinates of three points in the form of a 2d array and returns \n",
    "the perimeter of the triangle. The given points are the vertices of a triangle on a two-dimensional plane.\n",
    "\n",
    "Examples\n",
    "\n",
    "perimeter( [ [15, 7], [5, 22], [11, 1] ] ) 47.08\n",
    "perimeter( [ [0, 0], [0, 1], [1, 0] ] ) 3.42\n",
    "perimeter( [ [-10, -10], [10, 10 ], [-10, 10] ] ) 68.28"
   ]
  },
  {
   "cell_type": "code",
   "execution_count": 9,
   "metadata": {},
   "outputs": [
    {
     "name": "stdout",
     "output_type": "stream",
     "text": [
      "47.08\n",
      "3.41\n",
      "68.28\n"
     ]
    }
   ],
   "source": [
    "def distance_2d(a,b):\n",
    "    return ((a[0]-b[0])**2 + (a[1]-b[1])**2)**(1/2)\n",
    "\n",
    "def perimeter(coord):\n",
    "    side1 = distance_2d(coord[0],coord[1])\n",
    "    side2 = distance_2d(coord[1],coord[2])\n",
    "    side3 = distance_2d(coord[2],coord[0])\n",
    "    \n",
    "    return round(side1+side2+side3,2)\n",
    "\n",
    "print(perimeter([ [15, 7], [5, 22], [11, 1] ]))\n",
    "print(perimeter([ [0, 0], [0, 1], [1, 0] ]))\n",
    "print(perimeter([ [-10, -10], [10, 10 ], [-10, 10] ]))"
   ]
  },
  {
   "cell_type": "markdown",
   "metadata": {},
   "source": [
    "Question 3:"
   ]
  },
  {
   "cell_type": "raw",
   "metadata": {},
   "source": [
    "A city skyline can be represented as a 2-D list with 1s representing\n",
    "buildings. In the example below, the height of the tallest building is 4 (secondmost right column).\n",
    "\n",
    "[[0, 0, 0, 0, 0, 0],\n",
    "[0, 0, 0, 0, 1, 0],\n",
    "[0, 0, 1, 0, 1, 0],\n",
    "[0, 1, 1, 1, 1, 0],\n",
    "[1, 1, 1, 1, 1, 1]]\n",
    "\n",
    "Create a function that takes a skyline (2-D list of 0's and 1's) and returns \n",
    "the height of the tallest skyscraper.\n",
    "\n",
    "Examples\n",
    "\n",
    "tallest_skyscraper([\n",
    " [0, 0, 0, 0],\n",
    " [0, 1, 0, 0],\n",
    " [0, 1, 1, 0],\n",
    " [1, 1, 1, 1]\n",
    "]) 3\n",
    "tallest_skyscraper([\n",
    " [0, 1, 0, 0],\n",
    " [0, 1, 0, 0],\n",
    " [0, 1, 1, 0],\n",
    " [1, 1, 1, 1]\n",
    "]) 4\n",
    "tallest_skyscraper([\n",
    " [0, 0, 0, 0],\n",
    " [0, 0, 0, 0],\n",
    " [1, 1, 1, 0],\n",
    " [1, 1, 1, 1]\n",
    "]) 2"
   ]
  },
  {
   "cell_type": "markdown",
   "metadata": {},
   "source": [
    "Answer :"
   ]
  },
  {
   "cell_type": "code",
   "execution_count": 21,
   "metadata": {},
   "outputs": [
    {
     "name": "stdout",
     "output_type": "stream",
     "text": [
      "4\n",
      "3\n",
      "4\n",
      "2\n"
     ]
    }
   ],
   "source": [
    "def tallest_skyscraper(lst):\n",
    "    columns = list(zip(*lst))\n",
    "    sums = list(map(sum , columns))\n",
    "    return max(sums)\n",
    "\n",
    "\n",
    "print(tallest_skyscraper([[0, 0, 0, 0, 0, 0],\n",
    "[0, 0, 0, 0, 1, 0],\n",
    "[0, 0, 1, 0, 1, 0],\n",
    "[0, 1, 1, 1, 1, 0],\n",
    "[1, 1, 1, 1, 1, 1]]))\n",
    "\n",
    "print(tallest_skyscraper([\n",
    " [0, 0, 0, 0],\n",
    " [0, 1, 0, 0],\n",
    " [0, 1, 1, 0],\n",
    " [1, 1, 1, 1]\n",
    "]))\n",
    "print(tallest_skyscraper([\n",
    " [0, 1, 0, 0],\n",
    " [0, 1, 0, 0],\n",
    " [0, 1, 1, 0],\n",
    " [1, 1, 1, 1]\n",
    "]))\n",
    "print(tallest_skyscraper([\n",
    " [0, 0, 0, 0],\n",
    " [0, 0, 0, 0],\n",
    " [1, 1, 1, 0],\n",
    " [1, 1, 1, 1]\n",
    "]))"
   ]
  },
  {
   "cell_type": "markdown",
   "metadata": {},
   "source": [
    "Question 4:"
   ]
  },
  {
   "cell_type": "raw",
   "metadata": {},
   "source": [
    "A financial institution provides professional services to banks and claims charges from \n",
    "the customers based on the number of man-days provided.\n",
    "Internally, it has set a scheme to motivate and reward staff to meet and\n",
    "exceed targeted billable utilization and revenues by paying a bonus for \n",
    "each day claimed from customers in excess of a threshold target.\n",
    "This quarterly scheme is calculated with a threshold target of 32 days per\n",
    "quarter, and the incentive payment for each billable day in excess of such\n",
    "threshold target is shown as follows:\n",
    "    \n",
    "Days        Bonus\n",
    "0 to 32   days Zero\n",
    "33 to 40  days SGD$325 per billable day\n",
    "41 to 48  days SGD$550 per billable day\n",
    "\n",
    "Greater than 48 days SGD$600 per billable day\n",
    "Please note that incentive payment is calculated progressively. As an\n",
    "example, if an employee reached total billable days of 45 in a quarter, \n",
    "his/her incentive payment is computed as follows:\n",
    "    \n",
    "32*0 + 8*325 + 5*550 = 5350\n",
    "\n",
    "Write a function to read the billable days of an employee and return the bonus \n",
    "he/she has obtained in that quarter. \n",
    "\n",
    "Examples\n",
    "\n",
    "bonus(15) 0\n",
    "bonus(37) 1625\n",
    "bonus(50) 8200"
   ]
  },
  {
   "cell_type": "markdown",
   "metadata": {},
   "source": [
    "Answer :"
   ]
  },
  {
   "cell_type": "code",
   "execution_count": 27,
   "metadata": {},
   "outputs": [
    {
     "name": "stdout",
     "output_type": "stream",
     "text": [
      "0\n",
      "1625\n",
      "8200\n"
     ]
    }
   ],
   "source": [
    "def bonus(days):\n",
    "    tot_bonus = 0\n",
    "    if 0<=days<=32:\n",
    "        tot_bonus += 0\n",
    "    elif 33<=days<=40:\n",
    "        tot_bonus += (days-32)*325\n",
    "    elif 41<=days<=48:\n",
    "        tot_bonus += 0 + 8*325 + (days-40)*550\n",
    "    else:\n",
    "        tot_bonus += 0 + 8*325 + 8*550 + (days-48)*600\n",
    "    return tot_bonus\n",
    "\n",
    "print(bonus(15))\n",
    "print(bonus(37))\n",
    "print(bonus(50))"
   ]
  },
  {
   "cell_type": "markdown",
   "metadata": {},
   "source": [
    "Question 5:"
   ]
  },
  {
   "cell_type": "raw",
   "metadata": {},
   "source": [
    "A number is said to be Disarium if the sum of its digits raised to their\n",
    "respective positions is the number itself.\n",
    "Create a function that determines whether a number is a Disarium or not.\n",
    "\n",
    "Examples\n",
    "\n",
    "is_disarium(75) False\n",
    "# 7^1 + 5^2 = 7 + 25 = 32\n",
    "is_disarium(135) True\n",
    "# 1^1 + 3^2 + 5^3 = 1 + 9 + 125 = 135\n",
    "is_disarium(544) False\n",
    "is_disarium(518) True\n",
    "is_disarium(466) False\n",
    "is_disarium(8) True"
   ]
  },
  {
   "cell_type": "markdown",
   "metadata": {},
   "source": [
    "Answer :"
   ]
  },
  {
   "cell_type": "code",
   "execution_count": 28,
   "metadata": {},
   "outputs": [
    {
     "name": "stdout",
     "output_type": "stream",
     "text": [
      "False\n",
      "True\n",
      "False\n",
      "True\n",
      "False\n",
      "True\n"
     ]
    }
   ],
   "source": [
    "def is_disarium(num):\n",
    "    st = str(num)\n",
    "    sum_ = sum([int(st[i-1])**(i) for i in range(1,len(st)+1)])\n",
    "    if sum_ == num:\n",
    "        return True\n",
    "    else:\n",
    "        return False\n",
    "    \n",
    "print(is_disarium(75))\n",
    "print(is_disarium(135))\n",
    "print(is_disarium(544))\n",
    "print(is_disarium(518))\n",
    "print(is_disarium(466))\n",
    "print(is_disarium(8))"
   ]
  },
  {
   "cell_type": "code",
   "execution_count": null,
   "metadata": {},
   "outputs": [],
   "source": []
  }
 ],
 "metadata": {
  "kernelspec": {
   "display_name": "Python 3",
   "language": "python",
   "name": "python3"
  },
  "language_info": {
   "codemirror_mode": {
    "name": "ipython",
    "version": 3
   },
   "file_extension": ".py",
   "mimetype": "text/x-python",
   "name": "python",
   "nbconvert_exporter": "python",
   "pygments_lexer": "ipython3",
   "version": "3.8.0"
  },
  "varInspector": {
   "cols": {
    "lenName": 16,
    "lenType": 16,
    "lenVar": 40
   },
   "kernels_config": {
    "python": {
     "delete_cmd_postfix": "",
     "delete_cmd_prefix": "del ",
     "library": "var_list.py",
     "varRefreshCmd": "print(var_dic_list())"
    },
    "r": {
     "delete_cmd_postfix": ") ",
     "delete_cmd_prefix": "rm(",
     "library": "var_list.r",
     "varRefreshCmd": "cat(var_dic_list()) "
    }
   },
   "types_to_exclude": [
    "module",
    "function",
    "builtin_function_or_method",
    "instance",
    "_Feature"
   ],
   "window_display": false
  }
 },
 "nbformat": 4,
 "nbformat_minor": 4
}
