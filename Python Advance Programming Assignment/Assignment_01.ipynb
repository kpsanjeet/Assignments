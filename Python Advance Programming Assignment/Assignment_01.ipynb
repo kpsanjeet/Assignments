{
 "cells": [
  {
   "cell_type": "markdown",
   "metadata": {},
   "source": [
    "Question 1:"
   ]
  },
  {
   "cell_type": "raw",
   "metadata": {},
   "source": [
    "Write a function that takes a list of lists and returns the value of all of the symbols in it,\n",
    "where each symbol adds or takes something from the total\n",
    "score. Symbol values:\n",
    "    \n",
    "# = 5\n",
    "O = 3\n",
    "X = 1\n",
    "! = -1\n",
    "!! = -3\n",
    "!!! = -5\n",
    "A list of lists containing 2#s, a O, and a !!! would equal (0 + 5 + 5 + 3 - 5) 8.\n",
    "If the final score is negative, return 0 (e.g. \n",
    "3#s, 3 !!s, 2 !!!s and a X would be (0 + 5 + 5 + 5 - 3 - 3 - 3 - 5 - 5 + 1) -3, so return 0.\n",
    "\n",
    "Examples\n",
    "\n",
    "check_score([\n",
    " [\"#\", \"!\"],\n",
    " [\"!!\", \"X\"]\n",
    "]) 2\n",
    "check_score([\n",
    " [\"!!!\", \"O\", \"!\"],\n",
    " [\"X\", \"#\", \"!!!\"],\n",
    " [\"!!\", \"X\", \"O\"]\n",
    "]) 0"
   ]
  },
  {
   "cell_type": "markdown",
   "metadata": {},
   "source": [
    "Answer :"
   ]
  },
  {
   "cell_type": "code",
   "execution_count": 7,
   "metadata": {},
   "outputs": [
    {
     "name": "stdout",
     "output_type": "stream",
     "text": [
      "2\n",
      "0\n"
     ]
    }
   ],
   "source": [
    "def check_score(lst):\n",
    "    dic = {\"#\" : 5,\"O\" : 3, \"X\" : 1,\"!\" : -1,\"!!\" : -3, \"!!!\" : -5}\n",
    "    sum_ = 0\n",
    "    for i in lst:\n",
    "        for j in i:\n",
    "            sum_ += dic[j]\n",
    "            \n",
    "    if sum_ < 0:\n",
    "        return 0\n",
    "            \n",
    "    return sum_\n",
    "\n",
    "print(check_score([\n",
    " [\"#\", \"!\"],\n",
    " [\"!!\", \"X\"]\n",
    "]))\n",
    "print(check_score([\n",
    " [\"!!!\", \"O\", \"!\"],\n",
    " [\"X\", \"#\", \"!!!\"],\n",
    " [\"!!\", \"X\", \"O\"]\n",
    "]))"
   ]
  },
  {
   "cell_type": "markdown",
   "metadata": {},
   "source": [
    "Question 2:"
   ]
  },
  {
   "cell_type": "raw",
   "metadata": {},
   "source": [
    "Create a function that takes a variable number of arguments, each\n",
    "argument representing the number of items in a group, and returns the\n",
    "number of permutations (combinations) of items that you could get by taking one item from each group.\n",
    "\n",
    "Examples\n",
    "\n",
    "combinations(2, 3) 6\n",
    "combinations(3, 7, 4) 84\n",
    "combinations(2, 3, 4, 5) 120"
   ]
  },
  {
   "cell_type": "markdown",
   "metadata": {},
   "source": [
    "Answer :"
   ]
  },
  {
   "cell_type": "code",
   "execution_count": 9,
   "metadata": {},
   "outputs": [
    {
     "name": "stdout",
     "output_type": "stream",
     "text": [
      "6\n",
      "84\n",
      "120\n"
     ]
    }
   ],
   "source": [
    "def combinations(*args):\n",
    "    ncomb = 1\n",
    "    for i in args:\n",
    "        ncomb *= i\n",
    "    return ncomb\n",
    "\n",
    "print(combinations(2, 3))\n",
    "print(combinations(3, 7, 4))\n",
    "print(combinations(2, 3, 4, 5))"
   ]
  },
  {
   "cell_type": "markdown",
   "metadata": {},
   "source": [
    "Question 3:"
   ]
  },
  {
   "cell_type": "raw",
   "metadata": {},
   "source": [
    "Create a function that takes a string as an argument and returns the Morse code equivalent.\n",
    "\n",
    "Examples\n",
    "\n",
    "encode_morse(\"EDABBIT CHALLENGE\") \". -.. .- -... -... .. - -.-. .... .- .-.. .-.. . -. --. .\"\n",
    "encode_morse(\"HELP ME !\") \".... . .-.. .--. -- . -.-.--\"\n",
    "\n",
    "This dictionary can be used for coding:\n",
    "    \n",
    "char_to_dots = {\n",
    " 'A': '.-', 'B': '-...', 'C': '-.-.', 'D': '-..', 'E': '.', 'F': '..-.',\n",
    " 'G': '--.', 'H': '....', 'I': '..', 'J': '.---', 'K': '-.-', 'L': '.-..',\n",
    " 'M': '--', 'N': '-.', 'O': '---', 'P': '.--.', 'Q': '--.-', 'R': '.-.',\n",
    " 'S': '...', 'T': '-', 'U': '..-', 'V': '...-', 'W': '.--', 'X': '-..-',\n",
    " 'Y': '-.--', 'Z': '--..', ' ': ' ', '0': '-----',\n",
    " '1': '.----', '2': '..---', '3': '...--', '4': '....-', '5': '.....',\n",
    " '6': '-....', '7': '--...', '8': '---..', '9': '----.',\n",
    " '&': '.-...', \"'\": '.----.', '@': '.--.-.', ')': '-.--.-', '(': '-.--.',\n",
    " ':': '---...', ',': '--..--', '=': '-...-', '!': '-.-.--', '.': '.-.-.-',\n",
    " '-': '-....-', '+': '.-.-.', '\"': '.-..-.', '?': '..--..', '/': '-..-.'\n",
    "}"
   ]
  },
  {
   "cell_type": "markdown",
   "metadata": {},
   "source": [
    "Answer :"
   ]
  },
  {
   "cell_type": "code",
   "execution_count": 14,
   "metadata": {},
   "outputs": [
    {
     "name": "stdout",
     "output_type": "stream",
     "text": [
      ". -.. .- -... -... .. -   -.-. .... .- .-.. .-.. . -. --. . \n",
      ".... . .-.. .--.   -- .   -.-.-- \n"
     ]
    }
   ],
   "source": [
    "def encode_morse(string):\n",
    "    char_to_dots = {\n",
    "                     'A': '.-', 'B': '-...', 'C': '-.-.', 'D': '-..', 'E': '.', 'F': '..-.',\n",
    "                     'G': '--.', 'H': '....', 'I': '..', 'J': '.---', 'K': '-.-', 'L': '.-..',\n",
    "                     'M': '--', 'N': '-.', 'O': '---', 'P': '.--.', 'Q': '--.-', 'R': '.-.',\n",
    "                     'S': '...', 'T': '-', 'U': '..-', 'V': '...-', 'W': '.--', 'X': '-..-',\n",
    "                     'Y': '-.--', 'Z': '--..', ' ': ' ', '0': '-----',\n",
    "                     '1': '.----', '2': '..---', '3': '...--', '4': '....-', '5': '.....',\n",
    "                     '6': '-....', '7': '--...', '8': '---..', '9': '----.',\n",
    "                     '&': '.-...', \"'\": '.----.', '@': '.--.-.', ')': '-.--.-', '(': '-.--.',\n",
    "                     ':': '---...', ',': '--..--', '=': '-...-', '!': '-.-.--', '.': '.-.-.-',\n",
    "                     '-': '-....-', '+': '.-.-.', '\"': '.-..-.', '?': '..--..', '/': '-..-.'\n",
    "                    }\n",
    "    \n",
    "    em = \"\"\n",
    "    for i in string :\n",
    "        em += char_to_dots[i]+ \" \"\n",
    "        \n",
    "    return em\n",
    "\n",
    "\n",
    "print(encode_morse(\"EDABBIT CHALLENGE\"))\n",
    "print(encode_morse(\"HELP ME !\"))"
   ]
  },
  {
   "cell_type": "markdown",
   "metadata": {},
   "source": [
    "Question 4:"
   ]
  },
  {
   "cell_type": "raw",
   "metadata": {},
   "source": [
    "Write a function that takes a number and returns True if it's a prime; False otherwise.\n",
    "The number can be 2^64-1 (2 to the power of 63, not XOR).\n",
    "With the standard technique it would be O(2^64-1), which is much too large for the 10 second time limit.\n",
    "\n",
    "Examples\n",
    "\n",
    "prime(7) True\n",
    "prime(56963) True\n",
    "prime(5151512515524) False"
   ]
  },
  {
   "cell_type": "markdown",
   "metadata": {},
   "source": [
    "Answer :"
   ]
  },
  {
   "cell_type": "code",
   "execution_count": 18,
   "metadata": {},
   "outputs": [
    {
     "name": "stdout",
     "output_type": "stream",
     "text": [
      "True\n",
      "True\n",
      "False\n",
      "CPU times: user 1.01 ms, sys: 61 µs, total: 1.07 ms\n",
      "Wall time: 689 µs\n"
     ]
    }
   ],
   "source": [
    "%%time\n",
    "\n",
    "import math\n",
    "def is_prime(n):\n",
    "    if n <= 1:\n",
    "        return False\n",
    "    if n == 2:\n",
    "        return True\n",
    "    if n > 2 and n % 2 == 0:\n",
    "        return False\n",
    " \n",
    "    max_div = math.floor(math.sqrt(n))\n",
    "    for i in range(3, 1 + max_div, 2):\n",
    "        if n % i == 0:\n",
    "            return False\n",
    "    return True\n",
    "\n",
    "print(is_prime(7))\n",
    "print(is_prime(56963))\n",
    "print(is_prime(5151512515524))"
   ]
  },
  {
   "cell_type": "markdown",
   "metadata": {},
   "source": [
    "Question 5:"
   ]
  },
  {
   "cell_type": "raw",
   "metadata": {},
   "source": [
    "Create a function that converts a word to a bitstring and then to a boolean list \n",
    "based on the following criteria:\n",
    "    \n",
    " 1. Locate the position of the letter in the English alphabet (from 1 to 26).\n",
    " 2. Odd positions will be represented as 1 and 0 otherwise.\n",
    " 3. Convert the represented positions to boolean values, 1 for True and 0 for False.\n",
    " 4. Store the conversions into an array.\n",
    "    \n",
    " Examples\n",
    "\n",
    "to_boolean_list(\"deep\") [False, True, True, False]\n",
    "# deep converts to 0110\n",
    "# d is the 4th alphabet - 0\n",
    "# e is the 5th alphabet - 1\n",
    "# e is the 5th alphabet - 1\n",
    "# p is the 16th alphabet - 0\n",
    "to_boolean_list(\"loves\") [False, True, False, True, True]\n",
    "to_boolean_list(\"tesh\") [False, True, True, False]"
   ]
  },
  {
   "cell_type": "markdown",
   "metadata": {},
   "source": [
    "Answer :"
   ]
  },
  {
   "cell_type": "code",
   "execution_count": 32,
   "metadata": {},
   "outputs": [
    {
     "name": "stdout",
     "output_type": "stream",
     "text": [
      "[False, True, True, False]\n",
      "[False, True, False, True, True]\n",
      "[False, True, True, False]\n"
     ]
    }
   ],
   "source": [
    "import string\n",
    "\n",
    "def to_boolean_list(str_):\n",
    "    alpha = string.ascii_lowercase\n",
    "    lst = []\n",
    "    for i in str_:\n",
    "        if alpha.index(i)%2 == 0:\n",
    "            lst.append(True)\n",
    "        else:\n",
    "            lst.append(False)\n",
    "    \n",
    "    return lst\n",
    "\n",
    "print(to_boolean_list(\"deep\"))\n",
    "print(to_boolean_list(\"loves\"))\n",
    "print(to_boolean_list(\"tesh\"))"
   ]
  }
 ],
 "metadata": {
  "kernelspec": {
   "display_name": "Python 3",
   "language": "python",
   "name": "python3"
  },
  "language_info": {
   "codemirror_mode": {
    "name": "ipython",
    "version": 3
   },
   "file_extension": ".py",
   "mimetype": "text/x-python",
   "name": "python",
   "nbconvert_exporter": "python",
   "pygments_lexer": "ipython3",
   "version": "3.8.0"
  },
  "varInspector": {
   "cols": {
    "lenName": 16,
    "lenType": 16,
    "lenVar": 40
   },
   "kernels_config": {
    "python": {
     "delete_cmd_postfix": "",
     "delete_cmd_prefix": "del ",
     "library": "var_list.py",
     "varRefreshCmd": "print(var_dic_list())"
    },
    "r": {
     "delete_cmd_postfix": ") ",
     "delete_cmd_prefix": "rm(",
     "library": "var_list.r",
     "varRefreshCmd": "cat(var_dic_list()) "
    }
   },
   "types_to_exclude": [
    "module",
    "function",
    "builtin_function_or_method",
    "instance",
    "_Feature"
   ],
   "window_display": false
  }
 },
 "nbformat": 4,
 "nbformat_minor": 4
}
