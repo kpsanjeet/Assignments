{
 "cells": [
  {
   "cell_type": "markdown",
   "metadata": {},
   "source": [
    "Question 1:"
   ]
  },
  {
   "cell_type": "raw",
   "metadata": {},
   "source": [
    "Write a function that takes a positive integer num and calculates how many dots exist in a pentagonal \n",
    "shape around the center dot on the Nth iteration.\n",
    "In the image below you can see the first iteration is only a single dot. On the second,\n",
    "there are 6 dots. On the third, there are 16 dots, and on the fourth\n",
    "there are 31 dots.\n",
    "Return the number of dots that exist in the whole pentagon on the Nth\n",
    "iteration.\n",
    "\n",
    "Examples\n",
    "\n",
    "pentagonal(1) 1\n",
    "pentagonal(2) 6\n",
    "pentagonal(3) 16\n",
    "pentagonal(8) 141"
   ]
  },
  {
   "cell_type": "markdown",
   "metadata": {},
   "source": [
    "Answer :"
   ]
  },
  {
   "cell_type": "code",
   "execution_count": 6,
   "metadata": {},
   "outputs": [
    {
     "name": "stdout",
     "output_type": "stream",
     "text": [
      "1\n",
      "6\n",
      "16\n",
      "141\n"
     ]
    }
   ],
   "source": [
    "def pentagonal(num):\n",
    "    if num==1:\n",
    "        return 1\n",
    "    N = num-1\n",
    "    return round(N*(2*5 + (N-1)*5)/2)+1\n",
    "\n",
    "print(pentagonal(1))\n",
    "print(pentagonal(2))\n",
    "print(pentagonal(3))\n",
    "print(pentagonal(8))"
   ]
  },
  {
   "cell_type": "markdown",
   "metadata": {},
   "source": [
    "Question 2:"
   ]
  },
  {
   "cell_type": "raw",
   "metadata": {},
   "source": [
    "Make a function that encrypts a given input with these steps:\n",
    "    \n",
    "Input: \"apple\"\n",
    "    \n",
    "Step 1: Reverse the input: \"elppa\"\n",
    "Step 2: Replace all vowels using the following chart:\n",
    "        \n",
    "a => 0\n",
    "e => 1\n",
    "i => 2\n",
    "o => 2\n",
    "u => 3\n",
    "\n",
    "# \"1lpp0\"\n",
    "\n",
    "Step 3: Add \"aca\" to the end of the word: \"1lpp0aca\"\n",
    "        \n",
    "Output: \"1lpp0aca\"\n",
    "    \n",
    "Examples\n",
    "\n",
    "encrypt(\"banana\") \"0n0n0baca\"\n",
    "encrypt(\"karaca\") \"0c0r0kaca\"\n",
    "encrypt(\"burak\") \"k0r3baca\"\n",
    "encrypt(\"alpaca\") \"0c0pl0aca\""
   ]
  },
  {
   "cell_type": "markdown",
   "metadata": {},
   "source": [
    "Answer :"
   ]
  },
  {
   "cell_type": "code",
   "execution_count": 8,
   "metadata": {},
   "outputs": [
    {
     "name": "stdout",
     "output_type": "stream",
     "text": [
      "1lpp0aca\n",
      "0n0n0baca\n",
      "0c0r0kaca\n",
      "k0r4baca\n",
      "0c0pl0aca\n"
     ]
    }
   ],
   "source": [
    "def encrypts(str_):\n",
    "    vowel = \"aeiou\"\n",
    "    vowel_dic = {\"a\":\"0\",\"e\":\"1\",\"i\":\"2\",\"o\":\"3\",\"u\":\"4\"}\n",
    "    rev_enc = \"\"\n",
    "    for i in str_[::-1]:\n",
    "        if i in vowel:\n",
    "            rev_enc += vowel_dic[i]\n",
    "        else:\n",
    "            rev_enc += i\n",
    "    return rev_enc + \"aca\"\n",
    "            \n",
    "print(encrypts(\"apple\"))\n",
    "print(encrypts(\"banana\"))\n",
    "print(encrypts(\"karaca\"))\n",
    "print(encrypts(\"burak\"))\n",
    "print(encrypts(\"alpaca\"))"
   ]
  },
  {
   "cell_type": "markdown",
   "metadata": {},
   "source": [
    "Question 3:"
   ]
  },
  {
   "cell_type": "raw",
   "metadata": {},
   "source": [
    "Given the month and year as numbers, return whether that month contains a Friday 13th.\n",
    "(i.e You can check Python's datetime module)\n",
    " \n",
    "Examples\n",
    " \n",
    "has_friday_13(3, 2020) True\n",
    "has_friday_13(10, 2017) True\n",
    "has_friday_13(1, 1985) False"
   ]
  },
  {
   "cell_type": "markdown",
   "metadata": {},
   "source": [
    "Answer :"
   ]
  },
  {
   "cell_type": "code",
   "execution_count": 17,
   "metadata": {},
   "outputs": [
    {
     "name": "stdout",
     "output_type": "stream",
     "text": [
      "True\n",
      "True\n",
      "False\n"
     ]
    }
   ],
   "source": [
    "from datetime import date\n",
    "\n",
    "def has_friday_13(mm,yy):\n",
    "    my_date = date(yy, mm, 13)\n",
    "    day = my_date.weekday()\n",
    "    if day == 4:\n",
    "        return True\n",
    "    else:\n",
    "        return False\n",
    "    \n",
    "print(has_friday_13(3, 2020))\n",
    "print(has_friday_13(10, 2017))\n",
    "print(has_friday_13(1, 1985))"
   ]
  },
  {
   "cell_type": "markdown",
   "metadata": {},
   "source": [
    "Question 4:"
   ]
  },
  {
   "cell_type": "raw",
   "metadata": {},
   "source": [
    "Write a regular expression that will help us count how many bad cookies are produced every day.\n",
    "You must use RegEx negative lookbehind.\n",
    "\n",
    "Example\n",
    "\n",
    "lst = [\"bad cookie\", \"good cookie\", \"bad cookie\", \"good cookie\", \"good cookie\"]\n",
    "pattern = \"yourregularexpressionhere\"\n",
    "\n",
    "len(re.findall(pattern, \", \".join(lst))) 2"
   ]
  },
  {
   "cell_type": "markdown",
   "metadata": {},
   "source": [
    "Answer :"
   ]
  },
  {
   "cell_type": "code",
   "execution_count": 55,
   "metadata": {},
   "outputs": [
    {
     "data": {
      "text/plain": [
       "2"
      ]
     },
     "execution_count": 55,
     "metadata": {},
     "output_type": "execute_result"
    }
   ],
   "source": [
    "import re\n",
    "\n",
    "lst = [\"bad cookie\", \"good cookie\", \"bad cookie\", \"good cookie\", \"good cookie\"]\n",
    "pattern = r\"(?<!\\w)bad\"\n",
    "pt = \"\"\n",
    "len(re.findall(pattern, \", \".join(lst)))"
   ]
  },
  {
   "cell_type": "markdown",
   "metadata": {},
   "source": [
    "Question 5:"
   ]
  },
  {
   "cell_type": "raw",
   "metadata": {},
   "source": [
    "Given a list of words in the singular form, return a set of those \n",
    "words in the plural form if they appear more than once in the list.\n",
    "\n",
    "Examples\n",
    "\n",
    "pluralize([\"cow\", \"pig\", \"cow\", \"cow\"]) { \"cows\", \"pig\" }\n",
    "pluralize([\"table\", \"table\", \"table\"]) { \"tables\" }\n",
    "pluralize([\"chair\", \"pencil\", \"arm\"]) { \"chair\", \"pencil\", \"arm\" }"
   ]
  },
  {
   "cell_type": "markdown",
   "metadata": {},
   "source": [
    "Answer :"
   ]
  },
  {
   "cell_type": "code",
   "execution_count": 54,
   "metadata": {},
   "outputs": [
    {
     "name": "stdout",
     "output_type": "stream",
     "text": [
      "{'cows', 'pig'}\n",
      "{'tables'}\n",
      "{'chair', 'pencil', 'arm'}\n"
     ]
    }
   ],
   "source": [
    "def pluralize(lst):\n",
    "    set_ = set()\n",
    "    for i in set(lst):\n",
    "        if lst.count(i)>1:\n",
    "            set_.add(i+\"s\")\n",
    "        else:\n",
    "            set_.add(i)\n",
    "    return set_\n",
    "\n",
    "print(pluralize([\"cow\", \"pig\", \"cow\", \"cow\"]))\n",
    "print(pluralize([\"table\", \"table\", \"table\"]))\n",
    "print(pluralize([\"chair\", \"pencil\", \"arm\"]))"
   ]
  },
  {
   "cell_type": "code",
   "execution_count": null,
   "metadata": {},
   "outputs": [],
   "source": []
  }
 ],
 "metadata": {
  "kernelspec": {
   "display_name": "Python 3",
   "language": "python",
   "name": "python3"
  },
  "language_info": {
   "codemirror_mode": {
    "name": "ipython",
    "version": 3
   },
   "file_extension": ".py",
   "mimetype": "text/x-python",
   "name": "python",
   "nbconvert_exporter": "python",
   "pygments_lexer": "ipython3",
   "version": "3.8.0"
  },
  "varInspector": {
   "cols": {
    "lenName": 16,
    "lenType": 16,
    "lenVar": 40
   },
   "kernels_config": {
    "python": {
     "delete_cmd_postfix": "",
     "delete_cmd_prefix": "del ",
     "library": "var_list.py",
     "varRefreshCmd": "print(var_dic_list())"
    },
    "r": {
     "delete_cmd_postfix": ") ",
     "delete_cmd_prefix": "rm(",
     "library": "var_list.r",
     "varRefreshCmd": "cat(var_dic_list()) "
    }
   },
   "types_to_exclude": [
    "module",
    "function",
    "builtin_function_or_method",
    "instance",
    "_Feature"
   ],
   "window_display": false
  }
 },
 "nbformat": 4,
 "nbformat_minor": 4
}
