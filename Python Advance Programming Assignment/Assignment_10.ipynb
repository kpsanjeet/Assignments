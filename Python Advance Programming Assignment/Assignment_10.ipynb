{
 "cells": [
  {
   "cell_type": "markdown",
   "metadata": {},
   "source": [
    "Question 10:"
   ]
  },
  {
   "cell_type": "raw",
   "metadata": {},
   "source": [
    "Create a function that takes the width, height and character and returns a picture frame as a 2D list.\n",
    "\n",
    "Examples\n",
    "\n",
    "get_frame(4, 5, \"#\") [\n",
    " [\"####\"],\n",
    " [\"# #\"],\n",
    " [\"# #\"],\n",
    " [\"# #\"],\n",
    " [\"####\"]\n",
    "]\n",
    "# Frame is 4 characters wide and 5 characters tall.\n",
    "get_frame(10, 3, \"*\") [\n",
    " [\"**********\"],\n",
    " [\"* *\"],\n",
    " [\"**********\"]\n",
    "]\n",
    "# Frame is 10 characters and wide and 3 characters tall.\n",
    "get_frame(2, 5, \"0\") \"invalid\"\n",
    "# Frame's width is not more than 2."
   ]
  },
  {
   "cell_type": "markdown",
   "metadata": {},
   "source": [
    "Answer :"
   ]
  },
  {
   "cell_type": "code",
   "execution_count": 5,
   "metadata": {},
   "outputs": [
    {
     "name": "stdout",
     "output_type": "stream",
     "text": [
      "['####']\n",
      "['# #']\n",
      "['# #']\n",
      "['# #']\n",
      "['####']\n",
      "\n",
      "['**********']\n",
      "['* *']\n",
      "['**********']\n",
      "\n",
      "invalid\n"
     ]
    }
   ],
   "source": [
    "def get_frame(w,h,char):\n",
    "    frame_2d = []\n",
    "    if w<=2:\n",
    "        return \"invalid\"\n",
    "    frame_2d.append([char*w])\n",
    "    for i in range(1,h-1):\n",
    "        frame_2d.append([char+\" \"+char])\n",
    "    frame_2d.append([char*w])\n",
    "    return frame_2d\n",
    "\n",
    "for i in get_frame(4, 5, \"#\"):print(i)\n",
    "print()\n",
    "for i in get_frame(10, 3, \"*\"):print(i)\n",
    "print()\n",
    "print(get_frame(2, 5, \"0\"))"
   ]
  },
  {
   "cell_type": "markdown",
   "metadata": {},
   "source": [
    "Question 2:"
   ]
  },
  {
   "cell_type": "raw",
   "metadata": {},
   "source": [
    "Write three functions:\n",
    " 1. boolean_and\n",
    " 2. boolean_or\n",
    " 3. boolean_xor\n",
    "These functions should evaluate a list of True and False values, starting from the leftmost\n",
    "element and evaluating pairwise.\n",
    "\n",
    "Examples\n",
    "\n",
    "boolean_and([True, True, False, True]) False\n",
    "# [True, True, False, True] => [True, False, True] => [False, True] => False\n",
    "\n",
    "boolean_or([True, True, False, False]) True\n",
    "# [True, True, False, True] => [True, False, False] => [True, False] => True\n",
    "\n",
    "boolean_xor([True, True, False, False]) False\n",
    "# [True, True, False, False] => [False, False, False] => [False, False] => False"
   ]
  },
  {
   "cell_type": "markdown",
   "metadata": {},
   "source": [
    "Answer :"
   ]
  },
  {
   "cell_type": "code",
   "execution_count": 7,
   "metadata": {},
   "outputs": [
    {
     "name": "stdout",
     "output_type": "stream",
     "text": [
      "False\n",
      "True\n",
      "False\n"
     ]
    }
   ],
   "source": [
    "def boolean_and(lst):\n",
    "    bool_ = lst[0]\n",
    "    for i in range(1,len(lst)):\n",
    "        bool_ = bool_ and lst[i]\n",
    "    return bool_\n",
    "\n",
    "def boolean_or(lst):\n",
    "    bool_ = lst[0]\n",
    "    for i in range(1,len(lst)):\n",
    "        bool_ = bool_ or lst[i]\n",
    "    return bool_\n",
    "\n",
    "def boolean_xor(lst):\n",
    "    bool_ = lst[0]\n",
    "    for i in range(1,len(lst)):\n",
    "        bool_ = bool_ ^ lst[i]\n",
    "    return bool_\n",
    "\n",
    "print(boolean_and([True, True, False, True]))\n",
    "\n",
    "print(boolean_or([True, True, False, False]))\n",
    "\n",
    "print(boolean_xor([True, True, False, False]))"
   ]
  },
  {
   "cell_type": "markdown",
   "metadata": {},
   "source": [
    "Question 3:"
   ]
  },
  {
   "cell_type": "raw",
   "metadata": {},
   "source": [
    "Create a function that creates a box based on dimension n.\n",
    "\n",
    "Examples\n",
    "\n",
    "make_box(5) [\n",
    " \"#####\",\n",
    " \"# #\",\n",
    " \"# #\",\n",
    " \"# #\",\n",
    " \"#####\"\n",
    "]\n",
    "make_box(3) [\n",
    " \"###\",\n",
    " \"# #\",\n",
    " \"###\"\n",
    "]\n",
    "make_box(2) [\n",
    " \"##\",\n",
    " \"##\"\n",
    "]\n",
    "make_box(1) [\n",
    " \"#\"\n",
    "]"
   ]
  },
  {
   "cell_type": "markdown",
   "metadata": {},
   "source": [
    "Answer :"
   ]
  },
  {
   "cell_type": "code",
   "execution_count": 10,
   "metadata": {},
   "outputs": [
    {
     "name": "stdout",
     "output_type": "stream",
     "text": [
      "#####\n",
      "# #\n",
      "# #\n",
      "# #\n",
      "#####\n",
      "\n",
      "###\n",
      "# #\n",
      "###\n",
      "\n",
      "##\n",
      "##\n",
      "\n",
      "#\n"
     ]
    }
   ],
   "source": [
    "def make_box(w):\n",
    "    frame_2d = []\n",
    "    char = \"#\"\n",
    "    frame_2d.append(char*w)\n",
    "    if w>=2:\n",
    "        for i in range(1,w-1):\n",
    "            frame_2d.append(char+\" \"+char)\n",
    "        frame_2d.append(char*w)\n",
    "    return frame_2d\n",
    "\n",
    "for i in make_box(5):print(i)\n",
    "print()\n",
    "for i in make_box(3):print(i)\n",
    "print()\n",
    "for i in make_box(2):print(i)\n",
    "print()\n",
    "for i in make_box(1):print(i)"
   ]
  },
  {
   "cell_type": "markdown",
   "metadata": {},
   "source": [
    "Question 4:"
   ]
  },
  {
   "cell_type": "raw",
   "metadata": {},
   "source": [
    "Given a common phrase, return False if any individual word in the phrase contains duplicate letters.\n",
    "Return True otherwise.\n",
    "\n",
    "Examples\n",
    "\n",
    "no_duplicate_letters(\"Fortune favours the bold.\") True\n",
    "\n",
    "no_duplicate_letters(\"You can lead a horse to water, but you can't make him drink.\") True\n",
    "\n",
    "no_duplicate_letters(\"Look before you leap.\") False\n",
    "# Duplicate letters in \"Look\" and \"before\".\n",
    "\n",
    "no_duplicate_letters(\"An apple a day keeps the doctor away.\") False\n",
    "# Duplicate letters in \"apple\", \"keeps\", \"doctor\", and \"away\"."
   ]
  },
  {
   "cell_type": "markdown",
   "metadata": {},
   "source": [
    "Answer :"
   ]
  },
  {
   "cell_type": "code",
   "execution_count": 17,
   "metadata": {},
   "outputs": [
    {
     "name": "stdout",
     "output_type": "stream",
     "text": [
      "True\n",
      "True\n",
      "False\n",
      "False\n"
     ]
    }
   ],
   "source": [
    "import re\n",
    "\n",
    "def no_duplicate_letters(str_):\n",
    "    lst = re.findall(\"\\w+\",str_)\n",
    "    for i in lst:\n",
    "        if len(i.lower()) != len(set(i.lower())):\n",
    "            return False\n",
    "    return True\n",
    "\n",
    "print(no_duplicate_letters(\"Fortune favours the bold.\"))\n",
    "print(no_duplicate_letters(\"You can lead a horse to water, but you can't make him drink.\"))\n",
    "print(no_duplicate_letters(\"Look before you leap.\"))\n",
    "print(no_duplicate_letters(\"An apple a day keeps the doctor away.\"))"
   ]
  },
  {
   "cell_type": "markdown",
   "metadata": {},
   "source": [
    "Question 5:"
   ]
  },
  {
   "cell_type": "raw",
   "metadata": {},
   "source": [
    "Write a regular expression that will match the states that voted yes to\n",
    "President Trump's impeachment. You must use RegEx positive lookahead.\n",
    "\n",
    "Example\n",
    "\n",
    "txt = \"Texas = no, California = yes, Florida = yes, Michigan = no\"\n",
    "pattern = \"yourregularexpressionhere\"\n",
    "re.findall(pattern, txt) [\"California\", \"Florida\"]"
   ]
  },
  {
   "cell_type": "markdown",
   "metadata": {},
   "source": [
    "Answer :"
   ]
  },
  {
   "cell_type": "code",
   "execution_count": 36,
   "metadata": {},
   "outputs": [
    {
     "data": {
      "text/plain": [
       "['California', 'Florida']"
      ]
     },
     "execution_count": 36,
     "metadata": {},
     "output_type": "execute_result"
    }
   ],
   "source": [
    "import re\n",
    "\n",
    "txt = \"Texas = no, California = yes, Florida = yes, Michigan = no\"\n",
    "pattern = '[a-zA-Z]+(?=\\s=\\syes)'\n",
    "re.findall(pattern, txt)"
   ]
  },
  {
   "cell_type": "code",
   "execution_count": null,
   "metadata": {},
   "outputs": [],
   "source": []
  }
 ],
 "metadata": {
  "kernelspec": {
   "display_name": "Python 3",
   "language": "python",
   "name": "python3"
  },
  "language_info": {
   "codemirror_mode": {
    "name": "ipython",
    "version": 3
   },
   "file_extension": ".py",
   "mimetype": "text/x-python",
   "name": "python",
   "nbconvert_exporter": "python",
   "pygments_lexer": "ipython3",
   "version": "3.8.0"
  },
  "varInspector": {
   "cols": {
    "lenName": 16,
    "lenType": 16,
    "lenVar": 40
   },
   "kernels_config": {
    "python": {
     "delete_cmd_postfix": "",
     "delete_cmd_prefix": "del ",
     "library": "var_list.py",
     "varRefreshCmd": "print(var_dic_list())"
    },
    "r": {
     "delete_cmd_postfix": ") ",
     "delete_cmd_prefix": "rm(",
     "library": "var_list.r",
     "varRefreshCmd": "cat(var_dic_list()) "
    }
   },
   "types_to_exclude": [
    "module",
    "function",
    "builtin_function_or_method",
    "instance",
    "_Feature"
   ],
   "window_display": false
  }
 },
 "nbformat": 4,
 "nbformat_minor": 4
}
