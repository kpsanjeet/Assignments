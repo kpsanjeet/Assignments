{
 "cells": [
  {
   "cell_type": "markdown",
   "metadata": {},
   "source": [
    "Question 1:"
   ]
  },
  {
   "cell_type": "raw",
   "metadata": {},
   "source": [
    "Create a function that transposes a 2D matrix.\n",
    "\n",
    "Examples\n",
    "\n",
    "transpose_matrix([\n",
    " [1, 1, 1],\n",
    " [2, 2, 2],\n",
    " [3, 3, 3]\n",
    "]) [\n",
    " [1, 2, 3],\n",
    " [1, 2, 3],\n",
    " [1, 2, 3]\n",
    "]\n",
    "transpose_matrix([\n",
    " [5, 5],\n",
    " [6, 7],\n",
    " [9, 1]\n",
    "]) [\n",
    " [5, 6, 9],\n",
    " [5, 7, 1]\n",
    "]"
   ]
  },
  {
   "cell_type": "markdown",
   "metadata": {},
   "source": [
    "Answer :"
   ]
  },
  {
   "cell_type": "code",
   "execution_count": 51,
   "metadata": {},
   "outputs": [
    {
     "name": "stdout",
     "output_type": "stream",
     "text": [
      "[1, 2, 3]\n",
      "[1, 2, 3]\n",
      "[1, 2, 3]\n",
      "\n",
      "[5, 6, 9]\n",
      "[5, 7, 1]\n"
     ]
    }
   ],
   "source": [
    "def transpose_matrix(mat):\n",
    "    return list(map(list, zip(*mat)))\n",
    "\n",
    "\n",
    "mat1 = [\n",
    " [1, 1, 1],\n",
    " [2, 2, 2],\n",
    " [3, 3, 3]\n",
    "]\n",
    "for i in transpose_matrix(mat1):print(i)\n",
    "\n",
    "print()\n",
    "\n",
    "mat2 = [\n",
    " [5, 5],\n",
    " [6, 7],\n",
    " [9, 1]\n",
    "]\n",
    "\n",
    "for i in transpose_matrix(mat2):print(i)"
   ]
  },
  {
   "cell_type": "markdown",
   "metadata": {},
   "source": [
    "Question 2:"
   ]
  },
  {
   "cell_type": "raw",
   "metadata": {},
   "source": [
    "Create a function that determines whether a string is a valid hex code.\n",
    "A hex code must begin with a pound key # and is exactly 6 characters in\n",
    "length. Each character must be a digit from 0-9 or an alphabetic character\n",
    "from A-F. All alphabetic characters may be uppercase or lowercase.\n",
    "\n",
    "Examples\n",
    "\n",
    "is_valid_hex_code(\"#CD5C5C\") True\n",
    "is_valid_hex_code(\"#EAECEE\") True\n",
    "is_valid_hex_code(\"#eaecee\") True\n",
    "is_valid_hex_code(\"#CD5C58C\") False\n",
    "# Length exceeds 6\n",
    "is_valid_hex_code(\"#CD5C5Z\") False\n",
    "# Not all alphabetic characters in A-F\n",
    "is_valid_hex_code(\"#CD5C&C\") False\n",
    "# Contains unacceptable character\n",
    "is_valid_hex_code(\"CD5C5C\") False\n",
    "# Missing #"
   ]
  },
  {
   "cell_type": "markdown",
   "metadata": {},
   "source": [
    "Answer :"
   ]
  },
  {
   "cell_type": "code",
   "execution_count": 52,
   "metadata": {},
   "outputs": [
    {
     "name": "stdout",
     "output_type": "stream",
     "text": [
      "True\n",
      "True\n",
      "True\n",
      "False\n",
      "False\n",
      "False\n",
      "False\n"
     ]
    }
   ],
   "source": [
    "import re\n",
    "\n",
    "def is_valid_hex_code(str_):\n",
    "    \n",
    "    str_ = str_.lower()\n",
    "    c = re.compile(\"[0-9^a-f]\")\n",
    "    filt = c.findall(str_)\n",
    "    \n",
    "    return str_[0] == \"#\" and len(filt) == 6\n",
    "        \n",
    "    \n",
    "print(is_valid_hex_code(\"#CD5C5C\"))\n",
    "print(is_valid_hex_code(\"#EAECEE\"))\n",
    "print(is_valid_hex_code(\"#eaecee\"))\n",
    "print(is_valid_hex_code(\"#CD5C58C\"))\n",
    "print(is_valid_hex_code(\"#CD5C5Z\"))\n",
    "print(is_valid_hex_code(\"#CD5C&C\"))\n",
    "print(is_valid_hex_code(\"CD5C5C\"))"
   ]
  },
  {
   "cell_type": "markdown",
   "metadata": {},
   "source": [
    "Question 3:"
   ]
  },
  {
   "cell_type": "raw",
   "metadata": {},
   "source": [
    "Given a list of math equations (given as strings), return the percentage of correct answers as a string.\n",
    "Round to the nearest whole number.\n",
    "\n",
    "Examples\n",
    "\n",
    "mark_maths([\"2+2=4\", \"3+2=5\", \"10-3=3\", \"5+5=10\"]) \"75%\"\n",
    "mark_maths([\"1-2=-2\"]), \"0%\"\n",
    "mark_maths([\"2+3=5\", \"4+4=9\", \"3-1=2\"]) \"67%\""
   ]
  },
  {
   "cell_type": "markdown",
   "metadata": {},
   "source": [
    "Answer :"
   ]
  },
  {
   "cell_type": "code",
   "execution_count": 27,
   "metadata": {},
   "outputs": [
    {
     "name": "stdout",
     "output_type": "stream",
     "text": [
      "75%\n",
      "0%\n",
      "67%\n"
     ]
    }
   ],
   "source": [
    "def mark_maths(lst):\n",
    "    \n",
    "    correct = 0\n",
    "    \n",
    "    for i in lst:\n",
    "        temp = i.split(\"=\")\n",
    "        correct += eval(temp[0]) == eval(temp[1])\n",
    "    return str(round(correct*100/len(lst))) + \"%\"  \n",
    "\n",
    "print(mark_maths([\"2+2=4\", \"3+2=5\", \"10-3=3\", \"5+5=10\"]))\n",
    "print(mark_maths([\"1-2=-2\"]))\n",
    "print(mark_maths([\"2+3=5\", \"4+4=9\", \"3-1=2\"]))"
   ]
  },
  {
   "cell_type": "markdown",
   "metadata": {},
   "source": [
    "Question 4:"
   ]
  },
  {
   "cell_type": "raw",
   "metadata": {},
   "source": [
    "There are two players, Alice and Bob, each with a 3-by-3 grid. A referee\n",
    "tells Alice to fill out one particular row in the grid (say the second row) by\n",
    "putting either a 1 or a 0 in each box, such that the sum of the numbers in that row is odd.\n",
    "The referee tells Bob to fill out one column in the grid (say the first column) by putting \n",
    "either a 1 or a 0 in each box, such that the sum of the\n",
    "numbers in that column is even.\n",
    "Alice and Bob win the game if Alice’s numbers give an odd sum, Bob’s give an even sum, \n",
    "and (most important) they’ve each written down the same\n",
    "number in the one square where their row and column intersect.\n",
    "\n",
    "Examples\n",
    "\n",
    "magic_square_game([2, \"100\"], [1, \"101\"]) False\n",
    "magic_square_game([2, \"001\"], [1, \"101\"]) True\n",
    "magic_square_game([3, \"111\"], [2, \"011\"]) True\n",
    "magic_square_game([1, \"010\"], [3, \"101\"]) False\n",
    "# Two lists, Alice [row, \"her choice\"], Bob [column, \"his choice\"]"
   ]
  },
  {
   "cell_type": "markdown",
   "metadata": {},
   "source": [
    "Answer :"
   ]
  },
  {
   "cell_type": "code",
   "execution_count": 29,
   "metadata": {},
   "outputs": [
    {
     "name": "stdout",
     "output_type": "stream",
     "text": [
      "False\n",
      "True\n",
      "True\n",
      "False\n"
     ]
    }
   ],
   "source": [
    "def magic_square_game(lst1,lst2):\n",
    "    return lst1[1][lst2[0]-1] == lst2[1][lst1[0]-1]\n",
    "\n",
    "print(magic_square_game([2, \"100\"], [1, \"101\"]))\n",
    "print(magic_square_game([2, \"001\"], [1, \"101\"]))\n",
    "print(magic_square_game([3, \"111\"], [2, \"011\"]))\n",
    "print(magic_square_game([1, \"010\"], [3, \"101\"]))"
   ]
  },
  {
   "cell_type": "markdown",
   "metadata": {},
   "source": [
    "Question 5:"
   ]
  },
  {
   "cell_type": "raw",
   "metadata": {},
   "source": [
    "From point A, an object is moving towards point B at constant velocity va (in km/hr).\n",
    "From point B, another object is moving towards point A at constant velocity vb (in km/hr).\n",
    "Knowing this and the distance between point A and B (in km), \n",
    "write a function that returns how much time passes until both objects meet.\n",
    "\n",
    "Format the output like this:\n",
    "\"2h 23min 34s\"\n",
    "\n",
    "Examples\n",
    "\n",
    "lets_meet(100, 10, 30) \"2h 30min 0s\"\n",
    "lets_meet(280, 70, 80) \"1h 52min 0s\"\n",
    "lets_meet(90, 75, 65) \"0h 38min 34s\""
   ]
  },
  {
   "cell_type": "markdown",
   "metadata": {},
   "source": [
    "Answer :"
   ]
  },
  {
   "cell_type": "code",
   "execution_count": 50,
   "metadata": {},
   "outputs": [
    {
     "name": "stdout",
     "output_type": "stream",
     "text": [
      "2h 30min 0s\n",
      "1h 52min 0s\n",
      "0h 38min 34s\n"
     ]
    }
   ],
   "source": [
    "def lets_meet(d,va,vb):\n",
    "    \n",
    "    d = d*1000     #km => m\n",
    "    va = va*5/18   # km/h => m/s\n",
    "    vb = vb*5/18   # km/h => m/s\n",
    "    t = d/(va+vb)\n",
    "    \n",
    "    minutes, seconds = divmod(round(t),60)\n",
    "    hours, minutes = divmod(minutes,60)\n",
    "    return str(hours)+\"h \"+str(minutes)+\"min \"+str(seconds)+\"s\"\n",
    "\n",
    "print(lets_meet(100, 10, 30))\n",
    "print(lets_meet(280, 70, 80)) \n",
    "print(lets_meet(90, 75, 65))"
   ]
  },
  {
   "cell_type": "code",
   "execution_count": null,
   "metadata": {},
   "outputs": [],
   "source": []
  }
 ],
 "metadata": {
  "kernelspec": {
   "display_name": "Python 3",
   "language": "python",
   "name": "python3"
  },
  "language_info": {
   "codemirror_mode": {
    "name": "ipython",
    "version": 3
   },
   "file_extension": ".py",
   "mimetype": "text/x-python",
   "name": "python",
   "nbconvert_exporter": "python",
   "pygments_lexer": "ipython3",
   "version": "3.8.0"
  },
  "varInspector": {
   "cols": {
    "lenName": 16,
    "lenType": 16,
    "lenVar": 40
   },
   "kernels_config": {
    "python": {
     "delete_cmd_postfix": "",
     "delete_cmd_prefix": "del ",
     "library": "var_list.py",
     "varRefreshCmd": "print(var_dic_list())"
    },
    "r": {
     "delete_cmd_postfix": ") ",
     "delete_cmd_prefix": "rm(",
     "library": "var_list.r",
     "varRefreshCmd": "cat(var_dic_list()) "
    }
   },
   "types_to_exclude": [
    "module",
    "function",
    "builtin_function_or_method",
    "instance",
    "_Feature"
   ],
   "window_display": false
  }
 },
 "nbformat": 4,
 "nbformat_minor": 4
}
