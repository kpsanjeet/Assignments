{
 "cells": [
  {
   "cell_type": "markdown",
   "metadata": {},
   "source": [
    "Question 1:"
   ]
  },
  {
   "cell_type": "raw",
   "metadata": {},
   "source": [
    "A robot has been given a list of movement instructions.\n",
    "Each instruction is either left, right, up or down, followed by a distance to move. \n",
    "The robot starts at [0, 0]. \n",
    "You want to calculate where the robot will end up and return its final position as a list.\n",
    "\n",
    "To illustrate, if the robot is given the following instructions:\n",
    "    \n",
    "[\"right 10\", \"up 50\", \"left 30\", \"down 10\"]\n",
    "\n",
    "It will end up 20 left and 40 up from where it started, so we return [-20, 40].\n",
    "\n",
    "Examples\n",
    "\n",
    "track_robot([\"right 10\", \"up 50\", \"left 30\", \"down 10\"]) [-20, 40]\n",
    "track_robot([]) [0, 0]\n",
    "\n",
    "// If there are no instructions, the robot doesn't move.\n",
    "track_robot([\"right 100\", \"right 100\", \"up 500\", \"up 10000\"]) [200, 10500]"
   ]
  },
  {
   "cell_type": "markdown",
   "metadata": {},
   "source": [
    "Answer :"
   ]
  },
  {
   "cell_type": "code",
   "execution_count": 12,
   "metadata": {},
   "outputs": [
    {
     "name": "stdout",
     "output_type": "stream",
     "text": [
      "[-20, 40]\n",
      "[200, 10500]\n"
     ]
    }
   ],
   "source": [
    "import re\n",
    "\n",
    "def track_robot(lst):\n",
    "    dic = {\"right\":0, \"up\":0, \"left\":0, \"down\":0}\n",
    "    for i in lst:\n",
    "        k,j = i.split()\n",
    "        dic[k] += int(j)\n",
    "    return [dic[\"right\"]-dic[\"left\"], dic[\"up\"]-dic[\"down\"]]\n",
    "\n",
    "print(track_robot([\"right 10\", \"up 50\", \"left 30\", \"down 10\"]))\n",
    "print(track_robot([\"right 100\", \"right 100\", \"up 500\", \"up 10000\"]))"
   ]
  },
  {
   "cell_type": "markdown",
   "metadata": {},
   "source": [
    "Question 2:"
   ]
  },
  {
   "cell_type": "raw",
   "metadata": {},
   "source": [
    "Write a function that will return the longest word in a sentence. In cases\n",
    "where more than one word is found, return the first one.\n",
    "\n",
    "Examples\n",
    "\n",
    "find_longest(\"A thing of beauty is a joy forever.\") \"forever\"\n",
    "find_longest(\"Forgetfulness is by all means powerless!\") \"forgetfulness\"\n",
    "find_longest(\"\\\"Strengths\\\" is the longest and most commonly used word that contains only a single vowel.\") \n",
    "\"strengths\""
   ]
  },
  {
   "cell_type": "markdown",
   "metadata": {},
   "source": [
    "Answer :"
   ]
  },
  {
   "cell_type": "code",
   "execution_count": 17,
   "metadata": {},
   "outputs": [
    {
     "name": "stdout",
     "output_type": "stream",
     "text": [
      "forever\n",
      "Forgetfulness\n",
      "Strengths\n"
     ]
    }
   ],
   "source": [
    "import re\n",
    "\n",
    "def find_longest(str_):\n",
    "    str_ = re.findall(\"\\w+\",str_)\n",
    "    return max(str_,key=lambda x : len(x))\n",
    "\n",
    "\n",
    "\n",
    "print(find_longest(\"A thing of beauty is a joy forever.\"))\n",
    "print(find_longest(\"Forgetfulness is by all means powerless!\"))\n",
    "\n",
    "str_ = \"\\\"Strengths\\\" is the longest and most commonly used word that contains only a single vowel.\"\n",
    "print(find_longest(str_))"
   ]
  },
  {
   "cell_type": "markdown",
   "metadata": {},
   "source": [
    "Question 3:"
   ]
  },
  {
   "cell_type": "raw",
   "metadata": {},
   "source": [
    "Create a function to check if a candidate is qualified in an imaginary coding \n",
    "interview of an imaginary tech startup.\n",
    "The criteria for a candidate to be qualified in the coding interview is:\n",
    "    \n",
    " 1. The candidate should have complete all the questions.\n",
    " 2. The maximum time given to complete the interview is 120 minutes.\n",
    " 3. The maximum time given for very easy questions is 5 minutes each.\n",
    " 4. The maximum time given for easy questions is 10 minutes each.\n",
    " 5. The maximum time given for medium questions is 15 minutes each.\n",
    " 6. The maximum time given for hard questions is 20 minutes each.\n",
    "    \n",
    "If all the above conditions are satisfied, return \"qualified\", else return\n",
    "\"disqualified\".\n",
    "You will be given a list of time taken by a candidate to solve a particular\n",
    "question and the total time taken by the candidate to complete the interview.Given a list ,\n",
    "in a true condition will always be in the format\n",
    "[very easy, very easy, easy, easy, medium, medium, hard, hard].\n",
    "\n",
    "The maximum time to complete the interview includes a buffer time of 20\n",
    "minutes.\n",
    "\n",
    "Examples\n",
    "\n",
    "interview([5, 5, 10, 10, 15, 15, 20, 20], 120) \"qualified\"\n",
    "interview([2, 3, 8, 6, 5, 12, 10, 18], 64) \"qualified\"\n",
    "interview([5, 5, 10, 10, 25, 15, 20, 20], 120) \"disqualified\"\n",
    "# Exceeded the time limit for a medium question.\n",
    "interview([5, 5, 10, 10, 15, 15, 20], 120) \"disqualified\"\n",
    "# Did not complete all the questions.\n",
    "interview([5, 5, 10, 10, 15, 15, 20, 20], 130) \"disqualified\"\n",
    "# Solved all the questions in their respected time limits but exceeded the total time limit of the interview"
   ]
  },
  {
   "cell_type": "markdown",
   "metadata": {},
   "source": [
    "Answer :"
   ]
  },
  {
   "cell_type": "code",
   "execution_count": 40,
   "metadata": {},
   "outputs": [
    {
     "name": "stdout",
     "output_type": "stream",
     "text": [
      "qualified\n",
      "qualified\n",
      "disqualified\n",
      "disqualified\n",
      "disqualified\n"
     ]
    }
   ],
   "source": [
    "def interview(lst,time):\n",
    "    \n",
    "    length = len(lst)\n",
    "    if length<8 or time>120:\n",
    "        return \"disqualified\"\n",
    "    for i, j in zip(range(0,length,2),[5,10,15,20]):\n",
    "        if (lst[i]>j or lst[i+1]>j):\n",
    "            return \"disqualified\"\n",
    "        \n",
    "    return \"qualified\"\n",
    "\n",
    "\n",
    "print(interview([5, 5, 10, 10, 15, 15, 20, 20], 120))\n",
    "print(interview([2, 3, 8, 6, 5, 12, 10, 18], 64))\n",
    "print(interview([5, 5, 10, 10, 25, 15, 20, 20], 120))\n",
    "print(interview([5, 5, 10, 10, 15, 15, 20], 120))\n",
    "print(interview([5, 5, 10, 10, 15, 15, 20, 20], 130))"
   ]
  },
  {
   "cell_type": "markdown",
   "metadata": {},
   "source": [
    "Question 4:"
   ]
  },
  {
   "cell_type": "raw",
   "metadata": {},
   "source": [
    "Write a function that divides a list into chunks of size n, where n is the\n",
    "length of each chunk.\n",
    "\n",
    "Examples\n",
    "\n",
    "chunkify([2, 3, 4, 5], 2) [[2, 3], [4, 5]]\n",
    "chunkify([2, 3, 4, 5, 6], 2) [[2, 3], [4, 5], [6]]\n",
    "chunkify([2, 3, 4, 5, 6, 7], 3) [[2, 3, 4], [5, 6, 7]]\n",
    "chunkify([2, 3, 4, 5, 6, 7], 1) [[2], [3], [4], [5], [6], [7]]\n",
    "chunkify([2, 3, 4, 5, 6, 7], 7) [[2, 3, 4, 5, 6, 7]]"
   ]
  },
  {
   "cell_type": "markdown",
   "metadata": {},
   "source": [
    "Answer :"
   ]
  },
  {
   "cell_type": "code",
   "execution_count": 50,
   "metadata": {},
   "outputs": [
    {
     "name": "stdout",
     "output_type": "stream",
     "text": [
      "[[2, 3], [4, 5]]\n",
      "[[2, 3], [4, 5], [6]]\n",
      "[[2, 3, 4], [5, 6, 7]]\n",
      "[[2], [3], [4], [5], [6], [7]]\n",
      "[[2, 3, 4, 5, 6, 7]]\n"
     ]
    }
   ],
   "source": [
    "def chunkify(lst,n):\n",
    "    \n",
    "    chunk = []\n",
    "    for i in range(0,len(lst),n):\n",
    "        chunk.append(lst[i:i+n])\n",
    "        \n",
    "    return chunk\n",
    "\n",
    "\n",
    "print(chunkify([2, 3, 4, 5], 2))\n",
    "print(chunkify([2, 3, 4, 5, 6], 2))\n",
    "print(chunkify([2, 3, 4, 5, 6, 7], 3))\n",
    "print(chunkify([2, 3, 4, 5, 6, 7], 1))\n",
    "print(chunkify([2, 3, 4, 5, 6, 7], 7))"
   ]
  },
  {
   "cell_type": "markdown",
   "metadata": {},
   "source": [
    "Question 5:"
   ]
  },
  {
   "cell_type": "raw",
   "metadata": {},
   "source": [
    "You are given a list of strings consisting of grocery items, with prices in\n",
    "parentheses. Return a list of prices in float format.\n",
    "\n",
    "Examples\n",
    "\n",
    "get_prices([\"salad ($4.99)\"]) [4.99]\n",
    "\n",
    "get_prices([\n",
    " \"artichokes ($1.99)\",\n",
    " \"rotiserrie chicken ($5.99)\",\n",
    " \"gum ($0.75)\"\n",
    "])\n",
    " [1.99, 5.99, 0.75]\n",
    "    \n",
    "get_prices([\n",
    " \"ice cream ($5.99)\",\n",
    " \"banana ($0.20)\",\n",
    " \"sandwich ($8.50)\",\n",
    " \"soup ($1.99)\"\n",
    "])\n",
    " [5.99, 0.2, 8.50, 1.99]"
   ]
  },
  {
   "cell_type": "markdown",
   "metadata": {},
   "source": [
    "Answer :"
   ]
  },
  {
   "cell_type": "code",
   "execution_count": 72,
   "metadata": {},
   "outputs": [
    {
     "name": "stdout",
     "output_type": "stream",
     "text": [
      "[4.99]\n",
      "[1.99, 5.99, 0.75]\n",
      "[5.99, 0.2, 8.5, 1.99]\n"
     ]
    }
   ],
   "source": [
    "import re\n",
    "\n",
    "def get_prices(lst):\n",
    "    return [float(s[s.index(\"(\")+2:s.index(\")\")]) for s in lst]\n",
    "    #return [float(i) for i in re.findall(\"\\d+.\\d+\",items)]\n",
    "\n",
    "print(get_prices([\"salad ($4.99)\"]))\n",
    "                  \n",
    "print(get_prices([\n",
    " \"artichokes ($1.99)\",\n",
    " \"rotiserrie chicken ($5.99)\",\n",
    " \"gum ($0.75)\"\n",
    "]))\n",
    "                  \n",
    "print(get_prices([\n",
    " \"ice cream ($5.99)\",\n",
    " \"banana ($0.20)\",\n",
    " \"sandwich ($8.50)\",\n",
    " \"soup ($1.99)\"\n",
    "]))"
   ]
  },
  {
   "cell_type": "code",
   "execution_count": null,
   "metadata": {},
   "outputs": [],
   "source": []
  }
 ],
 "metadata": {
  "kernelspec": {
   "display_name": "Python 3",
   "language": "python",
   "name": "python3"
  },
  "language_info": {
   "codemirror_mode": {
    "name": "ipython",
    "version": 3
   },
   "file_extension": ".py",
   "mimetype": "text/x-python",
   "name": "python",
   "nbconvert_exporter": "python",
   "pygments_lexer": "ipython3",
   "version": "3.8.0"
  },
  "varInspector": {
   "cols": {
    "lenName": 16,
    "lenType": 16,
    "lenVar": 40
   },
   "kernels_config": {
    "python": {
     "delete_cmd_postfix": "",
     "delete_cmd_prefix": "del ",
     "library": "var_list.py",
     "varRefreshCmd": "print(var_dic_list())"
    },
    "r": {
     "delete_cmd_postfix": ") ",
     "delete_cmd_prefix": "rm(",
     "library": "var_list.r",
     "varRefreshCmd": "cat(var_dic_list()) "
    }
   },
   "types_to_exclude": [
    "module",
    "function",
    "builtin_function_or_method",
    "instance",
    "_Feature"
   ],
   "window_display": false
  }
 },
 "nbformat": 4,
 "nbformat_minor": 4
}
