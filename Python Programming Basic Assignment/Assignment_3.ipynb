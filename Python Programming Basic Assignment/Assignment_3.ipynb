{
 "cells": [
  {
   "cell_type": "markdown",
   "metadata": {},
   "source": [
    "# Questions"
   ]
  },
  {
   "cell_type": "markdown",
   "metadata": {},
   "source": [
    "1. Write a Python Program to Check if a Number is Positive, Negative or Zero?\n",
    "2. Write a Python Program to Check if a Number is Odd or Even?\n",
    "3. Write a Python Program to Check Leap Year?\n",
    "4. Write a Python Program to Check Prime Number?\n",
    "5. Write a Python Program to Print all Prime Numbers in an Interval of 1-10000?"
   ]
  },
  {
   "cell_type": "markdown",
   "metadata": {},
   "source": [
    "# Answers :"
   ]
  },
  {
   "cell_type": "markdown",
   "metadata": {},
   "source": [
    "# 1 :"
   ]
  },
  {
   "cell_type": "code",
   "execution_count": 4,
   "metadata": {},
   "outputs": [
    {
     "name": "stdout",
     "output_type": "stream",
     "text": [
      "This numeber is negative.\n",
      "This number is Zero\n",
      "This numer is positive\n"
     ]
    }
   ],
   "source": [
    "def check_num_types(a):\n",
    "    \"\"\" This function check that the given number is positive, negative or zero.\n",
    "    \n",
    "        Input :\n",
    "            a => A Number\n",
    "        Output :\n",
    "            Return the type of number positive, negative or zero\"\"\"\n",
    "    if a<0 :\n",
    "        return \"This numeber is negative.\"\n",
    "    elif a>0 :\n",
    "        return \"This numer is positive\"\n",
    "    else:\n",
    "        return \"This number is Zero\"\n",
    "        \n",
    "print(check_num_types(-3))\n",
    "print(check_num_types(0))\n",
    "print(check_num_types(6))"
   ]
  },
  {
   "cell_type": "markdown",
   "metadata": {},
   "source": [
    "# 2 :"
   ]
  },
  {
   "cell_type": "code",
   "execution_count": 6,
   "metadata": {},
   "outputs": [
    {
     "name": "stdout",
     "output_type": "stream",
     "text": [
      "This number is odd.\n",
      "This numeber is even.\n",
      "This numeber is even.\n"
     ]
    }
   ],
   "source": [
    "def check_odd_even(a):\n",
    "    \"\"\" This function check that the given number is odd or even.\n",
    "    \n",
    "        Input :\n",
    "            a => A Number\n",
    "        Output :\n",
    "            Return the type of number(odd or even)\"\"\"\n",
    "    if a%2 == 0 :\n",
    "        return \"This numeber is even.\"\n",
    "    else:\n",
    "        return \"This number is odd.\"\n",
    "        \n",
    "print(check_odd_even(-3))\n",
    "print(check_odd_even(0))\n",
    "print(check_odd_even(6))"
   ]
  },
  {
   "cell_type": "markdown",
   "metadata": {},
   "source": [
    "# 3 :"
   ]
  },
  {
   "cell_type": "code",
   "execution_count": 22,
   "metadata": {},
   "outputs": [
    {
     "name": "stdout",
     "output_type": "stream",
     "text": [
      "2000 => A leap year\n",
      "2100 => Not a leap year\n",
      "2022 => Not a leap year\n",
      "2024 => A leap year\n"
     ]
    }
   ],
   "source": [
    "def check_leap_year(yy):\n",
    "    \"\"\" This function check that the given year is a leap year or not.\n",
    "    \n",
    "        Input :\n",
    "            yy => Year\n",
    "        Output :\n",
    "            Return the type of year(is it a leap year or not)\"\"\"\n",
    "    \n",
    "    if yy%100 == 0 :\n",
    "        if yy%400 == 0 :\n",
    "            return f\"{yy} => A leap year\"\n",
    "        else:\n",
    "            return f\"{yy} => Not a leap year\"\n",
    "    elif yy%4 == 0 :\n",
    "        return f\"{yy} => A leap year\"\n",
    "    else:\n",
    "        return f\"{yy} => Not a leap year\"\n",
    "\n",
    "    \n",
    "print(check_leap_year(2000))\n",
    "print(check_leap_year(2100))\n",
    "print(check_leap_year(2022))\n",
    "print(check_leap_year(2024))"
   ]
  },
  {
   "cell_type": "markdown",
   "metadata": {},
   "source": [
    "# 4 :"
   ]
  },
  {
   "cell_type": "code",
   "execution_count": 28,
   "metadata": {},
   "outputs": [
    {
     "name": "stdout",
     "output_type": "stream",
     "text": [
      "40 is not a prime number\n",
      "43 is a prime number\n",
      "99 is not a prime number\n",
      "219 is not a prime number\n",
      "37 is a prime number\n"
     ]
    }
   ],
   "source": [
    "def check_prime(n):\n",
    "    if n > 1:\n",
    "        for i in range(2, n//2+1):\n",
    "            if (n % i) == 0:\n",
    "                return f\"{n} is not a prime number\"\n",
    "        else:\n",
    "            return f\"{n} is a prime number\"      \n",
    "        \n",
    "print(check_prime(40))\n",
    "print(check_prime(43))\n",
    "print(check_prime(99))\n",
    "print(check_prime(219))\n",
    "print(check_prime(37))"
   ]
  },
  {
   "cell_type": "markdown",
   "metadata": {},
   "source": [
    "# 5 :"
   ]
  },
  {
   "cell_type": "raw",
   "metadata": {},
   "source": [
    "# Prime number between 1 to 10000\n",
    "for n in range(1, 10000+1):\n",
    "    if n > 1:  # all prime numbers are greater than 1\n",
    "        for i in range(2, n):\n",
    "            if (n % i) == 0:\n",
    "                break\n",
    "        else:\n",
    "            print(n)"
   ]
  },
  {
   "cell_type": "code",
   "execution_count": null,
   "metadata": {},
   "outputs": [],
   "source": []
  }
 ],
 "metadata": {
  "kernelspec": {
   "display_name": "Python 3",
   "language": "python",
   "name": "python3"
  },
  "language_info": {
   "codemirror_mode": {
    "name": "ipython",
    "version": 3
   },
   "file_extension": ".py",
   "mimetype": "text/x-python",
   "name": "python",
   "nbconvert_exporter": "python",
   "pygments_lexer": "ipython3",
   "version": "3.8.0"
  },
  "varInspector": {
   "cols": {
    "lenName": 16,
    "lenType": 16,
    "lenVar": 40
   },
   "kernels_config": {
    "python": {
     "delete_cmd_postfix": "",
     "delete_cmd_prefix": "del ",
     "library": "var_list.py",
     "varRefreshCmd": "print(var_dic_list())"
    },
    "r": {
     "delete_cmd_postfix": ") ",
     "delete_cmd_prefix": "rm(",
     "library": "var_list.r",
     "varRefreshCmd": "cat(var_dic_list()) "
    }
   },
   "types_to_exclude": [
    "module",
    "function",
    "builtin_function_or_method",
    "instance",
    "_Feature"
   ],
   "window_display": false
  }
 },
 "nbformat": 4,
 "nbformat_minor": 4
}
