{
 "cells": [
  {
   "cell_type": "markdown",
   "metadata": {},
   "source": [
    "Question 1:"
   ]
  },
  {
   "cell_type": "raw",
   "metadata": {},
   "source": [
    "Create a function that takes three integer arguments (a, b, c) and returns the amount of\n",
    "integers which are of equal value.\n",
    "\n",
    "Examples\n",
    "\n",
    "equal(3, 4, 3) ➞ 2\n",
    "equal(1, 1, 1) ➞ 3\n",
    "equal(3, 4, 1) ➞ 0\n",
    "\n",
    "Notes\n",
    "Your function must return 0, 2 or 3."
   ]
  },
  {
   "cell_type": "markdown",
   "metadata": {},
   "source": [
    "Answer :"
   ]
  },
  {
   "cell_type": "code",
   "execution_count": 21,
   "metadata": {},
   "outputs": [
    {
     "name": "stdout",
     "output_type": "stream",
     "text": [
      "2\n",
      "3\n",
      "0\n"
     ]
    }
   ],
   "source": [
    "def equal(a,b,c):\n",
    "    length = len(set((a,b,c)))\n",
    "    if length == 1:\n",
    "        return 3\n",
    "    elif length == 3:\n",
    "        return 0\n",
    "    else:\n",
    "        return 2\n",
    "    \n",
    "print(equal(3, 4, 3))\n",
    "print(equal(1, 1, 1))\n",
    "print(equal(3, 4, 1))"
   ]
  },
  {
   "cell_type": "markdown",
   "metadata": {},
   "source": [
    "Question 2:"
   ]
  },
  {
   "cell_type": "raw",
   "metadata": {},
   "source": [
    "write a function that converts a dictionary into a list of keys-values tuples.\n",
    "\n",
    "Examples\n",
    "\n",
    "dict_to_list({\n",
    " \"D\": 1,\n",
    " \"B\": 2,\n",
    " \"C\": 3\n",
    "}) ➞ [(\"B\", 2), (\"C\", 3), (\"D\", 1)]\n",
    "\n",
    "dict_to_list({\n",
    " \"likes\": 2,\n",
    " \"dislikes\": 3,\n",
    " \"followers\": 10\n",
    "}) ➞ [(\"dislikes\", 3), (\"followers\", 10), (\"likes\", 2)]\n",
    "\n",
    "Notes\n",
    "Return the elements in the list in alphabetical order."
   ]
  },
  {
   "cell_type": "markdown",
   "metadata": {},
   "source": [
    "Answer :"
   ]
  },
  {
   "cell_type": "code",
   "execution_count": 22,
   "metadata": {},
   "outputs": [
    {
     "name": "stdout",
     "output_type": "stream",
     "text": [
      "[('B', 2), ('C', 3), ('D', 1)]\n",
      "[('dislikes', 3), ('followers', 10), ('likes', 2)]\n"
     ]
    }
   ],
   "source": [
    "def dict_to_list(dic):\n",
    "    return sorted(dic.items())\n",
    "\n",
    "print(dict_to_list({\n",
    " \"D\": 1,\n",
    " \"B\": 2,\n",
    " \"C\": 3\n",
    "}))\n",
    "print(dict_to_list({\n",
    " \"likes\": 2,\n",
    " \"dislikes\": 3,\n",
    " \"followers\": 10\n",
    "}))"
   ]
  },
  {
   "cell_type": "markdown",
   "metadata": {},
   "source": [
    "Question 3:"
   ]
  },
  {
   "cell_type": "raw",
   "metadata": {},
   "source": [
    "Write a function that creates a dictionary with each (key, value) pair being the (lower case,\n",
    "upper case) versions of a letter, respectively.\n",
    "Examples\n",
    "mapping([\"p\", \"s\"]) ➞ { \"p\": \"P\", \"s\": \"S\" }\n",
    "mapping([\"a\", \"b\", \"c\"]) ➞ { \"a\": \"A\", \"b\": \"B\", \"c\": \"C\" }\n",
    "mapping([\"a\", \"v\", \"y\", \"z\"]) ➞ { \"a\": \"A\", \"v\": \"V\", \"y\": \"Y\", \"z\": \"Z\" }Notes\n",
    "All of the letters in the input list will always be lowercase."
   ]
  },
  {
   "cell_type": "markdown",
   "metadata": {},
   "source": [
    "Answer :"
   ]
  },
  {
   "cell_type": "code",
   "execution_count": 23,
   "metadata": {},
   "outputs": [
    {
     "name": "stdout",
     "output_type": "stream",
     "text": [
      "{'p': 'P', 's': 'S'}\n",
      "{'a': 'A', 'b': 'B', 'c': 'C'}\n",
      "{'a': 'A', 'v': 'V', 'y': 'Y', 'z': 'Z'}\n"
     ]
    }
   ],
   "source": [
    "def mapping(lst):\n",
    "    dic = {}\n",
    "    for i in lst:\n",
    "        dic[i] = i.upper()\n",
    "    return dic\n",
    "\n",
    "print(mapping([\"p\", \"s\"]))\n",
    "print(mapping([\"a\", \"b\", \"c\"]))\n",
    "print(mapping([\"a\", \"v\", \"y\", \"z\"]))"
   ]
  },
  {
   "cell_type": "markdown",
   "metadata": {},
   "source": [
    "Question 4:"
   ]
  },
  {
   "cell_type": "raw",
   "metadata": {},
   "source": [
    "Write a function, that replaces all vowels in a string with a specified vowel.\n",
    "\n",
    "Examples\n",
    "\n",
    "vow_replace(\"apples and bananas\", \"u\") ➞ \"upplus und bununus\"\n",
    "vow_replace(\"cheese casserole\", \"o\") ➞ \"chooso cossorolo\"\n",
    "vow_replace(\"stuffed jalapeno poppers\", \"e\") ➞ \"steffed jelepene peppers\"\n",
    "\n",
    "Notes\n",
    "All words will be lowercase. Y is not considered a vowel."
   ]
  },
  {
   "cell_type": "markdown",
   "metadata": {},
   "source": [
    "Answer :"
   ]
  },
  {
   "cell_type": "code",
   "execution_count": 25,
   "metadata": {},
   "outputs": [
    {
     "name": "stdout",
     "output_type": "stream",
     "text": [
      "upplus und bununus\n",
      "chooso cossorolo\n",
      "steffed jelepene peppers\n"
     ]
    }
   ],
   "source": [
    "def vow_replace(string, char):\n",
    "    test = \"\"\n",
    "    vowel = \"aeiou\"\n",
    "    for i in string:\n",
    "        if i in vowel:\n",
    "            test += char\n",
    "        else:\n",
    "            test += i\n",
    "    return test\n",
    "\n",
    "\n",
    "print(vow_replace(\"apples and bananas\", \"u\"))\n",
    "print(vow_replace(\"cheese casserole\", \"o\"))\n",
    "print(vow_replace(\"stuffed jalapeno poppers\", \"e\"))"
   ]
  },
  {
   "cell_type": "markdown",
   "metadata": {},
   "source": [
    "Question 5:"
   ]
  },
  {
   "cell_type": "raw",
   "metadata": {},
   "source": [
    "Create a function that takes a string as input and capitalizes a letter if its ASCII code is even\n",
    "and returns its lower case version if its ASCII code is odd.\n",
    "Examples\n",
    "ascii_capitalize(\"to be or not to be!\") ➞ \"To Be oR NoT To Be!\"\n",
    "ascii_capitalize(\"THE LITTLE MERMAID\") ➞ \"THe LiTTLe meRmaiD\"\n",
    "ascii_capitalize(\"Oh what a beautiful morning.\") ➞ \"oH wHaT a BeauTiFuL moRNiNg.\""
   ]
  },
  {
   "cell_type": "code",
   "execution_count": null,
   "metadata": {},
   "outputs": [],
   "source": []
  },
  {
   "cell_type": "markdown",
   "metadata": {},
   "source": [
    "Answer"
   ]
  },
  {
   "cell_type": "code",
   "execution_count": 28,
   "metadata": {},
   "outputs": [
    {
     "name": "stdout",
     "output_type": "stream",
     "text": [
      "To Be oR NoT To Be!\n",
      "THe LiTTLe meRmaiD\n",
      "oH wHaT a BeauTiFuL moRNiNg.\n"
     ]
    }
   ],
   "source": [
    "def ascii_capitalize(string):\n",
    "    test = \"\"\n",
    "    for i in string:\n",
    "        if i.isalpha():\n",
    "            if ord(i)%2 == 0:\n",
    "                test += i.upper()\n",
    "            else:\n",
    "                test += i.lower()\n",
    "        else:\n",
    "            test += i\n",
    "    return test\n",
    "\n",
    "print(ascii_capitalize(\"to be or not to be!\"))\n",
    "print(ascii_capitalize(\"THE LITTLE MERMAID\"))\n",
    "print(ascii_capitalize(\"Oh what a beautiful morning.\"))"
   ]
  },
  {
   "cell_type": "code",
   "execution_count": null,
   "metadata": {},
   "outputs": [],
   "source": []
  }
 ],
 "metadata": {
  "kernelspec": {
   "display_name": "Python 3",
   "language": "python",
   "name": "python3"
  },
  "language_info": {
   "codemirror_mode": {
    "name": "ipython",
    "version": 3
   },
   "file_extension": ".py",
   "mimetype": "text/x-python",
   "name": "python",
   "nbconvert_exporter": "python",
   "pygments_lexer": "ipython3",
   "version": "3.8.0"
  },
  "varInspector": {
   "cols": {
    "lenName": 16,
    "lenType": 16,
    "lenVar": 40
   },
   "kernels_config": {
    "python": {
     "delete_cmd_postfix": "",
     "delete_cmd_prefix": "del ",
     "library": "var_list.py",
     "varRefreshCmd": "print(var_dic_list())"
    },
    "r": {
     "delete_cmd_postfix": ") ",
     "delete_cmd_prefix": "rm(",
     "library": "var_list.r",
     "varRefreshCmd": "cat(var_dic_list()) "
    }
   },
   "types_to_exclude": [
    "module",
    "function",
    "builtin_function_or_method",
    "instance",
    "_Feature"
   ],
   "window_display": false
  }
 },
 "nbformat": 4,
 "nbformat_minor": 4
}
