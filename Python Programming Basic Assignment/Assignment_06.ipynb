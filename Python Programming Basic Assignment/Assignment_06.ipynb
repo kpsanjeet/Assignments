{
 "cells": [
  {
   "cell_type": "markdown",
   "metadata": {},
   "source": [
    "# Questions"
   ]
  },
  {
   "cell_type": "markdown",
   "metadata": {},
   "source": [
    "1. Write a Python Program to Display Fibonacci Sequence Using Recursion?\n",
    "2. Write a Python Program to Find Factorial of Number Using Recursion?\n",
    "3. Write a Python Program to calculate your Body Mass Index?\n",
    "4. Write a Python Program to calculate the natural logarithm of any number?\n",
    "5. Write a Python Program for cube sum of first n natural numbers?"
   ]
  },
  {
   "cell_type": "markdown",
   "metadata": {},
   "source": [
    "# 1 :"
   ]
  },
  {
   "cell_type": "code",
   "execution_count": 9,
   "metadata": {},
   "outputs": [
    {
     "name": "stdout",
     "output_type": "stream",
     "text": [
      "0\n",
      "1\n",
      "1\n",
      "2\n",
      "3\n",
      "5\n",
      "8\n",
      "13\n",
      "21\n",
      "34\n",
      "55\n",
      "89\n",
      "144\n",
      "233\n",
      "377\n",
      "610\n",
      "987\n",
      "1597\n",
      "2584\n",
      "4181\n",
      "6765\n",
      "10946\n"
     ]
    }
   ],
   "source": [
    "def FibSeqRec(num):\n",
    "    if num <= 1:  \n",
    "        return num  \n",
    "    else:  \n",
    "        return(FibSeqRec(num-1) + FibSeqRec(num-2))  \n",
    "N = 22 # Length of sequence\n",
    "# Fibonacci Sequence start from 0,1\n",
    "for i in range(0,N):\n",
    "    print(FibSeqRec(i))"
   ]
  },
  {
   "cell_type": "markdown",
   "metadata": {},
   "source": [
    "# 2 : "
   ]
  },
  {
   "cell_type": "code",
   "execution_count": 18,
   "metadata": {},
   "outputs": [],
   "source": [
    "def FactorialRec(n):\n",
    "    if n == 1:\n",
    "        return n\n",
    "    else:\n",
    "        return n*FactorialRec(n-1)"
   ]
  },
  {
   "cell_type": "code",
   "execution_count": 22,
   "metadata": {},
   "outputs": [
    {
     "data": {
      "text/plain": [
       "120"
      ]
     },
     "execution_count": 22,
     "metadata": {},
     "output_type": "execute_result"
    }
   ],
   "source": [
    "FactorialRec(5)"
   ]
  },
  {
   "cell_type": "markdown",
   "metadata": {},
   "source": [
    "# 3 :"
   ]
  },
  {
   "cell_type": "code",
   "execution_count": 30,
   "metadata": {},
   "outputs": [
    {
     "name": "stdout",
     "output_type": "stream",
     "text": [
      "Enter your weight in Kg = 70\n",
      "Enter your hight in meter = 1.68\n",
      "BMI =  24.801587301587304  kg/m^2\n"
     ]
    }
   ],
   "source": [
    "# we know that BMI = weight/hight^2\n",
    "\n",
    "try:\n",
    "    Weight = input(\"Enter your weight in Kg = \")\n",
    "    Hight = input(\"Enter your hight in meter = \")\n",
    "    print(\"BMI = \",float(Weight)/(float(Hight)**2),\" kg/m^2\")\n",
    "except Exception as e:\n",
    "    print(e)\n",
    "    print(\"Please enter value of your weight in kg and 'hight' in 'meter'\")"
   ]
  },
  {
   "cell_type": "markdown",
   "metadata": {},
   "source": [
    "# 4 :"
   ]
  },
  {
   "cell_type": "code",
   "execution_count": 35,
   "metadata": {},
   "outputs": [
    {
     "name": "stdout",
     "output_type": "stream",
     "text": [
      "Please enter a number = 2.71\n",
      "Natural logarithm of 2.71 =  0.9969486348916096\n"
     ]
    }
   ],
   "source": [
    " import math\n",
    "    \n",
    "def log(num):\n",
    "    return math.log(num)\n",
    "\n",
    "try:\n",
    "    num = float(input(\"Please enter a number = \"))\n",
    "    print(f\"Natural logarithm of {num} = \",log(num))\n",
    "except Exception as e:\n",
    "    print(e)\n",
    "    print(\"Please Try to enter a correct number\")"
   ]
  },
  {
   "cell_type": "markdown",
   "metadata": {},
   "source": [
    "# 5 :"
   ]
  },
  {
   "cell_type": "code",
   "execution_count": 48,
   "metadata": {},
   "outputs": [
    {
     "name": "stdout",
     "output_type": "stream",
     "text": [
      "Enter the total numbers 4\n",
      "Total sum =  100\n"
     ]
    }
   ],
   "source": [
    "try:\n",
    "    n = int(input(\"Enter the total numbers \")) # total number of natural number from 1\n",
    "    sum_ = sum([i**3 for i in range(1,n+1)])\n",
    "    print(\"Total sum = \",sum_)\n",
    "except Exception as e:\n",
    "    print(e)\n",
    "    print(\"Please Try to enter a correct number\")"
   ]
  },
  {
   "cell_type": "code",
   "execution_count": null,
   "metadata": {},
   "outputs": [],
   "source": []
  }
 ],
 "metadata": {
  "kernelspec": {
   "display_name": "Python 3",
   "language": "python",
   "name": "python3"
  },
  "language_info": {
   "codemirror_mode": {
    "name": "ipython",
    "version": 3
   },
   "file_extension": ".py",
   "mimetype": "text/x-python",
   "name": "python",
   "nbconvert_exporter": "python",
   "pygments_lexer": "ipython3",
   "version": "3.8.0"
  },
  "varInspector": {
   "cols": {
    "lenName": 16,
    "lenType": 16,
    "lenVar": 40
   },
   "kernels_config": {
    "python": {
     "delete_cmd_postfix": "",
     "delete_cmd_prefix": "del ",
     "library": "var_list.py",
     "varRefreshCmd": "print(var_dic_list())"
    },
    "r": {
     "delete_cmd_postfix": ") ",
     "delete_cmd_prefix": "rm(",
     "library": "var_list.r",
     "varRefreshCmd": "cat(var_dic_list()) "
    }
   },
   "types_to_exclude": [
    "module",
    "function",
    "builtin_function_or_method",
    "instance",
    "_Feature"
   ],
   "window_display": false
  }
 },
 "nbformat": 4,
 "nbformat_minor": 4
}
