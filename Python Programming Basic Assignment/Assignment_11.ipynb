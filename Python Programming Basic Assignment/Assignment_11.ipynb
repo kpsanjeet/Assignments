{
 "cells": [
  {
   "cell_type": "markdown",
   "metadata": {},
   "source": [
    "# Questions"
   ]
  },
  {
   "cell_type": "markdown",
   "metadata": {},
   "source": [
    "1. Write a Python program to find words which are greater than given length k?\n",
    "2. Write a Python program for removing i-th character from a string?\n",
    "3. Write a Python program to split and join a string?\n",
    "4. Write a Python to check if a given string is binary string or not?\n",
    "5. Write a Python program to find uncommon words from two Strings?\n",
    "6. Write a Python to find all duplicate characters in string?\n",
    "7. Write a Python Program to check if a string contains any special character?"
   ]
  },
  {
   "cell_type": "markdown",
   "metadata": {},
   "source": [
    "# Answers"
   ]
  },
  {
   "cell_type": "markdown",
   "metadata": {},
   "source": [
    "# 1 :"
   ]
  },
  {
   "cell_type": "code",
   "execution_count": 25,
   "metadata": {},
   "outputs": [
    {
     "data": {
      "text/plain": [
       "['Write', 'Python', 'program', 'words', 'which', 'greater', 'given', 'length']"
      ]
     },
     "execution_count": 25,
     "metadata": {},
     "output_type": "execute_result"
    }
   ],
   "source": [
    "Q = \"Write a Python program to find words which are greater than given length k\"\n",
    "qs = Q.split()\n",
    "wrds = []\n",
    "k = 4 # given length\n",
    "for i in qs:\n",
    "    if len(i)>k:\n",
    "        wrds.append(i)\n",
    "wrds"
   ]
  },
  {
   "cell_type": "markdown",
   "metadata": {},
   "source": [
    "# 2 :"
   ]
  },
  {
   "cell_type": "code",
   "execution_count": 32,
   "metadata": {},
   "outputs": [
    {
     "data": {
      "text/plain": [
       "'pogam'"
      ]
     },
     "execution_count": 32,
     "metadata": {},
     "output_type": "execute_result"
    }
   ],
   "source": [
    "st = \"program\"\n",
    "i = 2 # remove i-th character\n",
    "st = st.replace(st[i-1],\"\")\n",
    "st"
   ]
  },
  {
   "cell_type": "markdown",
   "metadata": {},
   "source": [
    "# 3 :"
   ]
  },
  {
   "cell_type": "code",
   "execution_count": 35,
   "metadata": {},
   "outputs": [
    {
     "name": "stdout",
     "output_type": "stream",
     "text": [
      "['Write', 'a', 'Python', 'program', 'to', 'split', 'and', 'join', 'a', 'string?']\n",
      "\n",
      "Write a Python program to split and join a string?\n"
     ]
    }
   ],
   "source": [
    "q3 = \"Write a Python program to split and join a string?\"\n",
    "s_q3 = q3.split(\" \")\n",
    "print(s_q3)\n",
    "\n",
    "print()\n",
    "\n",
    "j_q3 = \" \".join(s_q3)\n",
    "print(j_q3)"
   ]
  },
  {
   "cell_type": "markdown",
   "metadata": {},
   "source": [
    "# 4 :"
   ]
  },
  {
   "cell_type": "code",
   "execution_count": 56,
   "metadata": {},
   "outputs": [
    {
     "name": "stdout",
     "output_type": "stream",
     "text": [
      "010101 is a binary string.\n",
      "0101021 is not a binary string.\n",
      "01010hf21 is not a binary string.\n"
     ]
    }
   ],
   "source": [
    "def is_binary_string(st):\n",
    "    \n",
    "    set1 = set(st)\n",
    "    set2 = {\"0\",\"1\"}\n",
    "    if set1 == set2:\n",
    "        return st+\" is a binary string.\"\n",
    "    else:\n",
    "        return st+\" is not a binary string.\"\n",
    "        \n",
    "print(is_binary_string(\"010101\"))\n",
    "print(is_binary_string(\"0101021\"))\n",
    "print(is_binary_string(\"01010hf21\"))"
   ]
  },
  {
   "cell_type": "markdown",
   "metadata": {},
   "source": [
    "# 5 :"
   ]
  },
  {
   "cell_type": "code",
   "execution_count": 79,
   "metadata": {},
   "outputs": [
    {
     "name": "stdout",
     "output_type": "stream",
     "text": [
      "rnygtham\n",
      "\n",
      "rnygtham\n"
     ]
    }
   ],
   "source": [
    "s1 = \"python\"\n",
    "s2 = \"program\"\n",
    "\n",
    "diff1 = set(s1)-set(s2)\n",
    "diff2 = set(s2)-set(s1)\n",
    "\n",
    "uncommon = \"\".join(list(diff1.union(diff2)))\n",
    "print(uncommon)\n",
    "\n",
    "print()\n",
    "\n",
    "print(\"\".join(list(set(s1).symmetric_difference(set(s2)))))"
   ]
  },
  {
   "cell_type": "code",
   "execution_count": 84,
   "metadata": {},
   "outputs": [],
   "source": [
    "s1 = \"Write a Python program to split and join a string?\"\n",
    "s2 = \"Write a Python program to find uncommon words from two Strings?\""
   ]
  },
  {
   "cell_type": "code",
   "execution_count": 85,
   "metadata": {},
   "outputs": [
    {
     "data": {
      "text/plain": [
       "['words',\n",
       " 'string?',\n",
       " 'uncommon',\n",
       " 'split',\n",
       " 'from',\n",
       " 'and',\n",
       " 'two',\n",
       " 'Strings?',\n",
       " 'find',\n",
       " 'join']"
      ]
     },
     "execution_count": 85,
     "metadata": {},
     "output_type": "execute_result"
    }
   ],
   "source": [
    "list(set(s1.split()).symmetric_difference(set(s2.split())))"
   ]
  },
  {
   "cell_type": "markdown",
   "metadata": {},
   "source": [
    "# 6 :"
   ]
  },
  {
   "cell_type": "code",
   "execution_count": 108,
   "metadata": {},
   "outputs": [
    {
     "name": "stdout",
     "output_type": "stream",
     "text": [
      "renom\n"
     ]
    }
   ],
   "source": [
    "s = \"greateruncommon\"\n",
    "dup_char = \"\"\n",
    "for i in s:\n",
    "    if (s.count(i)>1) and (i not in dup_char):\n",
    "        dup_char += i\n",
    "print(dup_char)"
   ]
  },
  {
   "cell_type": "markdown",
   "metadata": {},
   "source": [
    "# 7 :"
   ]
  },
  {
   "cell_type": "code",
   "execution_count": 138,
   "metadata": {},
   "outputs": [
    {
     "name": "stdout",
     "output_type": "stream",
     "text": [
      "This string have special characters.\n",
      "*?\n",
      "This string have not special characters.\n"
     ]
    }
   ],
   "source": [
    "import string\n",
    "\n",
    "def check_special_char(st,sp_ch):\n",
    "    sp = \"\"\n",
    "    for i in st:\n",
    "        if i in sp_ch:\n",
    "            sp += i\n",
    "    if len(sp)>0 :\n",
    "        print(\"This string have special characters.\")\n",
    "        return sp\n",
    "    else:\n",
    "        return \"This string have not special characters.\"\n",
    "    \n",
    "st1 = 'str*ing?'\n",
    "st2 = 'string'\n",
    "pn = string.punctuation\n",
    "\n",
    "print(check_special_char(st1,pn))\n",
    "print(check_special_char(st2,pn))"
   ]
  },
  {
   "cell_type": "code",
   "execution_count": null,
   "metadata": {},
   "outputs": [],
   "source": []
  }
 ],
 "metadata": {
  "kernelspec": {
   "display_name": "Python 3",
   "language": "python",
   "name": "python3"
  },
  "language_info": {
   "codemirror_mode": {
    "name": "ipython",
    "version": 3
   },
   "file_extension": ".py",
   "mimetype": "text/x-python",
   "name": "python",
   "nbconvert_exporter": "python",
   "pygments_lexer": "ipython3",
   "version": "3.8.0"
  },
  "varInspector": {
   "cols": {
    "lenName": 16,
    "lenType": 16,
    "lenVar": 40
   },
   "kernels_config": {
    "python": {
     "delete_cmd_postfix": "",
     "delete_cmd_prefix": "del ",
     "library": "var_list.py",
     "varRefreshCmd": "print(var_dic_list())"
    },
    "r": {
     "delete_cmd_postfix": ") ",
     "delete_cmd_prefix": "rm(",
     "library": "var_list.r",
     "varRefreshCmd": "cat(var_dic_list()) "
    }
   },
   "types_to_exclude": [
    "module",
    "function",
    "builtin_function_or_method",
    "instance",
    "_Feature"
   ],
   "window_display": false
  }
 },
 "nbformat": 4,
 "nbformat_minor": 4
}
