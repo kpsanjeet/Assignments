{
 "cells": [
  {
   "cell_type": "markdown",
   "metadata": {},
   "source": [
    "# Questions"
   ]
  },
  {
   "cell_type": "markdown",
   "metadata": {},
   "source": [
    "1. Write a Python Program to find sum of array?\n",
    "2. Write a Python Program to find largest element in an array?\n",
    "3. Write a Python Program for array rotation?\n",
    "4. Write a Python Program to Split the array and add the first part to the end?\n",
    "5. Write a Python Program to check if given array is Monotonic?"
   ]
  },
  {
   "cell_type": "markdown",
   "metadata": {},
   "source": [
    "# Answers"
   ]
  },
  {
   "cell_type": "markdown",
   "metadata": {},
   "source": [
    "# 1 :"
   ]
  },
  {
   "cell_type": "code",
   "execution_count": 9,
   "metadata": {},
   "outputs": [
    {
     "name": "stdout",
     "output_type": "stream",
     "text": [
      "134\n",
      "144.0\n",
      "144.0\n"
     ]
    }
   ],
   "source": [
    "import array as arr\n",
    "a = arr.array('i', [1,20,3,59,9,2,40])\n",
    "b = arr.array('d', [1,20,3,58,9,2,40,5,6])\n",
    "print(sum(a))\n",
    "print(sum(b))\n",
    "\n",
    "def sum_(a):\n",
    "    sum1 = 0\n",
    "    for i in a:\n",
    "        sum1 += i\n",
    "    return sum1\n",
    "\n",
    "print(sum_(b))"
   ]
  },
  {
   "cell_type": "markdown",
   "metadata": {},
   "source": [
    "# 2 :"
   ]
  },
  {
   "cell_type": "code",
   "execution_count": 12,
   "metadata": {},
   "outputs": [
    {
     "name": "stdout",
     "output_type": "stream",
     "text": [
      "59\n",
      "58.0\n",
      "59\n"
     ]
    }
   ],
   "source": [
    "import array as arr\n",
    "a = arr.array('i', [1,20,3,59,9,2,40])\n",
    "b = arr.array('d', [1,20,3,58,9,2,40,5,6])\n",
    "print(max(a))\n",
    "print(max(b))\n",
    "\n",
    "def max_(a):\n",
    "    m = a[0]\n",
    "    for i in a:\n",
    "        if m<i:\n",
    "            m = i\n",
    "    return m\n",
    "print(max_(a))   "
   ]
  },
  {
   "cell_type": "markdown",
   "metadata": {},
   "source": [
    "# 3 :"
   ]
  },
  {
   "cell_type": "code",
   "execution_count": 13,
   "metadata": {},
   "outputs": [
    {
     "name": "stdout",
     "output_type": "stream",
     "text": [
      "[3, 4, 5, 6, 7, 1, 2]\n"
     ]
    }
   ],
   "source": [
    "def array_rotation(arr,d):\n",
    "    temp = arr[0:d]\n",
    "    arr = arr[d::]+temp\n",
    "    return arr\n",
    "arr = [1, 2, 3, 4, 5, 6, 7]\n",
    "\n",
    "print(array_rotation(arr,2))"
   ]
  },
  {
   "cell_type": "markdown",
   "metadata": {},
   "source": [
    "# 4 :"
   ]
  },
  {
   "cell_type": "code",
   "execution_count": 18,
   "metadata": {},
   "outputs": [
    {
     "name": "stdout",
     "output_type": "stream",
     "text": [
      "First part =  [1, 2, 3, 4, 5]\n",
      "Second part =  [4, 5]\n",
      "[6, 7, 1, 2, 3, 4, 5]\n"
     ]
    }
   ],
   "source": [
    "def split_add(arr,d):\n",
    "    # d is the index from which we will split the array or list\n",
    "    temp = arr[0:d]\n",
    "    arr = arr[d::]+temp\n",
    "    print(\"First part = \", temp)\n",
    "    print(\"Second part = \", arr[d::])\n",
    "    return arr\n",
    "arr = [1, 2, 3, 4, 5, 6, 7]\n",
    "\n",
    "print(split_add(arr,5))"
   ]
  },
  {
   "cell_type": "markdown",
   "metadata": {},
   "source": [
    "# 5 :"
   ]
  },
  {
   "cell_type": "code",
   "execution_count": 33,
   "metadata": {},
   "outputs": [
    {
     "name": "stdout",
     "output_type": "stream",
     "text": [
      "Not monotonic\n",
      "monotonic\n"
     ]
    }
   ],
   "source": [
    "def check_monotonicity(x):\n",
    "    xs_i = sorted(x,reverse=False)\n",
    "    xs_d = sorted(x,reverse=True)\n",
    "    if xs_d==x or xs_i==x:\n",
    "        return \"monotonic\"\n",
    "    else:\n",
    "        return \"Not monotonic\"\n",
    "    \n",
    "x1 = [6, 7, 1, 2, 3, 4, 5]\n",
    "x2 = [1, 2, 3, 4, 5, 6, 7]\n",
    "\n",
    "print(check_monotonicity(x1))\n",
    "print(check_monotonicity(x2))"
   ]
  },
  {
   "cell_type": "code",
   "execution_count": null,
   "metadata": {},
   "outputs": [],
   "source": []
  }
 ],
 "metadata": {
  "kernelspec": {
   "display_name": "Python 3",
   "language": "python",
   "name": "python3"
  },
  "language_info": {
   "codemirror_mode": {
    "name": "ipython",
    "version": 3
   },
   "file_extension": ".py",
   "mimetype": "text/x-python",
   "name": "python",
   "nbconvert_exporter": "python",
   "pygments_lexer": "ipython3",
   "version": "3.8.0"
  },
  "varInspector": {
   "cols": {
    "lenName": 16,
    "lenType": 16,
    "lenVar": 40
   },
   "kernels_config": {
    "python": {
     "delete_cmd_postfix": "",
     "delete_cmd_prefix": "del ",
     "library": "var_list.py",
     "varRefreshCmd": "print(var_dic_list())"
    },
    "r": {
     "delete_cmd_postfix": ") ",
     "delete_cmd_prefix": "rm(",
     "library": "var_list.r",
     "varRefreshCmd": "cat(var_dic_list()) "
    }
   },
   "types_to_exclude": [
    "module",
    "function",
    "builtin_function_or_method",
    "instance",
    "_Feature"
   ],
   "window_display": false
  }
 },
 "nbformat": 4,
 "nbformat_minor": 4
}
