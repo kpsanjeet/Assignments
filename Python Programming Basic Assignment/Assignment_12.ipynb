{
 "cells": [
  {
   "cell_type": "markdown",
   "metadata": {},
   "source": [
    "# Questions"
   ]
  },
  {
   "cell_type": "markdown",
   "metadata": {},
   "source": [
    "1. Write a Python program to Extract Unique values dictionary values?\n",
    "2. Write a Python program to find the sum of all items in a dictionary?\n",
    "3. Write a Python program to Merging two Dictionaries?\n",
    "4. Write a Python program to convert key-values list to flat dictionary?\n",
    "5. Write a Python program to insertion at the beginning in OrderedDict?\n",
    "6. Write a Python program to check order of character in string using OrderedDict()?\n",
    "7. Write a Python program to sort Python Dictionaries by Key or Value?"
   ]
  },
  {
   "cell_type": "markdown",
   "metadata": {},
   "source": [
    "# Answers"
   ]
  },
  {
   "cell_type": "markdown",
   "metadata": {},
   "source": [
    "# 1 :"
   ]
  },
  {
   "cell_type": "code",
   "execution_count": 9,
   "metadata": {},
   "outputs": [
    {
     "name": "stdout",
     "output_type": "stream",
     "text": [
      "[4, 7, 8, 9, 10, 11, 12]\n"
     ]
    }
   ],
   "source": [
    "dic = {'a' : [4, 8, 7, 9],'b' : [12, 11, 7, 4],'c' : [11, 12, 10, 9]}\n",
    "\n",
    "val  = []\n",
    "for i in dic.values():\n",
    "    val += i\n",
    "    \n",
    "unique_val = list(set(val))\n",
    "print(unique_val)"
   ]
  },
  {
   "cell_type": "markdown",
   "metadata": {},
   "source": [
    "# 2 :"
   ]
  },
  {
   "cell_type": "code",
   "execution_count": 13,
   "metadata": {},
   "outputs": [
    {
     "name": "stdout",
     "output_type": "stream",
     "text": [
      "104\n"
     ]
    }
   ],
   "source": [
    "dic = {'a' : [4, 8, 7, 9],'b' : [12, 11, 7, 4],'c' : [11, 12, 10, 9]}\n",
    "\n",
    "sum_ = sum([sum(i) for i in dic.values()])\n",
    "\n",
    "print(sum_)"
   ]
  },
  {
   "cell_type": "markdown",
   "metadata": {},
   "source": [
    "# 3 :"
   ]
  },
  {
   "cell_type": "code",
   "execution_count": 15,
   "metadata": {},
   "outputs": [
    {
     "data": {
      "text/plain": [
       "{'a': [4, 8, 7, 9],\n",
       " 'b': [12, 11, 7, 4],\n",
       " 'c': [11, 12, 10, 9],\n",
       " 'd': [4, 8, 45, 9]}"
      ]
     },
     "execution_count": 15,
     "metadata": {},
     "output_type": "execute_result"
    }
   ],
   "source": [
    "dic1 = {'a' : [4, 8, 7, 9],'b' : [12, 11, 7, 4],'c' : [11, 12, 10, 9]}\n",
    "dic2 = {'a' : [4, 8, 7, 9],'b' : [12, 11, 7, 4],'c' : [11, 12, 10, 9],'d':[4,8,45,9]}\n",
    "\n",
    "comb_dic = {**dic1,**dic2}\n",
    "comb_dic"
   ]
  },
  {
   "cell_type": "markdown",
   "metadata": {},
   "source": [
    "# 4 :"
   ]
  },
  {
   "cell_type": "code",
   "execution_count": 25,
   "metadata": {},
   "outputs": [
    {
     "data": {
      "text/plain": [
       "{'Sachin': 'Cricket', 'Sania': 'Tenis', 'Bhutia': 'Football'}"
      ]
     },
     "execution_count": 25,
     "metadata": {},
     "output_type": "execute_result"
    }
   ],
   "source": [
    "dic = {\"Name\":[\"Sachin\",\"Sania\",\"Bhutia\"],\"sports\":[\"Cricket\",\"Tenis\",\"Football\"]}\n",
    "\n",
    "flat_dic = {k:v for k,v in zip(dic[\"Name\"],dic[\"sports\"])}\n",
    "flat_dic"
   ]
  },
  {
   "cell_type": "markdown",
   "metadata": {},
   "source": [
    "# 5 :"
   ]
  },
  {
   "cell_type": "code",
   "execution_count": 31,
   "metadata": {},
   "outputs": [
    {
     "data": {
      "text/plain": [
       "OrderedDict([('Sachin', 'Cricket'),\n",
       "             ('Sania', 'Tenis'),\n",
       "             ('Bhutia', 'Football')])"
      ]
     },
     "execution_count": 31,
     "metadata": {},
     "output_type": "execute_result"
    }
   ],
   "source": [
    "from collections import OrderedDict\n",
    "order_dic = OrderedDict({'Sachin': 'Cricket', 'Sania': 'Tenis', 'Bhutia': 'Football'})\n",
    "order_dic"
   ]
  },
  {
   "cell_type": "code",
   "execution_count": 32,
   "metadata": {},
   "outputs": [
    {
     "data": {
      "text/plain": [
       "OrderedDict([('Gagan', 'Shooting'),\n",
       "             ('Sachin', 'Cricket'),\n",
       "             ('Sania', 'Tenis'),\n",
       "             ('Bhutia', 'Football')])"
      ]
     },
     "execution_count": 32,
     "metadata": {},
     "output_type": "execute_result"
    }
   ],
   "source": [
    "order_dic.update({\"Gagan\":\"Shooting\"})\n",
    "order_dic.move_to_end('Gagan', last = False)\n",
    "order_dic"
   ]
  },
  {
   "cell_type": "markdown",
   "metadata": {},
   "source": [
    "# 6 :"
   ]
  },
  {
   "cell_type": "code",
   "execution_count": 42,
   "metadata": {},
   "outputs": [],
   "source": [
    "from collections import OrderedDict \n",
    "  \n",
    "def check_order(st, pattern): \n",
    "      \n",
    "    dic = OrderedDict.fromkeys(st) \n",
    "\n",
    "    p_len = 0\n",
    "    for key,value in dic.items(): \n",
    "        if key == pattern[p_len]: \n",
    "            p_len = p_len + 1\n",
    "          \n",
    "        if p_len == (len(pattern)): \n",
    "            return True\n",
    "  \n",
    "    return False"
   ]
  },
  {
   "cell_type": "code",
   "execution_count": 44,
   "metadata": {},
   "outputs": [
    {
     "data": {
      "text/plain": [
       "True"
      ]
     },
     "execution_count": 44,
     "metadata": {},
     "output_type": "execute_result"
    }
   ],
   "source": [
    "st = \"python program\"\n",
    "pattern = \"th\"\n",
    "check_order(st,pattern)"
   ]
  },
  {
   "cell_type": "code",
   "execution_count": 45,
   "metadata": {},
   "outputs": [
    {
     "data": {
      "text/plain": [
       "True"
      ]
     },
     "execution_count": 45,
     "metadata": {},
     "output_type": "execute_result"
    }
   ],
   "source": [
    "st = \"python program\"\n",
    "pattern = \"yth\"\n",
    "check_order(st,pattern)"
   ]
  },
  {
   "cell_type": "code",
   "execution_count": 47,
   "metadata": {},
   "outputs": [
    {
     "data": {
      "text/plain": [
       "False"
      ]
     },
     "execution_count": 47,
     "metadata": {},
     "output_type": "execute_result"
    }
   ],
   "source": [
    "st = \"python program\"\n",
    "pattern = \"op\"\n",
    "check_order(st,pattern)"
   ]
  },
  {
   "cell_type": "markdown",
   "metadata": {},
   "source": [
    "# 7 :"
   ]
  },
  {
   "cell_type": "code",
   "execution_count": 52,
   "metadata": {},
   "outputs": [
    {
     "name": "stdout",
     "output_type": "stream",
     "text": [
      "{'a': 25, 'b': 4, 'c': 30, 'd': 34, 'e': 20}\n",
      "{'b': 4, 'e': 20, 'a': 25, 'c': 30, 'd': 34}\n"
     ]
    }
   ],
   "source": [
    "x = {\"e\": 20, \"b\": 4, \"c\": 30, \"a\": 25, \"d\": 34}\n",
    "\n",
    "sort_keys = {k: v for k, v in sorted(x.items(), key=lambda item: item[0])}\n",
    "sort_values = {k: v for k, v in sorted(x.items(), key=lambda item: item[1])}\n",
    "\n",
    "print(sort_keys)\n",
    "print(sort_values)"
   ]
  }
 ],
 "metadata": {
  "kernelspec": {
   "display_name": "Python 3",
   "language": "python",
   "name": "python3"
  },
  "language_info": {
   "codemirror_mode": {
    "name": "ipython",
    "version": 3
   },
   "file_extension": ".py",
   "mimetype": "text/x-python",
   "name": "python",
   "nbconvert_exporter": "python",
   "pygments_lexer": "ipython3",
   "version": "3.8.0"
  },
  "varInspector": {
   "cols": {
    "lenName": 16,
    "lenType": 16,
    "lenVar": 40
   },
   "kernels_config": {
    "python": {
     "delete_cmd_postfix": "",
     "delete_cmd_prefix": "del ",
     "library": "var_list.py",
     "varRefreshCmd": "print(var_dic_list())"
    },
    "r": {
     "delete_cmd_postfix": ") ",
     "delete_cmd_prefix": "rm(",
     "library": "var_list.r",
     "varRefreshCmd": "cat(var_dic_list()) "
    }
   },
   "types_to_exclude": [
    "module",
    "function",
    "builtin_function_or_method",
    "instance",
    "_Feature"
   ],
   "window_display": false
  }
 },
 "nbformat": 4,
 "nbformat_minor": 4
}
