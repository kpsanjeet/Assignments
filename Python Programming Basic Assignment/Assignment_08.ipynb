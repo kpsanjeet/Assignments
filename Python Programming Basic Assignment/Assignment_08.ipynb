{
 "cells": [
  {
   "cell_type": "markdown",
   "metadata": {},
   "source": [
    "# Questions"
   ]
  },
  {
   "cell_type": "markdown",
   "metadata": {},
   "source": [
    "1. Write a Python Program to Add Two Matrices?\n",
    "2. Write a Python Program to Multiply Two Matrices?\n",
    "3. Write a Python Program to Transpose a Matrix?\n",
    "4. Write a Python Program to Sort Words in Alphabetic Order?\n",
    "5. Write a Python Program to Remove Punctuation From a String?"
   ]
  },
  {
   "cell_type": "markdown",
   "metadata": {},
   "source": [
    "# 1 :"
   ]
  },
  {
   "cell_type": "code",
   "execution_count": 21,
   "metadata": {},
   "outputs": [
    {
     "name": "stdout",
     "output_type": "stream",
     "text": [
      "[2, 4, 12]\n",
      "[6, 8, 10]\n"
     ]
    }
   ],
   "source": [
    "def matrix_addition(a,b):\n",
    "    rows = len(a)\n",
    "    columns = len(a[0])\n",
    "\n",
    "    sum_ = []\n",
    "\n",
    "    for i in range(rows):\n",
    "        temp = []\n",
    "        for j in range(columns):\n",
    "            temp.append(a[i][j]+b[i][j])\n",
    "        \n",
    "        sum_.append(temp)\n",
    "    return sum_\n",
    "  \n",
    "a = [[1,2,6],\n",
    "     [3,4,5]]\n",
    "\n",
    "b = [[1,2,6],\n",
    "     [3,4,5]]\n",
    "\n",
    "for i in matrix_addition(a,b):print(i)"
   ]
  },
  {
   "cell_type": "markdown",
   "metadata": {},
   "source": [
    "# 2 :"
   ]
  },
  {
   "cell_type": "code",
   "execution_count": 45,
   "metadata": {},
   "outputs": [
    {
     "name": "stdout",
     "output_type": "stream",
     "text": [
      "Matrix multiplication is not possible.\n",
      "[[31, 40, 52], [35, 47, 68]]\n"
     ]
    }
   ],
   "source": [
    "# Matrix multiplication\n",
    "\n",
    "def matrix_multiplication(a,b):\n",
    "    mult = []\n",
    "    row_a = len(a)\n",
    "    col_a = len(a[0])\n",
    "    row_b = len(b)\n",
    "    col_b = len(b[0])\n",
    "    \n",
    "    if col_a != row_b :\n",
    "        return \"Matrix multiplication is not possible.\"\n",
    "    for i in range(row_a):\n",
    "        temp = []\n",
    "        for j in range(col_b):\n",
    "            sum_r = 0\n",
    "            for k in range(row_b):\n",
    "                sum_r += a[i][k] * b[k][j]\n",
    "            temp.append(sum_r)\n",
    "        mult.append(temp)\n",
    "    return mult\n",
    "    \n",
    "    \n",
    "a = [[1,2,6],\n",
    "     [3,4,5]]\n",
    "\n",
    "b = [[1,2,6],\n",
    "     [3,4,5]]\n",
    "\n",
    "print(matrix_multiplication(a,b))\n",
    "\n",
    "a = [[1,2,6],\n",
    "     [3,4,5]]\n",
    "\n",
    "b = [[1,2,6],\n",
    "     [3,4,5],\n",
    "     [4,5,6]]\n",
    "\n",
    "print(matrix_multiplication(a,b))"
   ]
  },
  {
   "cell_type": "markdown",
   "metadata": {},
   "source": [
    "# 3 :"
   ]
  },
  {
   "cell_type": "code",
   "execution_count": 20,
   "metadata": {},
   "outputs": [
    {
     "name": "stdout",
     "output_type": "stream",
     "text": [
      "[1, 3]\n",
      "[2, 4]\n",
      "[6, 5]\n"
     ]
    }
   ],
   "source": [
    "def tranpose(a):\n",
    "    rows = len(a)\n",
    "    columns = len(a[0])\n",
    "\n",
    "    tr = []\n",
    "\n",
    "    for i in range(columns):\n",
    "        temp = []\n",
    "        for j in range(rows):\n",
    "            temp.append(a[j][i])\n",
    "        \n",
    "        tr.append(temp)\n",
    "    return tr\n",
    "\n",
    "a = [[1,2,6],\n",
    "     [3,4,5]]\n",
    "\n",
    "for i in tranpose(a):print(i)"
   ]
  },
  {
   "cell_type": "markdown",
   "metadata": {},
   "source": [
    "# 4 :"
   ]
  },
  {
   "cell_type": "code",
   "execution_count": 49,
   "metadata": {},
   "outputs": [
    {
     "data": {
      "text/plain": [
       "'addefhhllnstuvwy'"
      ]
     },
     "execution_count": 49,
     "metadata": {},
     "output_type": "execute_result"
    }
   ],
   "source": [
    "words = \"wnetyuhdvfashdll\"\n",
    "\n",
    "\"\".join(sorted(words))"
   ]
  },
  {
   "cell_type": "markdown",
   "metadata": {},
   "source": [
    "# 5 :"
   ]
  },
  {
   "cell_type": "code",
   "execution_count": 53,
   "metadata": {},
   "outputs": [
    {
     "data": {
      "text/plain": [
       "'!\"#$%&\\'()*+,-./:;<=>?@[\\\\]^_`{|}~'"
      ]
     },
     "execution_count": 53,
     "metadata": {},
     "output_type": "execute_result"
    }
   ],
   "source": [
    "import string\n",
    "string.punctuation"
   ]
  },
  {
   "cell_type": "code",
   "execution_count": 57,
   "metadata": {},
   "outputs": [
    {
     "data": {
      "text/plain": [
       "'string. With. Punctuation?'"
      ]
     },
     "execution_count": 57,
     "metadata": {},
     "output_type": "execute_result"
    }
   ],
   "source": [
    "s = \"string. With. Punctuation?\"\n",
    "s"
   ]
  },
  {
   "cell_type": "code",
   "execution_count": 58,
   "metadata": {},
   "outputs": [
    {
     "data": {
      "text/plain": [
       "'string With Punctuation'"
      ]
     },
     "execution_count": 58,
     "metadata": {},
     "output_type": "execute_result"
    }
   ],
   "source": [
    "s.translate(str.maketrans('', '', string.punctuation))"
   ]
  },
  {
   "cell_type": "code",
   "execution_count": null,
   "metadata": {},
   "outputs": [],
   "source": []
  }
 ],
 "metadata": {
  "kernelspec": {
   "display_name": "Python 3",
   "language": "python",
   "name": "python3"
  },
  "language_info": {
   "codemirror_mode": {
    "name": "ipython",
    "version": 3
   },
   "file_extension": ".py",
   "mimetype": "text/x-python",
   "name": "python",
   "nbconvert_exporter": "python",
   "pygments_lexer": "ipython3",
   "version": "3.8.0"
  },
  "varInspector": {
   "cols": {
    "lenName": 16,
    "lenType": 16,
    "lenVar": 40
   },
   "kernels_config": {
    "python": {
     "delete_cmd_postfix": "",
     "delete_cmd_prefix": "del ",
     "library": "var_list.py",
     "varRefreshCmd": "print(var_dic_list())"
    },
    "r": {
     "delete_cmd_postfix": ") ",
     "delete_cmd_prefix": "rm(",
     "library": "var_list.r",
     "varRefreshCmd": "cat(var_dic_list()) "
    }
   },
   "types_to_exclude": [
    "module",
    "function",
    "builtin_function_or_method",
    "instance",
    "_Feature"
   ],
   "window_display": false
  }
 },
 "nbformat": 4,
 "nbformat_minor": 4
}
