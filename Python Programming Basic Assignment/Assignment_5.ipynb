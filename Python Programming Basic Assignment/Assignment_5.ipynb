{
 "cells": [
  {
   "cell_type": "markdown",
   "metadata": {},
   "source": [
    "# Questions"
   ]
  },
  {
   "cell_type": "markdown",
   "metadata": {},
   "source": [
    "1. Write a Python Program to Find LCM?\n",
    "2. Write a Python Program to Find HCF?\n",
    "3. Write a Python Program to Convert Decimal to Binary, Octal and Hexadecimal?\n",
    "4. Write a Python Program To Find ASCII value of a character?\n",
    "5. Write a Python Program to Make a Simple Calculator with 4 basic mathematical operations?"
   ]
  },
  {
   "cell_type": "markdown",
   "metadata": {},
   "source": [
    "# 1 :"
   ]
  },
  {
   "cell_type": "code",
   "execution_count": 25,
   "metadata": {},
   "outputs": [
    {
     "name": "stdout",
     "output_type": "stream",
     "text": [
      "35\n",
      "140\n",
      "1155\n",
      "221\n",
      "6\n"
     ]
    }
   ],
   "source": [
    "# LCM of two numbers\n",
    "\n",
    "def LCM(num1, num2):\n",
    "\n",
    "    max_num = max(num1,num2)\n",
    "\n",
    "    while True :\n",
    "        if((max_num % num1 == 0) and (max_num % num2 == 0)):\n",
    "            lcm = max_num\n",
    "            break\n",
    "        max_num += 1\n",
    "\n",
    "    return lcm\n",
    "\n",
    "print(LCM(5,7))\n",
    "print(LCM(20,7))\n",
    "print(LCM(55,21))\n",
    "print(LCM(13,17))\n",
    "print(LCM(3,2))"
   ]
  },
  {
   "cell_type": "markdown",
   "metadata": {},
   "source": [
    "# 2 :"
   ]
  },
  {
   "cell_type": "code",
   "execution_count": 30,
   "metadata": {},
   "outputs": [
    {
     "name": "stdout",
     "output_type": "stream",
     "text": [
      "1.0\n",
      "8.0\n",
      "5.0\n",
      "13.0\n",
      "5.0\n"
     ]
    }
   ],
   "source": [
    "def LCM(num1, num2):\n",
    "\n",
    "    max_num = max(num1,num2)\n",
    "\n",
    "    while True :\n",
    "        if((max_num % num1 == 0) and (max_num % num2 == 0)):\n",
    "            lcm = max_num\n",
    "            break\n",
    "        max_num += 1\n",
    "\n",
    "    return lcm\n",
    "\n",
    "def HCF(num1,num2):\n",
    "    return num1*num2/LCM(num1,num2)\n",
    "\n",
    "print(HCF(5,7))\n",
    "print(HCF(8,16))\n",
    "print(HCF(5,50))\n",
    "print(HCF(39,13))\n",
    "print(HCF(10,15))"
   ]
  },
  {
   "cell_type": "markdown",
   "metadata": {},
   "source": [
    "# 3 :"
   ]
  },
  {
   "cell_type": "code",
   "execution_count": 44,
   "metadata": {},
   "outputs": [],
   "source": [
    "def DecimalToBinary(dec_num):\n",
    "    return bin(dec_num)\n",
    "\n",
    "def DecimalToOctal(dec_num):\n",
    "    return oct(dec_num)\n",
    "\n",
    "def DecimalToHexadecimal(dec_num):\n",
    "    return oct(dec_num)"
   ]
  },
  {
   "cell_type": "code",
   "execution_count": 45,
   "metadata": {},
   "outputs": [
    {
     "name": "stdout",
     "output_type": "stream",
     "text": [
      "0b11000\n",
      "0o30\n",
      "0o30\n"
     ]
    }
   ],
   "source": [
    "print(DecimalToBinary(24))\n",
    "print(DecimalToOctal(24))\n",
    "print(DecimalToHexadecimal(24))"
   ]
  },
  {
   "cell_type": "markdown",
   "metadata": {},
   "source": [
    "# 4 :"
   ]
  },
  {
   "cell_type": "code",
   "execution_count": 46,
   "metadata": {},
   "outputs": [
    {
     "name": "stdout",
     "output_type": "stream",
     "text": [
      "88\n",
      "120\n",
      "35\n"
     ]
    }
   ],
   "source": [
    "# In pythgon a in-built ord() use to find the ASCII value of a character.\n",
    "\n",
    "def char_to_ascii_value(char):\n",
    "    return ord(char)\n",
    "\n",
    "print(char_to_ascii_value(\"X\"))\n",
    "print(char_to_ascii_value(\"x\"))\n",
    "print(char_to_ascii_value(\"#\"))"
   ]
  },
  {
   "cell_type": "markdown",
   "metadata": {},
   "source": [
    "# 5 :"
   ]
  },
  {
   "cell_type": "code",
   "execution_count": 48,
   "metadata": {},
   "outputs": [
    {
     "name": "stdout",
     "output_type": "stream",
     "text": [
      "9\n",
      "3\n",
      "18\n",
      "2.0\n"
     ]
    }
   ],
   "source": [
    "class math_operatins:\n",
    "    def __init__(self,a,b):\n",
    "        self.a = a\n",
    "        self.b = b\n",
    "        \n",
    "    def addition(self):\n",
    "        return self.a+self.b\n",
    "    def subtraction(self):\n",
    "        return self.a-self.b\n",
    "    def multiplication(self):\n",
    "        return self.a*self.b\n",
    "    def division(self):\n",
    "        return self.a/self.b\n",
    "    \n",
    "operation = math_operatins(6,3)\n",
    "print(operation.addition())\n",
    "print(operation.subtraction())\n",
    "print(operation.multiplication())\n",
    "print(operation.division())"
   ]
  },
  {
   "cell_type": "code",
   "execution_count": null,
   "metadata": {},
   "outputs": [],
   "source": []
  }
 ],
 "metadata": {
  "kernelspec": {
   "display_name": "Python 3",
   "language": "python",
   "name": "python3"
  },
  "language_info": {
   "codemirror_mode": {
    "name": "ipython",
    "version": 3
   },
   "file_extension": ".py",
   "mimetype": "text/x-python",
   "name": "python",
   "nbconvert_exporter": "python",
   "pygments_lexer": "ipython3",
   "version": "3.8.0"
  },
  "varInspector": {
   "cols": {
    "lenName": 16,
    "lenType": 16,
    "lenVar": 40
   },
   "kernels_config": {
    "python": {
     "delete_cmd_postfix": "",
     "delete_cmd_prefix": "del ",
     "library": "var_list.py",
     "varRefreshCmd": "print(var_dic_list())"
    },
    "r": {
     "delete_cmd_postfix": ") ",
     "delete_cmd_prefix": "rm(",
     "library": "var_list.r",
     "varRefreshCmd": "cat(var_dic_list()) "
    }
   },
   "types_to_exclude": [
    "module",
    "function",
    "builtin_function_or_method",
    "instance",
    "_Feature"
   ],
   "window_display": false
  }
 },
 "nbformat": 4,
 "nbformat_minor": 4
}
