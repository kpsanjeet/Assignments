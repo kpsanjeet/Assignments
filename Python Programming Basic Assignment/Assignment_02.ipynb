{
 "cells": [
  {
   "cell_type": "markdown",
   "metadata": {},
   "source": [
    "# Questions"
   ]
  },
  {
   "cell_type": "markdown",
   "metadata": {},
   "source": [
    "1.Write a Python program to convert kilometers to miles? <br>\n",
    "2.Write a Python program to convert Celsius to Fahrenheit? <br>\n",
    "3.Write a Python program to display calendar? <br>\n",
    "4.Write a Python program to solve quadratic equation? <br>\n",
    "5.Write a Python program to swap two variables without temp variable? <br>"
   ]
  },
  {
   "cell_type": "markdown",
   "metadata": {},
   "source": [
    "# Answers"
   ]
  },
  {
   "cell_type": "markdown",
   "metadata": {},
   "source": [
    "# 1 :"
   ]
  },
  {
   "cell_type": "code",
   "execution_count": 2,
   "metadata": {},
   "outputs": [
    {
     "data": {
      "text/plain": [
       "12.42742384"
      ]
     },
     "execution_count": 2,
     "metadata": {},
     "output_type": "execute_result"
    }
   ],
   "source": [
    "def Km_to_Miles(distance):\n",
    "    \"\"\" This function use to change unit of distance from Kilometers to miles\n",
    "        1 km => 0.621371192 miles\n",
    "    \"\"\"\n",
    "    return distance*0.621371192\n",
    "\n",
    "Km_to_Miles(20)"
   ]
  },
  {
   "cell_type": "markdown",
   "metadata": {},
   "source": [
    "# 2 :"
   ]
  },
  {
   "cell_type": "code",
   "execution_count": null,
   "metadata": {},
   "outputs": [],
   "source": [
    "F = °C×(9/5)+32. "
   ]
  },
  {
   "cell_type": "code",
   "execution_count": 3,
   "metadata": {},
   "outputs": [
    {
     "data": {
      "text/plain": [
       "212.0"
      ]
     },
     "execution_count": 3,
     "metadata": {},
     "output_type": "execute_result"
    }
   ],
   "source": [
    "def Celsius_to_Fahrenheit(c):\n",
    "    \"\"\" This fuction use to change the unit of temperature from Celsius to Fahrenheit.\n",
    "        \n",
    "        Input :\n",
    "            c => Temperature in 'celsius'\n",
    "        Output :\n",
    "            Return temperature in Fahrenheit\"\"\"\n",
    "    \n",
    "    return c*(9/5)+32\n",
    "\n",
    "Celsius_to_Fahrenheit(100)"
   ]
  },
  {
   "cell_type": "markdown",
   "metadata": {},
   "source": [
    "# 3 :"
   ]
  },
  {
   "cell_type": "code",
   "execution_count": 5,
   "metadata": {},
   "outputs": [
    {
     "name": "stdout",
     "output_type": "stream",
     "text": [
      "     March 2022\n",
      "Mo Tu We Th Fr Sa Su\n",
      "    1  2  3  4  5  6\n",
      " 7  8  9 10 11 12 13\n",
      "14 15 16 17 18 19 20\n",
      "21 22 23 24 25 26 27\n",
      "28 29 30 31\n",
      "\n"
     ]
    }
   ],
   "source": [
    "import calendar\n",
    "   \n",
    "yy = 2017\n",
    "mm = 11\n",
    "   \n",
    "\n",
    "def Calendar(yy,mm):\n",
    "    \"\"\" This can show you the calendar of given year and month.\n",
    "        \n",
    "        Input :\n",
    "            yy => Year\n",
    "            mm => Month\n",
    "        Output :\n",
    "            Retun calender.\"\"\"\n",
    "    \n",
    "    print(calendar.month(yy, mm))\n",
    "    \n",
    "    \n",
    "Calendar(2022,3)"
   ]
  },
  {
   "cell_type": "markdown",
   "metadata": {},
   "source": [
    "# 4 :"
   ]
  },
  {
   "cell_type": "code",
   "execution_count": 13,
   "metadata": {},
   "outputs": [
    {
     "data": {
      "text/plain": [
       "((-0.24999999999999992+1.5612494995995996j),\n",
       " (-0.2500000000000001-1.5612494995995996j))"
      ]
     },
     "execution_count": 13,
     "metadata": {},
     "output_type": "execute_result"
    }
   ],
   "source": [
    "# f(x) = ax^2 + bx + c where a, b, c, ∈ R and a ≠ 0where a, b, c, ∈ R and a ≠ 0\n",
    "\n",
    "def solve_quadratic(a,b,c):\n",
    "    \"\"\" This function can find the roots of a Quadratic equation.\n",
    "        f(x) = ax^2 + bx + c where a, b, c, ∈ R and a ≠ 0where a, b, c, ∈ R and a ≠ 0\n",
    "        \n",
    "        Input :\n",
    "            a => Coefficient of X^2\n",
    "            b => Coefficient of X^1\n",
    "            c => Coefficient of x^0\n",
    "        Output :\n",
    "            Return the roots of the Quadratic Equation.\"\"\"\n",
    "    \n",
    "    x1 = (-b + (b**2-4*a*c)**(1/2))/(2*a)\n",
    "    x2 = (-b - (b**2-4*a*c)**(1/2))/(2*a)\n",
    "    return x1,x2\n",
    " \n",
    "solve_quadratic(2,1,5)"
   ]
  },
  {
   "cell_type": "markdown",
   "metadata": {},
   "source": [
    "# 5 :"
   ]
  },
  {
   "cell_type": "code",
   "execution_count": 14,
   "metadata": {},
   "outputs": [
    {
     "name": "stdout",
     "output_type": "stream",
     "text": [
      "a =  6\n",
      "b =  4\n"
     ]
    }
   ],
   "source": [
    "a = 4\n",
    "b = 6\n",
    "a,b = b,a\n",
    "print(\"a = \",a)\n",
    "print(\"b = \",b)"
   ]
  }
 ],
 "metadata": {
  "kernelspec": {
   "display_name": "Python 3",
   "language": "python",
   "name": "python3"
  },
  "language_info": {
   "codemirror_mode": {
    "name": "ipython",
    "version": 3
   },
   "file_extension": ".py",
   "mimetype": "text/x-python",
   "name": "python",
   "nbconvert_exporter": "python",
   "pygments_lexer": "ipython3",
   "version": "3.8.0"
  },
  "varInspector": {
   "cols": {
    "lenName": 16,
    "lenType": 16,
    "lenVar": 40
   },
   "kernels_config": {
    "python": {
     "delete_cmd_postfix": "",
     "delete_cmd_prefix": "del ",
     "library": "var_list.py",
     "varRefreshCmd": "print(var_dic_list())"
    },
    "r": {
     "delete_cmd_postfix": ") ",
     "delete_cmd_prefix": "rm(",
     "library": "var_list.r",
     "varRefreshCmd": "cat(var_dic_list()) "
    }
   },
   "types_to_exclude": [
    "module",
    "function",
    "builtin_function_or_method",
    "instance",
    "_Feature"
   ],
   "window_display": false
  }
 },
 "nbformat": 4,
 "nbformat_minor": 4
}
