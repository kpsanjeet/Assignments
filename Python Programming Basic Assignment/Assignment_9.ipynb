{
 "cells": [
  {
   "cell_type": "markdown",
   "metadata": {},
   "source": [
    "# Questions"
   ]
  },
  {
   "cell_type": "markdown",
   "metadata": {},
   "source": [
    "1. Write a Python program to check if the given number is a Disarium Number?\n",
    "2. Write a Python program to print all disarium numbers between 1 to 100?\n",
    "3. Write a Python program to check if the given number is Happy Number?\n",
    "4. Write a Python program to print all happy numbers between 1 and 100?\n",
    "5. Write a Python program to determine whether the given number is a Harshad Number?<br>\n",
    "6. Write a Python program to print all pronic numbers between 1 and 100?"
   ]
  },
  {
   "cell_type": "markdown",
   "metadata": {},
   "source": [
    "# Answers"
   ]
  },
  {
   "cell_type": "markdown",
   "metadata": {},
   "source": [
    "# 1 :"
   ]
  },
  {
   "cell_type": "code",
   "execution_count": 3,
   "metadata": {},
   "outputs": [
    {
     "name": "stdout",
     "output_type": "stream",
     "text": [
      "11 is not a Disarium Number.\n",
      "89 is a Disarium Number.\n",
      "96 is not a Disarium Number.\n",
      "135 is a Disarium Number.\n"
     ]
    }
   ],
   "source": [
    "def DisariumNumber(num):\n",
    "    snum = str(num)\n",
    "    sum_ = sum([(int(snum[i]))**(i+1) for i in range(len(snum))])\n",
    "    if num == sum_:\n",
    "        return f\"{num} is a Disarium Number.\"\n",
    "    else:\n",
    "        return f\"{num} is not a Disarium Number.\"\n",
    "    \n",
    "print(DisariumNumber(11))\n",
    "print(DisariumNumber(89))\n",
    "print(DisariumNumber(96))\n",
    "print(DisariumNumber(135))"
   ]
  },
  {
   "cell_type": "markdown",
   "metadata": {},
   "source": [
    "# 2 :"
   ]
  },
  {
   "cell_type": "code",
   "execution_count": 4,
   "metadata": {},
   "outputs": [
    {
     "name": "stdout",
     "output_type": "stream",
     "text": [
      "1\n",
      "2\n",
      "3\n",
      "4\n",
      "5\n",
      "6\n",
      "7\n",
      "8\n",
      "9\n",
      "89\n"
     ]
    }
   ],
   "source": [
    "def DisariumNumber(num):\n",
    "    snum = str(num)\n",
    "    sum_ = sum([(int(snum[i]))**(i+1) for i in range(len(snum))])\n",
    "    if num == sum_:\n",
    "        return True\n",
    "    else:\n",
    "        return False\n",
    "    \n",
    "    \n",
    "for i in range(1,101):\n",
    "    if DisariumNumber(i):\n",
    "        print(i)"
   ]
  },
  {
   "cell_type": "markdown",
   "metadata": {},
   "source": [
    "# 3 :"
   ]
  },
  {
   "cell_type": "code",
   "execution_count": 37,
   "metadata": {},
   "outputs": [
    {
     "name": "stdout",
     "output_type": "stream",
     "text": [
      "Enter a number = 97\n",
      "130\n",
      "10\n",
      "1\n",
      "97 is a Happy Number\n"
     ]
    }
   ],
   "source": [
    "def isHappyNumber(num):\n",
    "    set_ = set()\n",
    "    while True:\n",
    "        snum = str(num)\n",
    "        sum_sqr = sum([(int(i))**2 for i in snum])\n",
    "        print(sum_sqr)\n",
    "        if sum_sqr == 1:\n",
    "            return True\n",
    "        if sum_sqr in set_:\n",
    "            return False\n",
    "        num = sum_sqr\n",
    "        set_.add(sum_sqr)\n",
    "        \n",
    "num = int(input(\"Enter a number = \"))\n",
    "if isHappyNumber(num):\n",
    "    print(f\"{num} is a Happy Number\")\n",
    "else:\n",
    "    print(f\"{num} is not a Happy Number\")"
   ]
  },
  {
   "cell_type": "markdown",
   "metadata": {},
   "source": [
    "# 4 :"
   ]
  },
  {
   "cell_type": "code",
   "execution_count": 35,
   "metadata": {
    "scrolled": false
   },
   "outputs": [
    {
     "name": "stdout",
     "output_type": "stream",
     "text": [
      "1 is a Happy Number\n",
      "7 is a Happy Number\n",
      "10 is a Happy Number\n",
      "13 is a Happy Number\n",
      "19 is a Happy Number\n",
      "23 is a Happy Number\n",
      "28 is a Happy Number\n",
      "31 is a Happy Number\n",
      "32 is a Happy Number\n",
      "44 is a Happy Number\n",
      "49 is a Happy Number\n",
      "68 is a Happy Number\n",
      "70 is a Happy Number\n",
      "79 is a Happy Number\n",
      "82 is a Happy Number\n",
      "86 is a Happy Number\n",
      "91 is a Happy Number\n",
      "94 is a Happy Number\n",
      "97 is a Happy Number\n",
      "100 is a Happy Number\n"
     ]
    }
   ],
   "source": [
    "def isHappyNumber(num):\n",
    "    set_ = set()\n",
    "    while True:\n",
    "        snum = str(num)\n",
    "        sum_sqr = sum([(int(i))**2 for i in snum])\n",
    "        if sum_sqr == 1:\n",
    "            return True\n",
    "        if sum_sqr in set_:\n",
    "            return False\n",
    "        num = sum_sqr\n",
    "        set_.add(sum_sqr)\n",
    "        \n",
    "for i in range(1,101):\n",
    "    if isHappyNumber(i):\n",
    "        print(f\"{i} is a Happy Number\")"
   ]
  },
  {
   "cell_type": "markdown",
   "metadata": {},
   "source": [
    "# 5 :"
   ]
  },
  {
   "cell_type": "code",
   "execution_count": 42,
   "metadata": {},
   "outputs": [
    {
     "name": "stdout",
     "output_type": "stream",
     "text": [
      "Enter a number = 13\n",
      "13 is not a Harshad Number\n"
     ]
    }
   ],
   "source": [
    "def isHarshadNumber(num):\n",
    "    snum = str(num)\n",
    "    sum_ = sum([int(i) for i in snum])\n",
    "    if num%sum_ == 0:\n",
    "        return True\n",
    "    else:\n",
    "        return False\n",
    "    \n",
    "num = int(input(\"Enter a number = \"))\n",
    "if isHarshadNumber(num):\n",
    "    print(f\"{num} is a Harshad Number\")\n",
    "else:\n",
    "    print(f\"{num} is not a Harshad Number\")"
   ]
  },
  {
   "cell_type": "markdown",
   "metadata": {},
   "source": [
    "# 6 :"
   ]
  },
  {
   "cell_type": "code",
   "execution_count": 43,
   "metadata": {},
   "outputs": [
    {
     "name": "stdout",
     "output_type": "stream",
     "text": [
      "2 is a Pronic Number\n",
      "6 is a Pronic Number\n",
      "12 is a Pronic Number\n",
      "20 is a Pronic Number\n",
      "30 is a Pronic Number\n",
      "42 is a Pronic Number\n",
      "56 is a Pronic Number\n",
      "72 is a Pronic Number\n",
      "90 is a Pronic Number\n"
     ]
    }
   ],
   "source": [
    "import math\n",
    " \n",
    "def isPronicNumber(num):\n",
    " \n",
    "    n = 0\n",
    "    while n <= int(math.sqrt(num)):\n",
    "         \n",
    "        if num == n * (n + 1):\n",
    "            return True\n",
    "        n = n + 1\n",
    "        \n",
    "    return False\n",
    "\n",
    "for i in range(1,101):\n",
    "    if isPronicNumber(i):\n",
    "        print(f\"{i} is a Pronic Number\")"
   ]
  },
  {
   "cell_type": "code",
   "execution_count": null,
   "metadata": {},
   "outputs": [],
   "source": []
  }
 ],
 "metadata": {
  "kernelspec": {
   "display_name": "Python 3",
   "language": "python",
   "name": "python3"
  },
  "language_info": {
   "codemirror_mode": {
    "name": "ipython",
    "version": 3
   },
   "file_extension": ".py",
   "mimetype": "text/x-python",
   "name": "python",
   "nbconvert_exporter": "python",
   "pygments_lexer": "ipython3",
   "version": "3.8.0"
  },
  "varInspector": {
   "cols": {
    "lenName": 16,
    "lenType": 16,
    "lenVar": 40
   },
   "kernels_config": {
    "python": {
     "delete_cmd_postfix": "",
     "delete_cmd_prefix": "del ",
     "library": "var_list.py",
     "varRefreshCmd": "print(var_dic_list())"
    },
    "r": {
     "delete_cmd_postfix": ") ",
     "delete_cmd_prefix": "rm(",
     "library": "var_list.r",
     "varRefreshCmd": "cat(var_dic_list()) "
    }
   },
   "types_to_exclude": [
    "module",
    "function",
    "builtin_function_or_method",
    "instance",
    "_Feature"
   ],
   "window_display": false
  }
 },
 "nbformat": 4,
 "nbformat_minor": 4
}
